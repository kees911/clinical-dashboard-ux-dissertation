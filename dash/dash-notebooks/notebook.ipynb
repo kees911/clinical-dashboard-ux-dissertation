{
 "cells": [
  {
   "cell_type": "code",
   "execution_count": null,
   "metadata": {},
   "outputs": [],
   "source": [
    "# synpuff.ipynb content\n",
    "import pandas as pd\n",
    "pd.set_option(\"display.max_rows\", None, \"mode.chained_assignment\", None)\n",
    "from itertools import chain\n",
    "\n",
    "import numpy as np\n",
    "import datetime as dt"
   ]
  },
  {
   "cell_type": "code",
   "execution_count": null,
   "metadata": {},
   "outputs": [],
   "source": [
    "from dash import Dash, html, dcc, Input, Output, callback\n",
    "import plotly.express as px\n",
    "import plotly\n",
    "import plotly.offline\n",
    "import plotly.graph_objs as go"
   ]
  },
  {
   "cell_type": "code",
   "execution_count": null,
   "metadata": {},
   "outputs": [],
   "source": [
    "'''Georgie's code'''\n",
    "# copy the data to your drive and then modify this path as required\n",
    "\n",
    "folder = 'synpuff/'\n",
    "\n",
    "# base query for generating the cohort\n",
    "concept = pd.read_csv('synpuff/CONCEPT.csv')\n",
    "condition_occurrence = pd.read_csv('synpuff/CONDITION_OCCURRENCE.csv')\n",
    "drug_exposure = pd.read_csv('synpuff/DRUG_EXPOSURE.csv')\n",
    "observation = pd.read_csv('synpuff/OBSERVATION.csv')\n",
    "person = pd.read_csv('synpuff/PERSON.csv')\n",
    "procedure_occurrence = pd.read_csv('synpuff/PROCEDURE_OCCURRENCE.csv')\n",
    "hierarchy = pd.read_csv('synpuff/hierarchy.csv')\n",
    "props = pd.read_csv('synpuff/hemonc_component_properties.csv')"
   ]
  },
  {
   "cell_type": "code",
   "execution_count": null,
   "metadata": {},
   "outputs": [],
   "source": [
    "'''Ivy's code'''\n",
    "#rxnorm = props[props['vocabulary_id']=='RxNorm']\n",
    "#list of valid drug categories from Ivy from RxNorm/HemOnc\n",
    "sact=['Alkylating agent', 'Anti-CD38 antibody', 'Anti-CTLA-4 antibody', 'Anti-TACSTD2 antibody-drug conjugate', 'Anthracycline', 'Antiandrogen', 'Antifolate',\n",
    "'Antimetabolite', 'Antitumor antibiotic', 'Anti-CD52 antibody', 'Anti-CD20 antibody', 'Anti-EGFR antibody', 'Anti-HER2 antibody', 'Anti-CD38 antibody', 'Anti-PD-1 antibody',\n",
    "'Anti-PD-L1 antibody', 'Anti-RANKL antibody', 'Anti-SLAMF7 antibody','Anti-VEGF antibody', 'Aromatase inhibitor', 'Aromatase inhibitorsthird generation',\n",
    "'Biosimilar', 'BRAF inhibitor', 'DNA methyltransferase inhibitor', 'Deoxycytidine analog', 'EGFR inhibitor', 'ERBB 2 inhibitor', 'Estrogen receptor inhibitor',\n",
    "'Folic acid analog', 'Fluoropyrimidine', 'GnRH agonist', 'HDAC inhibitor', 'Human DNA synthesisinhibitor', 'Microtubule inhibitor', 'MTOR inhibitor',\n",
    "'Nitrogen mustard', 'Nitrosourea', 'Neutral', 'PARP inhibitor', 'PARP1 inhibitor', 'PARP2 inhibitor', 'Phenothiazine', 'Platinum agent', 'Proteasome inhibitor',\n",
    "'Purine analog', 'Pyrimidine analog', 'RANK ligand inhibitor', 'Selective estrogen receptor modulator', 'Somatostatin analog', 'T-cell activator',\n",
    "'Targeted therapeutic', 'Taxane', 'Topoisomerase I inhibitor', 'Topoisomerase II inhibitor', 'Triazene', 'Vinca alkaloid', 'Xanthine oxidase inhibitor',\n",
    "'WHO Essential Cancer Medicine']\n",
    "#rxnorm = rxnorm[rxnorm['component_class_name'].isin(sact)]\n",
    "props=props[props['component_class_name'].isin(sact)]\n",
    "antican = props['concept_id_2']\n",
    "drug_exposure=drug_exposure[drug_exposure['drug_concept_id'].isin(antican)]\n",
    "#rxnorm['component_class_name'].value_counts()"
   ]
  },
  {
   "cell_type": "code",
   "execution_count": null,
   "metadata": {},
   "outputs": [],
   "source": [
    "\n",
    "# make labels from mapping concept IDs to concept labels\n",
    "concept_lookup = {c.concept_id: c.concept_name for c in concept.itertuples()}\n"
   ]
  },
  {
   "cell_type": "code",
   "execution_count": null,
   "metadata": {},
   "outputs": [],
   "source": [
    "def make_labels(df):\n",
    "    for c in df.columns:\n",
    "        if 'concept_id' in c:\n",
    "            df[c.replace('_id', '_label')] = df[c].map(concept_lookup)\n",
    "        if 'concept_id' in c or 'source' in c or len(df[df[c].notna()])==0:\n",
    "            df = df.drop(c, axis=1)\n",
    "    return df\n"
   ]
  },
  {
   "cell_type": "code",
   "execution_count": null,
   "metadata": {},
   "outputs": [],
   "source": [
    "condition_occurrence_labelled = make_labels(condition_occurrence)\n",
    "drug_exposure_labelled = make_labels(drug_exposure)\n",
    "observation_labelled = make_labels(observation)\n",
    "person_labelled = make_labels(person)\n",
    "procedure_occurrence_labelled = make_labels(procedure_occurrence)"
   ]
  },
  {
   "cell_type": "code",
   "execution_count": null,
   "metadata": {},
   "outputs": [],
   "source": [
    "drug_exposure_labelled['drug_concept_label'].value_counts()"
   ]
  },
  {
   "cell_type": "code",
   "execution_count": null,
   "metadata": {},
   "outputs": [],
   "source": [
    "'''Applying extra filters to drug df'''\n",
    "drug_exposure_labelled['drug_exposure_start_date'] = pd.to_datetime(drug_exposure_labelled.drug_exposure_start_date, format='%Y-%m-%d')\n",
    "drug_exposure_labelled['drug_exposure_year'] = drug_exposure_labelled['drug_exposure_start_date'].dt.year\n",
    "#drug_exposure_labelled.head()"
   ]
  },
  {
   "cell_type": "code",
   "execution_count": null,
   "metadata": {},
   "outputs": [],
   "source": [
    "exclusions = ['dexamethasone']\n",
    "drug_exposure_labelled=drug_exposure_labelled[~drug_exposure_labelled['drug_concept_label'].isin(exclusions)]\n"
   ]
  },
  {
   "cell_type": "code",
   "execution_count": null,
   "metadata": {},
   "outputs": [],
   "source": [
    "'''if required, mask by a particular condition or set of conditions\n",
    "\n",
    "# filter only by occurrences of Squamous cell carcinoma, NOS, of glottis\n",
    "glottis = condition_occurrence[condition_occurrence.condition_concept_id==44500236]\n",
    "# patient IDs matching this occurrence\n",
    "glottis_patients = glottis.person_id.tolist()\n",
    "# mask the drug exposures only by people matching the condition\n",
    "mask = drug_exposure_labelled['person_id'].isin(glottis_patients)\n",
    "masked = drug_exposure_labelled[mask]\n",
    "'''"
   ]
  },
  {
   "cell_type": "code",
   "execution_count": null,
   "metadata": {},
   "outputs": [],
   "source": [
    "'''Data Linkage'''\n",
    "person_labelled_small= person_labelled.loc[:,['person_id', 'year_of_birth', 'gender_concept_label']]\n",
    "drug_persons = pd.merge(drug_exposure_labelled, person_labelled_small, on='person_id', how='left')\n"
   ]
  },
  {
   "cell_type": "code",
   "execution_count": null,
   "metadata": {},
   "outputs": [],
   "source": [
    "condition_labelled_small= condition_occurrence_labelled.loc[:,['person_id', 'condition_concept_label']]\n",
    "condition_labelled_small['occ_number'] = 'cond_' + (condition_labelled_small.groupby('person_id').cumcount()).astype(str) \n",
    "condition_labelled_small.head()\n"
   ]
  },
  {
   "cell_type": "code",
   "execution_count": null,
   "metadata": {},
   "outputs": [],
   "source": [
    "#drug_persons[drug_persons['person_id']==2310508].head()"
   ]
  },
  {
   "cell_type": "code",
   "execution_count": null,
   "metadata": {},
   "outputs": [],
   "source": [
    "drug_persons['age_at_treatment'] = drug_persons['drug_exposure_year'] - drug_persons['year_of_birth']\n",
    "#drug_persons[drug_persons['person_id']==2310508].head()"
   ]
  },
  {
   "cell_type": "code",
   "execution_count": null,
   "metadata": {},
   "outputs": [],
   "source": [
    "cond_pivot = condition_labelled_small.pivot(index='person_id', columns='occ_number', values='condition_concept_label').reset_index()\n",
    "drug_persons = pd.merge(drug_persons, cond_pivot, on='person_id', how='left')"
   ]
  },
  {
   "cell_type": "code",
   "execution_count": null,
   "metadata": {},
   "outputs": [],
   "source": [
    "drug_persons.head()"
   ]
  },
  {
   "cell_type": "code",
   "execution_count": null,
   "metadata": {},
   "outputs": [],
   "source": [
    "'''Shrinking dataframe'''\n",
    "#reduce DF down to relevant variables for the visualization\n",
    "small = drug_persons[['person_id', 'drug_exposure_start_datetime', 'drug_concept_label', 'drug_exposure_year', 'gender_concept_label', 'age_at_treatment', 'cond_0', 'cond_1', 'cond_2', 'cond_3', 'cond_4', 'cond_5', 'cond_6']]\n",
    "small_sorted = small.sort_values('drug_concept_label')\n",
    "small['drug_concept_label'] = small_sorted.groupby(['person_id', 'drug_exposure_start_datetime'])['drug_concept_label'].transform(lambda x : ' & '.join(x))\n",
    "\n",
    "small_nodup = small_sorted.drop_duplicates()\n",
    "small['person_id'].value_counts()\n",
    "#small_nodup['drug_concept_label']=small_nodup['drug_concept_label'].str.replace('& ', '&<br>')"
   ]
  },
  {
   "cell_type": "code",
   "execution_count": null,
   "metadata": {},
   "outputs": [],
   "source": [
    "# add new variable for every new drug administration per person\n",
    "readministrations = pd.Series(np.zeros(len(small_nodup),dtype=int),index=small_nodup.index)"
   ]
  },
  {
   "cell_type": "code",
   "execution_count": null,
   "metadata": {},
   "outputs": [],
   "source": [
    "# Loop through all unique ids                                                                                                                                                                                      \n",
    "all_id = small_nodup['person_id'].unique()\n",
    "id_administrations = {}\n",
    "for pid in all_id:\n",
    "    # These are all the times a patient with a given ID has had surgery                                                                                                                                            \n",
    "    patient = small_nodup.loc[small_nodup['person_id']==pid]\n",
    "    administrations_sorted = pd.to_datetime(patient['drug_exposure_start_datetime'], format='%Y-%m-%d %H:%M:%S').sort_values()\n",
    "\n",
    "# This checks if the previous surgery was longer than 180 days ago                                                                                                                                              \n",
    "    frequency = administrations_sorted.diff()<dt.timedelta(days=6000)\n",
    "\n",
    "    # Compute the readmission                                                                                                                                                                                      \n",
    "    n_administrations = [0]\n",
    "    for v in frequency.values[1:]:\n",
    "       n_administrations.append((n_administrations[-1]+1)*v)\n",
    "\n",
    "    # Add these value to the time series                                                                                                                                                                           \n",
    "    readministrations.loc[administrations_sorted.index] = n_administrations\n"
   ]
  },
  {
   "cell_type": "code",
   "execution_count": null,
   "metadata": {},
   "outputs": [],
   "source": [
    "small_nodup['readministration'] = readministrations"
   ]
  },
  {
   "cell_type": "code",
   "execution_count": null,
   "metadata": {},
   "outputs": [],
   "source": [
    "small_nodup['drug_concept_label'] = small_nodup['drug_concept_label'] + (small_nodup['readministration'].apply(lambda x: x*' '))"
   ]
  },
  {
   "cell_type": "code",
   "execution_count": null,
   "metadata": {},
   "outputs": [],
   "source": [
    "small_nodup.head()"
   ]
  },
  {
   "cell_type": "code",
   "execution_count": null,
   "metadata": {},
   "outputs": [],
   "source": [
    "#pivot the DF from long to wide\n",
    "pivoted = small_nodup.pivot(index='person_id', columns='readministration', values='drug_concept_label').reset_index()\n",
    "# add the prefix 'drug' to every instance\n",
    "prefixed = pivoted.add_prefix('drug')\n",
    "#remove the word 'drug' from other variables\n",
    "df = prefixed.rename(columns={\"drugperson_id\": \"person_id\", \"readministration\":\"index\"})\n",
    "#add a value of 1 to all data points for sums in the visualization\n",
    "df[\"count\"] = 1"
   ]
  },
  {
   "cell_type": "code",
   "execution_count": null,
   "metadata": {},
   "outputs": [],
   "source": [
    "pivoted.head()"
   ]
  },
  {
   "cell_type": "code",
   "execution_count": null,
   "metadata": {},
   "outputs": [],
   "source": [
    "#df = renamed\n",
    "df"
   ]
  },
  {
   "cell_type": "code",
   "execution_count": null,
   "metadata": {},
   "outputs": [],
   "source": [
    "def genSankey(df, cat_cols=[], value_cols='', title='Sankey Diagram'):\n",
    "    #color palette\n",
    "    #skip\n",
    "    labelList = []\n",
    "    colorNumList = []\n",
    "    for catCol in cat_cols:\n",
    "        labelListTemp = list(set(df[catCol].values))\n",
    "        colorNumList.append(len(labelListTemp))\n",
    "        labelList = labelList + labelListTemp\n",
    "    \n",
    "    #remove duplicates from labelList\n",
    "    labelList = list(dict.fromkeys(labelList))\n",
    "    \n",
    "    labelList2 = labelList.copy()\n",
    "    for i in range(len(labelList2)):\n",
    "        if labelList2[i] == labelList2[i]:\n",
    "            labelList2[i] = (labelList2[i])[:3]\n",
    "    \n",
    "    #print(labelList2)\n",
    "    colorlist = np.unique(labelList2, return_inverse=1)[1].tolist()\n",
    "    for i in range(len(colorlist)):\n",
    "        if colorlist[i] == colorlist[i]:\n",
    "            colorlist[i] = (colorlist[i])%9\n",
    "    print(colorlist)\n",
    "    \n",
    "    #define colors based on number of levels\n",
    "    #skip\n",
    "\n",
    "    #transform df into asource-target pair\n",
    "    for i in range(len(cat_cols)-1):\n",
    "        if i==0:\n",
    "            sourceTargetDf = df[[cat_cols[i], cat_cols[i+1], value_cols]]\n",
    "            sourceTargetDf.columns = ['source', 'target', 'count']\n",
    "        else:\n",
    "            tempDf = df[[cat_cols[i], cat_cols[i+1], value_cols]]\n",
    "            tempDf.columns = ['source', 'target', 'count']\n",
    "            sourceTargetDf = pd.concat([sourceTargetDf, tempDf])\n",
    "        sourceTargetDf = sourceTargetDf.groupby(['source','target']).agg({'count':'sum'}).reset_index()\n",
    "    \n",
    "    #add index for source-target pairs\n",
    "    sourceTargetDf['sourceID'] = sourceTargetDf['source'].apply(lambda x:labelList.index(x))\n",
    "    sourceTargetDf['targetID'] = sourceTargetDf['target'].apply(lambda x:labelList.index(x))\n",
    "\n",
    "    nodes = np.unique(sourceTargetDf[[\"sourceID\", \"targetID\"]], axis=None)\n",
    "    nodes = pd.Series(index=nodes, data=range(len(nodes)))\n",
    "\n",
    "    #sankey format/color specs by Rob Raymond on StackOverflow\n",
    "    fig = go.Figure(\n",
    "        go.Sankey(\n",
    "            node = {\n",
    "                \"label\": labelList,\n",
    "                \"color\":[\n",
    "                    #px.colors.qualitative.Set1[df[''] % 9]\n",
    "                    #for i in nodes\n",
    "                    px.colors.qualitative.Set1[colorlist[i]]\n",
    "                    for i in nodes\n",
    "                ]\n",
    "            },\n",
    "            link = {\n",
    "                \"source\": sourceTargetDf[\"sourceID\"],\n",
    "                \"target\": sourceTargetDf[\"targetID\"],\n",
    "                \"value\": sourceTargetDf[\"count\"]\n",
    "                #,\n",
    "                #\"color\": [\n",
    "                    #px.colors.qualitative.Pastel1[df[''] % 9]\n",
    "                    #for i in nodes.loc[sourceTargetDf[\"sourceID\"]]\n",
    "                    #px.colors.qualitative.Pastel1[colorlist]\n",
    "                    #for i in nodes.loc[sourceTargetDf[\"sourceID\"]]\n",
    "                #],\n",
    "            },\n",
    "        )\n",
    "    )\n",
    "\n",
    "    return fig"
   ]
  },
  {
   "cell_type": "code",
   "execution_count": null,
   "metadata": {},
   "outputs": [],
   "source": [
    "'''dash'''\n",
    "app = Dash(__name__)"
   ]
  },
  {
   "cell_type": "code",
   "execution_count": null,
   "metadata": {},
   "outputs": [],
   "source": [
    "app.layout = html.Div(children=[\n",
    "    html.H1(children='Sankey', style={'textAlign':'center'}),\n",
    "\n",
    "    #Left menu\n",
    "    html.Div([\n",
    "        html.P(children='First Drug', style={'textAlign':'left'}),\n",
    "        # first treatment\n",
    "        dcc.Checklist(\n",
    "            ['fluorouracil',\n",
    "            'capecitabine',\n",
    "            'cisplatin',\n",
    "            'docetaxel',\n",
    "            'gemcitabine',\n",
    "            'carboplatin',\n",
    "            'pembrolizumab',\n",
    "            'paclitaxel',\n",
    "            'allopurinol',\n",
    "            'promethazine',\n",
    "            'cetuximab',\n",
    "            'prochlorperazine',\n",
    "            'pemetrexed',\n",
    "            'epirubicin',\n",
    "            'etoposide',\n",
    "            'prednisolone',\n",
    "            'azacitidine',\n",
    "            'vinorelbine',\n",
    "            'cemiplimab',\n",
    "            'dacarbazine',\n",
    "            'rituximab',\n",
    "            'leucovorin',\n",
    "            'oxaliplatin',\n",
    "            'zoledronic acid'],\n",
    "            ['cisplatin','carboplatin'],\n",
    " id='first_treatment'\n",
    "        ),\n",
    "        html.P(children='Gender', style={'textAlign':'left'}),\n",
    "        dcc.Checklist(\n",
    "            ['MALE', 'FEMALE'],\n",
    "            ['MALE', 'FEMALE'],\n",
    " id='person_gender'\n",
    "        ),\n",
    "        html.P(children='Treatment Year', style={'textAlign':'left'}),\n",
    "        dcc.Checklist(\n",
    "            [2008, 2009, 2010, 2011, 2012, \n",
    "            2013, 2014, 2015, 2016, 2017,\n",
    "            2018, 2019, 2020, 2021, 2022],\n",
    "            [2012, \n",
    "            2013, 2014, 2015, 2016, 2017,\n",
    "            2018, 2019, 2020, 2021, 2022],\n",
    " id='treatment_year'\n",
    "        )\n",
    "], style={'display':'inline-block', 'width':'10%'}),\n",
    "\n",
    "    #Right main\n",
    "    html.Div(\n",
    "        [\n",
    "            #Graph container\n",
    "            html.Div(\n",
    "                dcc.Graph(\n",
    "                    id='hn_sankey'\n",
    "                    )\n",
    "            ),\n",
    "\n",
    "            #Slider container\n",
    "            html.Div(\n",
    "                dcc.Slider(\n",
    "                    min=0,max=118,\n",
    "                    value=10,\n",
    "                    id='sankey_slider'\n",
    "                    )\n",
    "            )\n",
    "        ], style={'display':'inline-block', 'width':'90%', 'height':'100%'}\n",
    "    )\n",
    "])"
   ]
  },
  {
   "cell_type": "code",
   "execution_count": null,
   "metadata": {},
   "outputs": [],
   "source": [
    "#controls\n",
    "@callback(\n",
    "    Output(component_id='hn_sankey', component_property='figure', allow_duplicate=True),\n",
    "    Input(component_id='person_gender', component_property='value'),\n",
    "    Input(component_id='treatment_year', component_property='value'),\n",
    "    Input(component_id='first_treatment', component_property='value'),\n",
    "    Input(component_id='sankey_slider', component_property='value'),\n",
    "    prevent_initial_call=True\n",
    ")\n",
    "def update_graph(selected_genders, selected_years, selected_treatments, slider_value):\n",
    "    #filter DF from just after administration assignments by filters\n",
    "    nodup = nodup[nodup['gender_concept_label'].isin(selected_genders)]\n",
    "    nodup = nodup[nodup['drug_exposure_year'].isin(selected_years)]\n",
    "\n",
    "    #reshape DF\n",
    "    #pivot the DF from long to wide\n",
    "    pivoted = nodup.pivot(index='person_id', columns='readministration', values='drug_concept_label').reset_index()\n",
    "    # add the prefix 'drug' to every instance\n",
    "    prefixed = pivoted.add_prefix('drug')\n",
    "    #remove the word 'drug' from other variables\n",
    "    df = prefixed.rename(columns={\"drugperson_id\": \"person_id\", \"readministration\":\"index\"})\n",
    "    #add a value of 1 to all data points for sums in the visualization\n",
    "    df[\"count\"] = 1\n",
    "\n",
    "    #other filters\n",
    "    column_names = list(df.columns.values)\n",
    "    drug_num = column_names[1:slider_value+2] \n",
    "    dff = df[df['drug0'].isin(selected_treatments)]\n",
    "    return genSankey(dff, cat_cols=drug_num, value_cols='count', title='Sankey Diagram')"
   ]
  },
  {
   "cell_type": "code",
   "execution_count": null,
   "metadata": {},
   "outputs": [],
   "source": [
    "nodup = small_nodup"
   ]
  },
  {
   "cell_type": "code",
   "execution_count": null,
   "metadata": {},
   "outputs": [],
   "source": [
    "#run\n",
    "if __name__ == '__main__':\n",
    "    app.run(debug=True)"
   ]
  }
 ],
 "metadata": {
  "kernelspec": {
   "display_name": ".venv",
   "language": "python",
   "name": "python3"
  },
  "language_info": {
   "codemirror_mode": {
    "name": "ipython",
    "version": 3
   },
   "file_extension": ".py",
   "mimetype": "text/x-python",
   "name": "python",
   "nbconvert_exporter": "python",
   "pygments_lexer": "ipython3",
   "version": "3.11.7"
  }
 },
 "nbformat": 4,
 "nbformat_minor": 2
}
