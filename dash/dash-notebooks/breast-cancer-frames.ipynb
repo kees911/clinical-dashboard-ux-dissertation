{
 "cells": [
  {
   "cell_type": "code",
   "execution_count": 197,
   "metadata": {},
   "outputs": [],
   "source": [
    "# synpuff.ipynb content\n",
    "import pandas as pd\n",
    "pd.set_option(\"display.max_rows\", None, \"mode.chained_assignment\", None)\n",
    "from itertools import chain\n",
    "\n",
    "import numpy as np\n",
    "import datetime as dt"
   ]
  },
  {
   "cell_type": "code",
   "execution_count": 198,
   "metadata": {},
   "outputs": [],
   "source": [
    "from dash import Dash, html, dcc, Input, Output, callback\n",
    "import plotly.express as px\n",
    "import plotly\n",
    "import plotly.offline\n",
    "import plotly.graph_objs as go"
   ]
  },
  {
   "cell_type": "code",
   "execution_count": 199,
   "metadata": {},
   "outputs": [],
   "source": [
    "person = pd.read_csv('../../synpuff/person.csv')\n",
    "condition_occurrence = pd.read_csv('../../synpuff/condition_occurrence.csv')\n",
    "drug_exposure = pd.read_csv('../../synpuff/drug_exposure.csv')\n",
    "concept = pd.read_csv('../../synpuff/concept.csv')\n",
    "hierarchy = pd.read_csv('../../synpuff/hierarchy.csv')\n",
    "props = pd.read_csv('../../synpuff/hemonc_component_properties.csv')"
   ]
  },
  {
   "cell_type": "code",
   "execution_count": 200,
   "metadata": {},
   "outputs": [
    {
     "data": {
      "text/html": [
       "<div>\n",
       "<style scoped>\n",
       "    .dataframe tbody tr th:only-of-type {\n",
       "        vertical-align: middle;\n",
       "    }\n",
       "\n",
       "    .dataframe tbody tr th {\n",
       "        vertical-align: top;\n",
       "    }\n",
       "\n",
       "    .dataframe thead th {\n",
       "        text-align: right;\n",
       "    }\n",
       "</style>\n",
       "<table border=\"1\" class=\"dataframe\">\n",
       "  <thead>\n",
       "    <tr style=\"text-align: right;\">\n",
       "      <th></th>\n",
       "      <th>condition_occurrence_id</th>\n",
       "      <th>person_id</th>\n",
       "      <th>condition_concept_id</th>\n",
       "      <th>condition_start_date</th>\n",
       "      <th>condition_start_datetime</th>\n",
       "      <th>condition_end_date</th>\n",
       "      <th>condition_end_datetime</th>\n",
       "      <th>condition_type_concept_id</th>\n",
       "      <th>stop_reason</th>\n",
       "      <th>provider_id</th>\n",
       "      <th>visit_occurrence_id</th>\n",
       "      <th>visit_detail_id</th>\n",
       "      <th>condition_source_value</th>\n",
       "      <th>condition_source_concept_id</th>\n",
       "      <th>condition_status_source_value</th>\n",
       "      <th>condition_status_concept_id</th>\n",
       "    </tr>\n",
       "  </thead>\n",
       "  <tbody>\n",
       "    <tr>\n",
       "      <th>0</th>\n",
       "      <td>61875376</td>\n",
       "      <td>497795</td>\n",
       "      <td>132797</td>\n",
       "      <td>2008-01-31</td>\n",
       "      <td>NaN</td>\n",
       "      <td>2008-02-07</td>\n",
       "      <td>NaN</td>\n",
       "      <td>38000200</td>\n",
       "      <td>NaN</td>\n",
       "      <td>142878.0</td>\n",
       "      <td>23882463</td>\n",
       "      <td>NaN</td>\n",
       "      <td>0389</td>\n",
       "      <td>44823969</td>\n",
       "      <td>NaN</td>\n",
       "      <td>NaN</td>\n",
       "    </tr>\n",
       "    <tr>\n",
       "      <th>1</th>\n",
       "      <td>137844436</td>\n",
       "      <td>1109737</td>\n",
       "      <td>133141</td>\n",
       "      <td>2008-12-12</td>\n",
       "      <td>NaN</td>\n",
       "      <td>2008-12-14</td>\n",
       "      <td>NaN</td>\n",
       "      <td>38000200</td>\n",
       "      <td>NaN</td>\n",
       "      <td>34304.0</td>\n",
       "      <td>53218870</td>\n",
       "      <td>NaN</td>\n",
       "      <td>1104</td>\n",
       "      <td>44822853</td>\n",
       "      <td>NaN</td>\n",
       "      <td>NaN</td>\n",
       "    </tr>\n",
       "    <tr>\n",
       "      <th>2</th>\n",
       "      <td>236827453</td>\n",
       "      <td>1906124</td>\n",
       "      <td>438699</td>\n",
       "      <td>2008-09-28</td>\n",
       "      <td>NaN</td>\n",
       "      <td>2008-10-06</td>\n",
       "      <td>NaN</td>\n",
       "      <td>38000200</td>\n",
       "      <td>NaN</td>\n",
       "      <td>83387.0</td>\n",
       "      <td>91427916</td>\n",
       "      <td>NaN</td>\n",
       "      <td>1540</td>\n",
       "      <td>44822870</td>\n",
       "      <td>NaN</td>\n",
       "      <td>NaN</td>\n",
       "    </tr>\n",
       "    <tr>\n",
       "      <th>3</th>\n",
       "      <td>116917366</td>\n",
       "      <td>940851</td>\n",
       "      <td>441829</td>\n",
       "      <td>2009-03-10</td>\n",
       "      <td>NaN</td>\n",
       "      <td>2009-03-17</td>\n",
       "      <td>NaN</td>\n",
       "      <td>38000200</td>\n",
       "      <td>NaN</td>\n",
       "      <td>323636.0</td>\n",
       "      <td>45136153</td>\n",
       "      <td>NaN</td>\n",
       "      <td>2760</td>\n",
       "      <td>44824089</td>\n",
       "      <td>NaN</td>\n",
       "      <td>NaN</td>\n",
       "    </tr>\n",
       "    <tr>\n",
       "      <th>4</th>\n",
       "      <td>171844758</td>\n",
       "      <td>1382957</td>\n",
       "      <td>437833</td>\n",
       "      <td>2009-05-24</td>\n",
       "      <td>NaN</td>\n",
       "      <td>2009-05-25</td>\n",
       "      <td>NaN</td>\n",
       "      <td>38000200</td>\n",
       "      <td>NaN</td>\n",
       "      <td>228426.0</td>\n",
       "      <td>66341079</td>\n",
       "      <td>NaN</td>\n",
       "      <td>2768</td>\n",
       "      <td>44834567</td>\n",
       "      <td>NaN</td>\n",
       "      <td>NaN</td>\n",
       "    </tr>\n",
       "  </tbody>\n",
       "</table>\n",
       "</div>"
      ],
      "text/plain": [
       "   condition_occurrence_id  person_id  condition_concept_id  \\\n",
       "0                 61875376     497795                132797   \n",
       "1                137844436    1109737                133141   \n",
       "2                236827453    1906124                438699   \n",
       "3                116917366     940851                441829   \n",
       "4                171844758    1382957                437833   \n",
       "\n",
       "  condition_start_date  condition_start_datetime condition_end_date  \\\n",
       "0           2008-01-31                       NaN         2008-02-07   \n",
       "1           2008-12-12                       NaN         2008-12-14   \n",
       "2           2008-09-28                       NaN         2008-10-06   \n",
       "3           2009-03-10                       NaN         2009-03-17   \n",
       "4           2009-05-24                       NaN         2009-05-25   \n",
       "\n",
       "   condition_end_datetime  condition_type_concept_id  stop_reason  \\\n",
       "0                     NaN                   38000200          NaN   \n",
       "1                     NaN                   38000200          NaN   \n",
       "2                     NaN                   38000200          NaN   \n",
       "3                     NaN                   38000200          NaN   \n",
       "4                     NaN                   38000200          NaN   \n",
       "\n",
       "   provider_id  visit_occurrence_id  visit_detail_id condition_source_value  \\\n",
       "0     142878.0             23882463              NaN                   0389   \n",
       "1      34304.0             53218870              NaN                   1104   \n",
       "2      83387.0             91427916              NaN                   1540   \n",
       "3     323636.0             45136153              NaN                   2760   \n",
       "4     228426.0             66341079              NaN                   2768   \n",
       "\n",
       "   condition_source_concept_id  condition_status_source_value  \\\n",
       "0                     44823969                            NaN   \n",
       "1                     44822853                            NaN   \n",
       "2                     44822870                            NaN   \n",
       "3                     44824089                            NaN   \n",
       "4                     44834567                            NaN   \n",
       "\n",
       "   condition_status_concept_id  \n",
       "0                          NaN  \n",
       "1                          NaN  \n",
       "2                          NaN  \n",
       "3                          NaN  \n",
       "4                          NaN  "
      ]
     },
     "execution_count": 200,
     "metadata": {},
     "output_type": "execute_result"
    }
   ],
   "source": [
    "condition_occurrence.head()"
   ]
  },
  {
   "cell_type": "code",
   "execution_count": 201,
   "metadata": {},
   "outputs": [],
   "source": [
    "neoplasm_codes = [44832128,44834489,44834490,44819488,44826452,44825256]\n",
    "condition_occurrence=condition_occurrence.loc[condition_occurrence['condition_source_concept_id'].isin(neoplasm_codes)]\n",
    "\n",
    "\n",
    "'''Ivy's code'''\n",
    "#rxnorm = props[props['vocabulary_id']=='RxNorm']\n",
    "#list of valid drug categories from Ivy from RxNorm/HemOnc\n",
    "sact=['Alkylating agent', 'Anti-CD38 antibody', 'Anti-CTLA-4 antibody', 'Anti-TACSTD2 antibody-drug conjugate', 'Anthracycline', 'Antiandrogen', 'Antifolate',\n",
    "'Antimetabolite', 'Antitumor antibiotic', 'Anti-CD52 antibody', 'Anti-CD20 antibody', 'Anti-EGFR antibody', 'Anti-HER2 antibody', 'Anti-CD38 antibody', 'Anti-PD-1 antibody',\n",
    "'Anti-PD-L1 antibody', 'Anti-RANKL antibody', 'Anti-SLAMF7 antibody','Anti-VEGF antibody', 'Aromatase inhibitor', 'Aromatase inhibitorsthird generation',\n",
    "'Biosimilar', 'BRAF inhibitor', 'DNA methyltransferase inhibitor', 'Deoxycytidine analog', 'EGFR inhibitor', 'ERBB 2 inhibitor', 'Estrogen receptor inhibitor',\n",
    "'Folic acid analog', 'Fluoropyrimidine', 'GnRH agonist', 'HDAC inhibitor', 'Human DNA synthesisinhibitor', 'Microtubule inhibitor', 'MTOR inhibitor',\n",
    "'Nitrogen mustard', 'Nitrosourea', 'Neutral', 'PARP inhibitor', 'PARP1 inhibitor', 'PARP2 inhibitor', 'Phenothiazine', 'Platinum agent', 'Proteasome inhibitor',\n",
    "'Purine analog', 'Pyrimidine analog', 'RANK ligand inhibitor', 'Selective estrogen receptor modulator', 'Somatostatin analog', 'T-cell activator',\n",
    "'Targeted therapeutic', 'Taxane', 'Topoisomerase I inhibitor', 'Topoisomerase II inhibitor', 'Triazene', 'Vinca alkaloid', 'Xanthine oxidase inhibitor',\n",
    "'WHO Essential Cancer Medicine']\n",
    "#rxnorm = rxnorm[rxnorm['component_class_name'].isin(sact)]\n",
    "props=props[props['component_class_name'].isin(sact)]\n",
    "antican = props['concept_id_2']\n",
    "drug_exposure=drug_exposure[drug_exposure['drug_concept_id'].isin(antican)]\n",
    "#rxnorm['component_class_name'].value_counts()\n"
   ]
  },
  {
   "cell_type": "code",
   "execution_count": 202,
   "metadata": {},
   "outputs": [],
   "source": [
    "concept_lookup = {c.concept_id: c.concept_name for c in concept.itertuples()}"
   ]
  },
  {
   "cell_type": "code",
   "execution_count": 203,
   "metadata": {},
   "outputs": [],
   "source": [
    "def make_labels(df):\n",
    "    for c in df.columns:\n",
    "        if 'concept_id' in c:\n",
    "            df[c.replace('_id', '_label')] = df[c].map(concept_lookup)\n",
    "        if 'concept_id' in c or 'source' in c or len(df[df[c].notna()])==0:\n",
    "            df = df.drop(c, axis=1)\n",
    "    return df\n"
   ]
  },
  {
   "cell_type": "code",
   "execution_count": 204,
   "metadata": {},
   "outputs": [],
   "source": [
    "person_labelled = make_labels(person)\n",
    "condition_occurrence_labelled = make_labels(condition_occurrence)\n",
    "drug_exposure_labelled = make_labels(drug_exposure)"
   ]
  },
  {
   "cell_type": "code",
   "execution_count": 205,
   "metadata": {},
   "outputs": [],
   "source": [
    "'''Applying extra filters to drug df'''\n",
    "drug_exposure_labelled['drug_exposure_year'] = pd.to_datetime(drug_exposure_labelled['drug_exposure_start_date'], format='%Y-%m-%d').dt.year\n",
    "exclusions = ['dexamethasone']\n",
    "drug_exposure_labelled=drug_exposure_labelled[~drug_exposure_labelled['drug_concept_label'].isin(exclusions)]"
   ]
  },
  {
   "cell_type": "code",
   "execution_count": 206,
   "metadata": {},
   "outputs": [
    {
     "data": {
      "text/html": [
       "<div>\n",
       "<style scoped>\n",
       "    .dataframe tbody tr th:only-of-type {\n",
       "        vertical-align: middle;\n",
       "    }\n",
       "\n",
       "    .dataframe tbody tr th {\n",
       "        vertical-align: top;\n",
       "    }\n",
       "\n",
       "    .dataframe thead th {\n",
       "        text-align: right;\n",
       "    }\n",
       "</style>\n",
       "<table border=\"1\" class=\"dataframe\">\n",
       "  <thead>\n",
       "    <tr style=\"text-align: right;\">\n",
       "      <th></th>\n",
       "      <th>race_concept_id</th>\n",
       "      <th>ethnicity_concept_id</th>\n",
       "      <th>location_id</th>\n",
       "      <th>provider_id</th>\n",
       "      <th>care_site_id</th>\n",
       "      <th>person_source_value</th>\n",
       "      <th>gender_source_value</th>\n",
       "      <th>gender_source_concept_id</th>\n",
       "      <th>race_source_value</th>\n",
       "      <th>race_source_concept_id</th>\n",
       "      <th>ethnicity_source_value</th>\n",
       "      <th>ethnicity_source_concept_id</th>\n",
       "      <th>person_id</th>\n",
       "      <th>gender_concept_id</th>\n",
       "      <th>year_of_birth</th>\n",
       "      <th>month_of_birth</th>\n",
       "      <th>day_of_birth</th>\n",
       "      <th>birth_datetime</th>\n",
       "      <th>race_concept_label</th>\n",
       "    </tr>\n",
       "  </thead>\n",
       "  <tbody>\n",
       "    <tr>\n",
       "      <th>0</th>\n",
       "      <td>8527</td>\n",
       "      <td>38003564</td>\n",
       "      <td>247</td>\n",
       "      <td>NaN</td>\n",
       "      <td>NaN</td>\n",
       "      <td>A071B74AF0F454BB</td>\n",
       "      <td>1</td>\n",
       "      <td>NaN</td>\n",
       "      <td>1</td>\n",
       "      <td>NaN</td>\n",
       "      <td>1</td>\n",
       "      <td>NaN</td>\n",
       "      <td>1468935</td>\n",
       "      <td>8507</td>\n",
       "      <td>1920</td>\n",
       "      <td>1</td>\n",
       "      <td>1</td>\n",
       "      <td>NaN</td>\n",
       "      <td>White</td>\n",
       "    </tr>\n",
       "    <tr>\n",
       "      <th>1</th>\n",
       "      <td>8527</td>\n",
       "      <td>38003564</td>\n",
       "      <td>994</td>\n",
       "      <td>NaN</td>\n",
       "      <td>NaN</td>\n",
       "      <td>C30A427E6C8881FE</td>\n",
       "      <td>1</td>\n",
       "      <td>NaN</td>\n",
       "      <td>1</td>\n",
       "      <td>NaN</td>\n",
       "      <td>1</td>\n",
       "      <td>NaN</td>\n",
       "      <td>2299017</td>\n",
       "      <td>8507</td>\n",
       "      <td>1923</td>\n",
       "      <td>1</td>\n",
       "      <td>1</td>\n",
       "      <td>NaN</td>\n",
       "      <td>White</td>\n",
       "    </tr>\n",
       "    <tr>\n",
       "      <th>2</th>\n",
       "      <td>8527</td>\n",
       "      <td>38003564</td>\n",
       "      <td>197</td>\n",
       "      <td>NaN</td>\n",
       "      <td>NaN</td>\n",
       "      <td>A66EF141738B9A51</td>\n",
       "      <td>1</td>\n",
       "      <td>NaN</td>\n",
       "      <td>1</td>\n",
       "      <td>NaN</td>\n",
       "      <td>1</td>\n",
       "      <td>NaN</td>\n",
       "      <td>1238988</td>\n",
       "      <td>8507</td>\n",
       "      <td>1924</td>\n",
       "      <td>1</td>\n",
       "      <td>1</td>\n",
       "      <td>NaN</td>\n",
       "      <td>White</td>\n",
       "    </tr>\n",
       "    <tr>\n",
       "      <th>3</th>\n",
       "      <td>8527</td>\n",
       "      <td>38003564</td>\n",
       "      <td>2296</td>\n",
       "      <td>NaN</td>\n",
       "      <td>NaN</td>\n",
       "      <td>B8C8F3044B75A0C6</td>\n",
       "      <td>1</td>\n",
       "      <td>NaN</td>\n",
       "      <td>1</td>\n",
       "      <td>NaN</td>\n",
       "      <td>1</td>\n",
       "      <td>NaN</td>\n",
       "      <td>1712715</td>\n",
       "      <td>8507</td>\n",
       "      <td>1934</td>\n",
       "      <td>1</td>\n",
       "      <td>1</td>\n",
       "      <td>NaN</td>\n",
       "      <td>White</td>\n",
       "    </tr>\n",
       "    <tr>\n",
       "      <th>4</th>\n",
       "      <td>8527</td>\n",
       "      <td>38003564</td>\n",
       "      <td>84</td>\n",
       "      <td>NaN</td>\n",
       "      <td>NaN</td>\n",
       "      <td>BBAF91DA9F34F9E3</td>\n",
       "      <td>1</td>\n",
       "      <td>NaN</td>\n",
       "      <td>1</td>\n",
       "      <td>NaN</td>\n",
       "      <td>1</td>\n",
       "      <td>NaN</td>\n",
       "      <td>899595</td>\n",
       "      <td>8507</td>\n",
       "      <td>1941</td>\n",
       "      <td>1</td>\n",
       "      <td>1</td>\n",
       "      <td>NaN</td>\n",
       "      <td>White</td>\n",
       "    </tr>\n",
       "  </tbody>\n",
       "</table>\n",
       "</div>"
      ],
      "text/plain": [
       "   race_concept_id  ethnicity_concept_id  location_id  provider_id  \\\n",
       "0             8527              38003564          247          NaN   \n",
       "1             8527              38003564          994          NaN   \n",
       "2             8527              38003564          197          NaN   \n",
       "3             8527              38003564         2296          NaN   \n",
       "4             8527              38003564           84          NaN   \n",
       "\n",
       "   care_site_id person_source_value  gender_source_value  \\\n",
       "0           NaN    A071B74AF0F454BB                    1   \n",
       "1           NaN    C30A427E6C8881FE                    1   \n",
       "2           NaN    A66EF141738B9A51                    1   \n",
       "3           NaN    B8C8F3044B75A0C6                    1   \n",
       "4           NaN    BBAF91DA9F34F9E3                    1   \n",
       "\n",
       "   gender_source_concept_id  race_source_value  race_source_concept_id  \\\n",
       "0                       NaN                  1                     NaN   \n",
       "1                       NaN                  1                     NaN   \n",
       "2                       NaN                  1                     NaN   \n",
       "3                       NaN                  1                     NaN   \n",
       "4                       NaN                  1                     NaN   \n",
       "\n",
       "   ethnicity_source_value  ethnicity_source_concept_id  person_id  \\\n",
       "0                       1                          NaN    1468935   \n",
       "1                       1                          NaN    2299017   \n",
       "2                       1                          NaN    1238988   \n",
       "3                       1                          NaN    1712715   \n",
       "4                       1                          NaN     899595   \n",
       "\n",
       "   gender_concept_id  year_of_birth  month_of_birth  day_of_birth  \\\n",
       "0               8507           1920               1             1   \n",
       "1               8507           1923               1             1   \n",
       "2               8507           1924               1             1   \n",
       "3               8507           1934               1             1   \n",
       "4               8507           1941               1             1   \n",
       "\n",
       "   birth_datetime race_concept_label  \n",
       "0             NaN              White  \n",
       "1             NaN              White  \n",
       "2             NaN              White  \n",
       "3             NaN              White  \n",
       "4             NaN              White  "
      ]
     },
     "execution_count": 206,
     "metadata": {},
     "output_type": "execute_result"
    }
   ],
   "source": [
    "person.head()"
   ]
  },
  {
   "cell_type": "code",
   "execution_count": 207,
   "metadata": {},
   "outputs": [],
   "source": [
    "#neoplasm_concepts = concept.loc[concept['concept_code'].isin['174.0','174.6','174.8','175.0','175.9']]\n",
    "#neoplasm_concepts"
   ]
  },
  {
   "cell_type": "code",
   "execution_count": 208,
   "metadata": {},
   "outputs": [
    {
     "data": {
      "text/html": [
       "<div>\n",
       "<style scoped>\n",
       "    .dataframe tbody tr th:only-of-type {\n",
       "        vertical-align: middle;\n",
       "    }\n",
       "\n",
       "    .dataframe tbody tr th {\n",
       "        vertical-align: top;\n",
       "    }\n",
       "\n",
       "    .dataframe thead th {\n",
       "        text-align: right;\n",
       "    }\n",
       "</style>\n",
       "<table border=\"1\" class=\"dataframe\">\n",
       "  <thead>\n",
       "    <tr style=\"text-align: right;\">\n",
       "      <th></th>\n",
       "      <th>condition_occurrence_id</th>\n",
       "      <th>person_id</th>\n",
       "      <th>condition_start_date</th>\n",
       "      <th>condition_end_date</th>\n",
       "      <th>provider_id</th>\n",
       "      <th>visit_occurrence_id</th>\n",
       "      <th>condition_concept_label</th>\n",
       "      <th>condition_type_concept_label</th>\n",
       "      <th>condition_source_concept_label</th>\n",
       "      <th>condition_status_concept_label</th>\n",
       "    </tr>\n",
       "  </thead>\n",
       "  <tbody>\n",
       "    <tr>\n",
       "      <th>157</th>\n",
       "      <td>210512628</td>\n",
       "      <td>1694338</td>\n",
       "      <td>2008-09-22</td>\n",
       "      <td>2008-09-22</td>\n",
       "      <td>151287.0</td>\n",
       "      <td>81272533</td>\n",
       "      <td>Malignant neoplasm of nipple and areola of fem...</td>\n",
       "      <td>Outpatient header - 1st position</td>\n",
       "      <td>Malignant neoplasm of nipple and areola of fem...</td>\n",
       "      <td>NaN</td>\n",
       "    </tr>\n",
       "    <tr>\n",
       "      <th>158</th>\n",
       "      <td>10158522</td>\n",
       "      <td>81751</td>\n",
       "      <td>2009-03-22</td>\n",
       "      <td>2009-03-22</td>\n",
       "      <td>258649.0</td>\n",
       "      <td>3923058</td>\n",
       "      <td>Malignant neoplasm of nipple and areola of fem...</td>\n",
       "      <td>Outpatient header - 1st position</td>\n",
       "      <td>Malignant neoplasm of nipple and areola of fem...</td>\n",
       "      <td>NaN</td>\n",
       "    </tr>\n",
       "    <tr>\n",
       "      <th>159</th>\n",
       "      <td>11359134</td>\n",
       "      <td>91329</td>\n",
       "      <td>2008-09-19</td>\n",
       "      <td>2008-09-19</td>\n",
       "      <td>164692.0</td>\n",
       "      <td>4385273</td>\n",
       "      <td>Malignant neoplasm of nipple and areola of fem...</td>\n",
       "      <td>Outpatient header - 1st position</td>\n",
       "      <td>Malignant neoplasm of nipple and areola of fem...</td>\n",
       "      <td>NaN</td>\n",
       "    </tr>\n",
       "    <tr>\n",
       "      <th>160</th>\n",
       "      <td>251553998</td>\n",
       "      <td>2024310</td>\n",
       "      <td>2009-07-29</td>\n",
       "      <td>2009-08-03</td>\n",
       "      <td>140597.0</td>\n",
       "      <td>97112208</td>\n",
       "      <td>Malignant neoplasm of axillary tail of female ...</td>\n",
       "      <td>Outpatient header - 1st position</td>\n",
       "      <td>Malignant neoplasm of axillary tail of female ...</td>\n",
       "      <td>NaN</td>\n",
       "    </tr>\n",
       "    <tr>\n",
       "      <th>266</th>\n",
       "      <td>250625743</td>\n",
       "      <td>2016747</td>\n",
       "      <td>2008-11-28</td>\n",
       "      <td>2008-11-28</td>\n",
       "      <td>378143.0</td>\n",
       "      <td>96753274</td>\n",
       "      <td>Neoplasm of uncertain behavior of breast</td>\n",
       "      <td>Outpatient header - 1st position</td>\n",
       "      <td>Neoplasm of uncertain behavior of breast</td>\n",
       "      <td>NaN</td>\n",
       "    </tr>\n",
       "  </tbody>\n",
       "</table>\n",
       "</div>"
      ],
      "text/plain": [
       "     condition_occurrence_id  person_id condition_start_date  \\\n",
       "157                210512628    1694338           2008-09-22   \n",
       "158                 10158522      81751           2009-03-22   \n",
       "159                 11359134      91329           2008-09-19   \n",
       "160                251553998    2024310           2009-07-29   \n",
       "266                250625743    2016747           2008-11-28   \n",
       "\n",
       "    condition_end_date  provider_id  visit_occurrence_id  \\\n",
       "157         2008-09-22     151287.0             81272533   \n",
       "158         2009-03-22     258649.0              3923058   \n",
       "159         2008-09-19     164692.0              4385273   \n",
       "160         2009-08-03     140597.0             97112208   \n",
       "266         2008-11-28     378143.0             96753274   \n",
       "\n",
       "                               condition_concept_label  \\\n",
       "157  Malignant neoplasm of nipple and areola of fem...   \n",
       "158  Malignant neoplasm of nipple and areola of fem...   \n",
       "159  Malignant neoplasm of nipple and areola of fem...   \n",
       "160  Malignant neoplasm of axillary tail of female ...   \n",
       "266           Neoplasm of uncertain behavior of breast   \n",
       "\n",
       "         condition_type_concept_label  \\\n",
       "157  Outpatient header - 1st position   \n",
       "158  Outpatient header - 1st position   \n",
       "159  Outpatient header - 1st position   \n",
       "160  Outpatient header - 1st position   \n",
       "266  Outpatient header - 1st position   \n",
       "\n",
       "                        condition_source_concept_label  \\\n",
       "157  Malignant neoplasm of nipple and areola of fem...   \n",
       "158  Malignant neoplasm of nipple and areola of fem...   \n",
       "159  Malignant neoplasm of nipple and areola of fem...   \n",
       "160  Malignant neoplasm of axillary tail of female ...   \n",
       "266           Neoplasm of uncertain behavior of breast   \n",
       "\n",
       "    condition_status_concept_label  \n",
       "157                            NaN  \n",
       "158                            NaN  \n",
       "159                            NaN  \n",
       "160                            NaN  \n",
       "266                            NaN  "
      ]
     },
     "execution_count": 208,
     "metadata": {},
     "output_type": "execute_result"
    }
   ],
   "source": [
    "condition_occurrence_labelled.head()"
   ]
  },
  {
   "cell_type": "code",
   "execution_count": 209,
   "metadata": {},
   "outputs": [
    {
     "data": {
      "text/plain": [
       "drug_concept_label\n",
       "epoetin alfa          1845\n",
       "cyclophosphamide       311\n",
       "methylprednisolone     190\n",
       "filgrastim             106\n",
       "paclitaxel              91\n",
       "doxorubicin             80\n",
       "leuprolide              51\n",
       "azacitidine             38\n",
       "triptorelin             16\n",
       "hydrocortisone          10\n",
       "octreotide               8\n",
       "methotrexate             7\n",
       "Name: count, dtype: int64"
      ]
     },
     "execution_count": 209,
     "metadata": {},
     "output_type": "execute_result"
    }
   ],
   "source": [
    "drug_exposure_labelled['drug_concept_label'].value_counts()"
   ]
  },
  {
   "cell_type": "code",
   "execution_count": 210,
   "metadata": {},
   "outputs": [
    {
     "data": {
      "text/html": [
       "<div>\n",
       "<style scoped>\n",
       "    .dataframe tbody tr th:only-of-type {\n",
       "        vertical-align: middle;\n",
       "    }\n",
       "\n",
       "    .dataframe tbody tr th {\n",
       "        vertical-align: top;\n",
       "    }\n",
       "\n",
       "    .dataframe thead th {\n",
       "        text-align: right;\n",
       "    }\n",
       "</style>\n",
       "<table border=\"1\" class=\"dataframe\">\n",
       "  <thead>\n",
       "    <tr style=\"text-align: right;\">\n",
       "      <th></th>\n",
       "      <th>provider_id</th>\n",
       "      <th>visit_occurrence_id</th>\n",
       "      <th>drug_exposure_id</th>\n",
       "      <th>person_id</th>\n",
       "      <th>drug_exposure_start_date</th>\n",
       "      <th>drug_exposure_end_date</th>\n",
       "      <th>drug_type_concept_label</th>\n",
       "      <th>route_concept_label</th>\n",
       "      <th>drug_source_concept_label</th>\n",
       "      <th>drug_concept_label</th>\n",
       "      <th>drug_exposure_year</th>\n",
       "    </tr>\n",
       "  </thead>\n",
       "  <tbody>\n",
       "    <tr>\n",
       "      <th>4</th>\n",
       "      <td>499713.0</td>\n",
       "      <td>69401622.0</td>\n",
       "      <td>78375973</td>\n",
       "      <td>1446685</td>\n",
       "      <td>2010-07-31</td>\n",
       "      <td>2010-08-30</td>\n",
       "      <td>Prescription dispensed in pharmacy</td>\n",
       "      <td>NaN</td>\n",
       "      <td>Injection, azacitidine, 1 mg</td>\n",
       "      <td>azacitidine</td>\n",
       "      <td>2010</td>\n",
       "    </tr>\n",
       "    <tr>\n",
       "      <th>11</th>\n",
       "      <td>5123.0</td>\n",
       "      <td>82099224.0</td>\n",
       "      <td>92717626</td>\n",
       "      <td>1711440</td>\n",
       "      <td>2010-08-04</td>\n",
       "      <td>2010-09-03</td>\n",
       "      <td>Prescription dispensed in pharmacy</td>\n",
       "      <td>NaN</td>\n",
       "      <td>Injection, methylprednisolone acetate, 20 mg</td>\n",
       "      <td>methylprednisolone</td>\n",
       "      <td>2010</td>\n",
       "    </tr>\n",
       "    <tr>\n",
       "      <th>13</th>\n",
       "      <td>97458.0</td>\n",
       "      <td>102174609.0</td>\n",
       "      <td>115350812</td>\n",
       "      <td>2129846</td>\n",
       "      <td>2008-06-28</td>\n",
       "      <td>2008-07-28</td>\n",
       "      <td>Prescription dispensed in pharmacy</td>\n",
       "      <td>NaN</td>\n",
       "      <td>Injection, epoetin alfa, 100 units (for esrd o...</td>\n",
       "      <td>epoetin alfa</td>\n",
       "      <td>2008</td>\n",
       "    </tr>\n",
       "    <tr>\n",
       "      <th>26</th>\n",
       "      <td>2315.0</td>\n",
       "      <td>1703243.0</td>\n",
       "      <td>1894368</td>\n",
       "      <td>35153</td>\n",
       "      <td>2010-08-14</td>\n",
       "      <td>2010-09-13</td>\n",
       "      <td>Prescription dispensed in pharmacy</td>\n",
       "      <td>NaN</td>\n",
       "      <td>Injection, epoetin alfa, 100 units (for esrd o...</td>\n",
       "      <td>epoetin alfa</td>\n",
       "      <td>2010</td>\n",
       "    </tr>\n",
       "    <tr>\n",
       "      <th>29</th>\n",
       "      <td>31954.0</td>\n",
       "      <td>25316689.0</td>\n",
       "      <td>28594997</td>\n",
       "      <td>527868</td>\n",
       "      <td>2010-08-16</td>\n",
       "      <td>2010-09-15</td>\n",
       "      <td>Prescription dispensed in pharmacy</td>\n",
       "      <td>NaN</td>\n",
       "      <td>Injection, epoetin alfa, 100 units (for esrd o...</td>\n",
       "      <td>epoetin alfa</td>\n",
       "      <td>2010</td>\n",
       "    </tr>\n",
       "  </tbody>\n",
       "</table>\n",
       "</div>"
      ],
      "text/plain": [
       "    provider_id  visit_occurrence_id  drug_exposure_id  person_id  \\\n",
       "4      499713.0           69401622.0          78375973    1446685   \n",
       "11       5123.0           82099224.0          92717626    1711440   \n",
       "13      97458.0          102174609.0         115350812    2129846   \n",
       "26       2315.0            1703243.0           1894368      35153   \n",
       "29      31954.0           25316689.0          28594997     527868   \n",
       "\n",
       "   drug_exposure_start_date drug_exposure_end_date  \\\n",
       "4                2010-07-31             2010-08-30   \n",
       "11               2010-08-04             2010-09-03   \n",
       "13               2008-06-28             2008-07-28   \n",
       "26               2010-08-14             2010-09-13   \n",
       "29               2010-08-16             2010-09-15   \n",
       "\n",
       "               drug_type_concept_label route_concept_label  \\\n",
       "4   Prescription dispensed in pharmacy                 NaN   \n",
       "11  Prescription dispensed in pharmacy                 NaN   \n",
       "13  Prescription dispensed in pharmacy                 NaN   \n",
       "26  Prescription dispensed in pharmacy                 NaN   \n",
       "29  Prescription dispensed in pharmacy                 NaN   \n",
       "\n",
       "                            drug_source_concept_label  drug_concept_label  \\\n",
       "4                        Injection, azacitidine, 1 mg         azacitidine   \n",
       "11       Injection, methylprednisolone acetate, 20 mg  methylprednisolone   \n",
       "13  Injection, epoetin alfa, 100 units (for esrd o...        epoetin alfa   \n",
       "26  Injection, epoetin alfa, 100 units (for esrd o...        epoetin alfa   \n",
       "29  Injection, epoetin alfa, 100 units (for esrd o...        epoetin alfa   \n",
       "\n",
       "    drug_exposure_year  \n",
       "4                 2010  \n",
       "11                2010  \n",
       "13                2008  \n",
       "26                2010  \n",
       "29                2010  "
      ]
     },
     "execution_count": 210,
     "metadata": {},
     "output_type": "execute_result"
    }
   ],
   "source": [
    "drug_exposure_labelled.head()"
   ]
  },
  {
   "cell_type": "code",
   "execution_count": 211,
   "metadata": {},
   "outputs": [
    {
     "data": {
      "text/plain": [
       "'2007-12-21'"
      ]
     },
     "execution_count": 211,
     "metadata": {},
     "output_type": "execute_result"
    }
   ],
   "source": [
    "drug_exposure_labelled['drug_exposure_start_date'].min()"
   ]
  },
  {
   "cell_type": "code",
   "execution_count": 212,
   "metadata": {},
   "outputs": [],
   "source": [
    "'''Data Linkage'''\n",
    "person_labelled_small= person_labelled.loc[:,['person_id', 'year_of_birth', 'gender_concept_label']]\n",
    "drug_persons = pd.merge(drug_exposure_labelled, person_labelled_small, on='person_id', how='left')\n",
    "drug_persons['age_at_treatment'] = drug_persons['drug_exposure_year'] - drug_persons['year_of_birth']\n",
    "#condition linkage\n",
    "condition_labelled_small= condition_occurrence_labelled.loc[:,['person_id', 'condition_concept_label']]\n",
    "condition_labelled_small['occ_number'] = 'cond_' + (condition_labelled_small.groupby('person_id').cumcount()).astype(str) \n",
    "cond_pivot = condition_labelled_small.pivot(index='person_id', columns='occ_number', values='condition_concept_label').reset_index()\n",
    "drug_persons = pd.merge(drug_persons, cond_pivot, on='person_id', how='left')"
   ]
  },
  {
   "cell_type": "code",
   "execution_count": 213,
   "metadata": {},
   "outputs": [
    {
     "data": {
      "text/html": [
       "<div>\n",
       "<style scoped>\n",
       "    .dataframe tbody tr th:only-of-type {\n",
       "        vertical-align: middle;\n",
       "    }\n",
       "\n",
       "    .dataframe tbody tr th {\n",
       "        vertical-align: top;\n",
       "    }\n",
       "\n",
       "    .dataframe thead th {\n",
       "        text-align: right;\n",
       "    }\n",
       "</style>\n",
       "<table border=\"1\" class=\"dataframe\">\n",
       "  <thead>\n",
       "    <tr style=\"text-align: right;\">\n",
       "      <th></th>\n",
       "      <th>provider_id</th>\n",
       "      <th>visit_occurrence_id</th>\n",
       "      <th>drug_exposure_id</th>\n",
       "      <th>person_id</th>\n",
       "      <th>drug_exposure_start_date</th>\n",
       "      <th>drug_exposure_end_date</th>\n",
       "      <th>drug_type_concept_label</th>\n",
       "      <th>route_concept_label</th>\n",
       "      <th>drug_source_concept_label</th>\n",
       "      <th>drug_concept_label</th>\n",
       "      <th>drug_exposure_year</th>\n",
       "      <th>year_of_birth</th>\n",
       "      <th>gender_concept_label</th>\n",
       "      <th>age_at_treatment</th>\n",
       "      <th>cond_0</th>\n",
       "      <th>cond_1</th>\n",
       "      <th>cond_2</th>\n",
       "      <th>cond_3</th>\n",
       "    </tr>\n",
       "  </thead>\n",
       "  <tbody>\n",
       "    <tr>\n",
       "      <th>0</th>\n",
       "      <td>499713.0</td>\n",
       "      <td>69401622.0</td>\n",
       "      <td>78375973</td>\n",
       "      <td>1446685</td>\n",
       "      <td>2010-07-31</td>\n",
       "      <td>2010-08-30</td>\n",
       "      <td>Prescription dispensed in pharmacy</td>\n",
       "      <td>NaN</td>\n",
       "      <td>Injection, azacitidine, 1 mg</td>\n",
       "      <td>azacitidine</td>\n",
       "      <td>2010</td>\n",
       "      <td>1921</td>\n",
       "      <td>MALE</td>\n",
       "      <td>89</td>\n",
       "      <td>NaN</td>\n",
       "      <td>NaN</td>\n",
       "      <td>NaN</td>\n",
       "      <td>NaN</td>\n",
       "    </tr>\n",
       "    <tr>\n",
       "      <th>1</th>\n",
       "      <td>5123.0</td>\n",
       "      <td>82099224.0</td>\n",
       "      <td>92717626</td>\n",
       "      <td>1711440</td>\n",
       "      <td>2010-08-04</td>\n",
       "      <td>2010-09-03</td>\n",
       "      <td>Prescription dispensed in pharmacy</td>\n",
       "      <td>NaN</td>\n",
       "      <td>Injection, methylprednisolone acetate, 20 mg</td>\n",
       "      <td>methylprednisolone</td>\n",
       "      <td>2010</td>\n",
       "      <td>1935</td>\n",
       "      <td>FEMALE</td>\n",
       "      <td>75</td>\n",
       "      <td>Malignant neoplasm of nipple and areola of fem...</td>\n",
       "      <td>NaN</td>\n",
       "      <td>NaN</td>\n",
       "      <td>NaN</td>\n",
       "    </tr>\n",
       "    <tr>\n",
       "      <th>2</th>\n",
       "      <td>97458.0</td>\n",
       "      <td>102174609.0</td>\n",
       "      <td>115350812</td>\n",
       "      <td>2129846</td>\n",
       "      <td>2008-06-28</td>\n",
       "      <td>2008-07-28</td>\n",
       "      <td>Prescription dispensed in pharmacy</td>\n",
       "      <td>NaN</td>\n",
       "      <td>Injection, epoetin alfa, 100 units (for esrd o...</td>\n",
       "      <td>epoetin alfa</td>\n",
       "      <td>2008</td>\n",
       "      <td>1931</td>\n",
       "      <td>FEMALE</td>\n",
       "      <td>77</td>\n",
       "      <td>NaN</td>\n",
       "      <td>NaN</td>\n",
       "      <td>NaN</td>\n",
       "      <td>NaN</td>\n",
       "    </tr>\n",
       "    <tr>\n",
       "      <th>3</th>\n",
       "      <td>2315.0</td>\n",
       "      <td>1703243.0</td>\n",
       "      <td>1894368</td>\n",
       "      <td>35153</td>\n",
       "      <td>2010-08-14</td>\n",
       "      <td>2010-09-13</td>\n",
       "      <td>Prescription dispensed in pharmacy</td>\n",
       "      <td>NaN</td>\n",
       "      <td>Injection, epoetin alfa, 100 units (for esrd o...</td>\n",
       "      <td>epoetin alfa</td>\n",
       "      <td>2010</td>\n",
       "      <td>1926</td>\n",
       "      <td>MALE</td>\n",
       "      <td>84</td>\n",
       "      <td>NaN</td>\n",
       "      <td>NaN</td>\n",
       "      <td>NaN</td>\n",
       "      <td>NaN</td>\n",
       "    </tr>\n",
       "    <tr>\n",
       "      <th>4</th>\n",
       "      <td>31954.0</td>\n",
       "      <td>25316689.0</td>\n",
       "      <td>28594997</td>\n",
       "      <td>527868</td>\n",
       "      <td>2010-08-16</td>\n",
       "      <td>2010-09-15</td>\n",
       "      <td>Prescription dispensed in pharmacy</td>\n",
       "      <td>NaN</td>\n",
       "      <td>Injection, epoetin alfa, 100 units (for esrd o...</td>\n",
       "      <td>epoetin alfa</td>\n",
       "      <td>2010</td>\n",
       "      <td>1949</td>\n",
       "      <td>MALE</td>\n",
       "      <td>61</td>\n",
       "      <td>NaN</td>\n",
       "      <td>NaN</td>\n",
       "      <td>NaN</td>\n",
       "      <td>NaN</td>\n",
       "    </tr>\n",
       "  </tbody>\n",
       "</table>\n",
       "</div>"
      ],
      "text/plain": [
       "   provider_id  visit_occurrence_id  drug_exposure_id  person_id  \\\n",
       "0     499713.0           69401622.0          78375973    1446685   \n",
       "1       5123.0           82099224.0          92717626    1711440   \n",
       "2      97458.0          102174609.0         115350812    2129846   \n",
       "3       2315.0            1703243.0           1894368      35153   \n",
       "4      31954.0           25316689.0          28594997     527868   \n",
       "\n",
       "  drug_exposure_start_date drug_exposure_end_date  \\\n",
       "0               2010-07-31             2010-08-30   \n",
       "1               2010-08-04             2010-09-03   \n",
       "2               2008-06-28             2008-07-28   \n",
       "3               2010-08-14             2010-09-13   \n",
       "4               2010-08-16             2010-09-15   \n",
       "\n",
       "              drug_type_concept_label route_concept_label  \\\n",
       "0  Prescription dispensed in pharmacy                 NaN   \n",
       "1  Prescription dispensed in pharmacy                 NaN   \n",
       "2  Prescription dispensed in pharmacy                 NaN   \n",
       "3  Prescription dispensed in pharmacy                 NaN   \n",
       "4  Prescription dispensed in pharmacy                 NaN   \n",
       "\n",
       "                           drug_source_concept_label  drug_concept_label  \\\n",
       "0                       Injection, azacitidine, 1 mg         azacitidine   \n",
       "1       Injection, methylprednisolone acetate, 20 mg  methylprednisolone   \n",
       "2  Injection, epoetin alfa, 100 units (for esrd o...        epoetin alfa   \n",
       "3  Injection, epoetin alfa, 100 units (for esrd o...        epoetin alfa   \n",
       "4  Injection, epoetin alfa, 100 units (for esrd o...        epoetin alfa   \n",
       "\n",
       "   drug_exposure_year  year_of_birth gender_concept_label  age_at_treatment  \\\n",
       "0                2010           1921                 MALE                89   \n",
       "1                2010           1935               FEMALE                75   \n",
       "2                2008           1931               FEMALE                77   \n",
       "3                2010           1926                 MALE                84   \n",
       "4                2010           1949                 MALE                61   \n",
       "\n",
       "                                              cond_0 cond_1 cond_2 cond_3  \n",
       "0                                                NaN    NaN    NaN    NaN  \n",
       "1  Malignant neoplasm of nipple and areola of fem...    NaN    NaN    NaN  \n",
       "2                                                NaN    NaN    NaN    NaN  \n",
       "3                                                NaN    NaN    NaN    NaN  \n",
       "4                                                NaN    NaN    NaN    NaN  "
      ]
     },
     "execution_count": 213,
     "metadata": {},
     "output_type": "execute_result"
    }
   ],
   "source": [
    "drug_persons.head()"
   ]
  },
  {
   "cell_type": "code",
   "execution_count": 214,
   "metadata": {},
   "outputs": [
    {
     "data": {
      "text/plain": [
       "<Axes: >"
      ]
     },
     "execution_count": 214,
     "metadata": {},
     "output_type": "execute_result"
    },
    {
     "data": {
      "image/png": "[encoded data removed]",
      "text/plain": [
       "<Figure size 640x480 with 1 Axes>"
      ]
     },
     "metadata": {},
     "output_type": "display_data"
    }
   ],
   "source": [
    "drug_persons['age_at_treatment'].hist()"
   ]
  },
  {
   "cell_type": "code",
   "execution_count": 215,
   "metadata": {},
   "outputs": [
    {
     "data": {
      "text/plain": [
       "26"
      ]
     },
     "execution_count": 215,
     "metadata": {},
     "output_type": "execute_result"
    }
   ],
   "source": [
    "drug_persons['age_at_treatment'].min()"
   ]
  },
  {
   "cell_type": "code",
   "execution_count": 216,
   "metadata": {},
   "outputs": [
    {
     "data": {
      "text/plain": [
       "101"
      ]
     },
     "execution_count": 216,
     "metadata": {},
     "output_type": "execute_result"
    }
   ],
   "source": [
    "drug_persons['age_at_treatment'].max()"
   ]
  },
  {
   "cell_type": "code",
   "execution_count": 217,
   "metadata": {},
   "outputs": [],
   "source": [
    "#reduce DF down to relevant variables for the visualization\n",
    "small = drug_persons[['person_id', 'drug_exposure_start_date', 'drug_concept_label', 'drug_exposure_year', 'gender_concept_label', 'age_at_treatment', 'cond_0', 'cond_1', 'cond_2', 'cond_3']]\n",
    "#small = pd.merge(small, cond_pivot, on='person_id', how='left')\n",
    "#small = small.dropna()\n",
    "small = small.drop_duplicates()\n",
    "small_sorted = small.sort_values('drug_concept_label')\n",
    "#small['drug_concept_label'] = small_sorted.groupby(['person_id', 'drug_exposure_start_date'])['drug_concept_label'].transform(lambda x : ' & '.join(x))\n",
    "#small.head()\n",
    "small_nodup = small_sorted.drop_duplicates()\n",
    "#small_nodup['drug_concept_label']=small_nodup['drug_concept_label'].str.replace('& ', '&<br>')"
   ]
  },
  {
   "cell_type": "code",
   "execution_count": 218,
   "metadata": {},
   "outputs": [],
   "source": [
    "# add new variable for every new drug administration per person\n",
    "readministrations = pd.Series(np.zeros(len(small_nodup),dtype=int),index=small_nodup.index)"
   ]
  },
  {
   "cell_type": "code",
   "execution_count": 219,
   "metadata": {},
   "outputs": [],
   "source": [
    "# Loop through all unique ids                                                                                                                                                                                      \n",
    "all_id = small_nodup['person_id'].unique()\n",
    "id_administrations = {}\n",
    "for pid in all_id:\n",
    "    # These are all the times a patient with a given ID has had surgery                                                                                                                                            \n",
    "    patient = small_nodup.loc[small_nodup['person_id']==pid]\n",
    "    administrations_sorted = pd.to_datetime(patient['drug_exposure_start_date'], format='%Y-%m-%d').sort_values()\n",
    "\n",
    "# This checks if the previous surgery was longer than 180 days ago                                                                                                                                              \n",
    "    frequency = administrations_sorted.diff()<dt.timedelta(days=6000)\n",
    "\n",
    "    # Compute the readmission                                                                                                                                                                                      \n",
    "    n_administrations = [0]\n",
    "    for v in frequency.values[1:]:\n",
    "       n_administrations.append((n_administrations[-1]+1)*v)\n",
    "\n",
    "    # Add these value to the time series                                                                                                                                                                           \n",
    "    readministrations.loc[administrations_sorted.index] = n_administrations\n",
    "\n",
    "small_nodup['readministration'] = readministrations\n",
    "#small_nodup['drug_concept_label'] = small_nodup['drug_concept_label'] + (small_nodup['readministration'].apply(lambda x: x*' '))"
   ]
  },
  {
   "cell_type": "code",
   "execution_count": 220,
   "metadata": {},
   "outputs": [
    {
     "data": {
      "text/html": [
       "<div>\n",
       "<style scoped>\n",
       "    .dataframe tbody tr th:only-of-type {\n",
       "        vertical-align: middle;\n",
       "    }\n",
       "\n",
       "    .dataframe tbody tr th {\n",
       "        vertical-align: top;\n",
       "    }\n",
       "\n",
       "    .dataframe thead th {\n",
       "        text-align: right;\n",
       "    }\n",
       "</style>\n",
       "<table border=\"1\" class=\"dataframe\">\n",
       "  <thead>\n",
       "    <tr style=\"text-align: right;\">\n",
       "      <th></th>\n",
       "      <th>person_id</th>\n",
       "      <th>drug_exposure_start_date</th>\n",
       "      <th>drug_concept_label</th>\n",
       "      <th>drug_exposure_year</th>\n",
       "      <th>gender_concept_label</th>\n",
       "      <th>age_at_treatment</th>\n",
       "      <th>cond_0</th>\n",
       "      <th>cond_1</th>\n",
       "      <th>cond_2</th>\n",
       "      <th>cond_3</th>\n",
       "      <th>readministration</th>\n",
       "    </tr>\n",
       "  </thead>\n",
       "  <tbody>\n",
       "    <tr>\n",
       "      <th>0</th>\n",
       "      <td>1446685</td>\n",
       "      <td>2010-07-31</td>\n",
       "      <td>azacitidine</td>\n",
       "      <td>2010</td>\n",
       "      <td>MALE</td>\n",
       "      <td>89</td>\n",
       "      <td>NaN</td>\n",
       "      <td>NaN</td>\n",
       "      <td>NaN</td>\n",
       "      <td>NaN</td>\n",
       "      <td>0</td>\n",
       "    </tr>\n",
       "    <tr>\n",
       "      <th>2656</th>\n",
       "      <td>1695119</td>\n",
       "      <td>2009-06-11</td>\n",
       "      <td>azacitidine</td>\n",
       "      <td>2009</td>\n",
       "      <td>FEMALE</td>\n",
       "      <td>79</td>\n",
       "      <td>NaN</td>\n",
       "      <td>NaN</td>\n",
       "      <td>NaN</td>\n",
       "      <td>NaN</td>\n",
       "      <td>1</td>\n",
       "    </tr>\n",
       "    <tr>\n",
       "      <th>731</th>\n",
       "      <td>1414467</td>\n",
       "      <td>2010-01-15</td>\n",
       "      <td>azacitidine</td>\n",
       "      <td>2010</td>\n",
       "      <td>FEMALE</td>\n",
       "      <td>90</td>\n",
       "      <td>Carcinoma in situ of breast</td>\n",
       "      <td>NaN</td>\n",
       "      <td>NaN</td>\n",
       "      <td>NaN</td>\n",
       "      <td>0</td>\n",
       "    </tr>\n",
       "    <tr>\n",
       "      <th>1283</th>\n",
       "      <td>87256</td>\n",
       "      <td>2009-07-13</td>\n",
       "      <td>azacitidine</td>\n",
       "      <td>2009</td>\n",
       "      <td>MALE</td>\n",
       "      <td>66</td>\n",
       "      <td>NaN</td>\n",
       "      <td>NaN</td>\n",
       "      <td>NaN</td>\n",
       "      <td>NaN</td>\n",
       "      <td>0</td>\n",
       "    </tr>\n",
       "    <tr>\n",
       "      <th>1303</th>\n",
       "      <td>883237</td>\n",
       "      <td>2009-01-20</td>\n",
       "      <td>azacitidine</td>\n",
       "      <td>2009</td>\n",
       "      <td>FEMALE</td>\n",
       "      <td>66</td>\n",
       "      <td>NaN</td>\n",
       "      <td>NaN</td>\n",
       "      <td>NaN</td>\n",
       "      <td>NaN</td>\n",
       "      <td>0</td>\n",
       "    </tr>\n",
       "  </tbody>\n",
       "</table>\n",
       "</div>"
      ],
      "text/plain": [
       "      person_id drug_exposure_start_date drug_concept_label  \\\n",
       "0       1446685               2010-07-31        azacitidine   \n",
       "2656    1695119               2009-06-11        azacitidine   \n",
       "731     1414467               2010-01-15        azacitidine   \n",
       "1283      87256               2009-07-13        azacitidine   \n",
       "1303     883237               2009-01-20        azacitidine   \n",
       "\n",
       "      drug_exposure_year gender_concept_label  age_at_treatment  \\\n",
       "0                   2010                 MALE                89   \n",
       "2656                2009               FEMALE                79   \n",
       "731                 2010               FEMALE                90   \n",
       "1283                2009                 MALE                66   \n",
       "1303                2009               FEMALE                66   \n",
       "\n",
       "                           cond_0 cond_1 cond_2 cond_3  readministration  \n",
       "0                             NaN    NaN    NaN    NaN                 0  \n",
       "2656                          NaN    NaN    NaN    NaN                 1  \n",
       "731   Carcinoma in situ of breast    NaN    NaN    NaN                 0  \n",
       "1283                          NaN    NaN    NaN    NaN                 0  \n",
       "1303                          NaN    NaN    NaN    NaN                 0  "
      ]
     },
     "execution_count": 220,
     "metadata": {},
     "output_type": "execute_result"
    }
   ],
   "source": [
    "small_nodup.head()"
   ]
  },
  {
   "cell_type": "code",
   "execution_count": 221,
   "metadata": {},
   "outputs": [
    {
     "data": {
      "text/plain": [
       "cond_0\n",
       "Carcinoma in situ of breast                                 52\n",
       "Malignant neoplasm of axillary tail of female breast        47\n",
       "Malignant neoplasm of nipple and areola of female breast    37\n",
       "Neoplasm of breast                                           6\n",
       "Neoplasm of uncertain behavior of breast                     6\n",
       "Name: count, dtype: int64"
      ]
     },
     "metadata": {},
     "output_type": "display_data"
    },
    {
     "data": {
      "text/plain": [
       "cond_1\n",
       "Carcinoma in situ of breast                                 10\n",
       "Malignant neoplasm of nipple and areola of female breast     7\n",
       "Malignant neoplasm of axillary tail of female breast         7\n",
       "Neoplasm of uncertain behavior of breast                     1\n",
       "Name: count, dtype: int64"
      ]
     },
     "metadata": {},
     "output_type": "display_data"
    },
    {
     "data": {
      "text/plain": [
       "cond_2\n",
       "Malignant neoplasm of nipple and areola of female breast    6\n",
       "Carcinoma in situ of breast                                 2\n",
       "Name: count, dtype: int64"
      ]
     },
     "metadata": {},
     "output_type": "display_data"
    },
    {
     "data": {
      "text/plain": [
       "cond_3\n",
       "Carcinoma in situ of breast    2\n",
       "Name: count, dtype: int64"
      ]
     },
     "metadata": {},
     "output_type": "display_data"
    }
   ],
   "source": [
    "display(small_nodup['cond_0'].value_counts())\n",
    "display(small_nodup['cond_1'].value_counts())\n",
    "display(small_nodup['cond_2'].value_counts())\n",
    "display(small_nodup['cond_3'].value_counts())"
   ]
  },
  {
   "cell_type": "code",
   "execution_count": 222,
   "metadata": {},
   "outputs": [],
   "source": [
    "#pivot the DF from long to wide\n",
    "pivoted = small_nodup.pivot(index='person_id', columns='readministration', values='drug_concept_label').reset_index()\n",
    "# add the prefix 'drug' to every instance\n",
    "prefixed = pivoted.add_prefix('drug')\n",
    "#remove the word 'drug' from other variables\n",
    "df = prefixed.rename(columns={\"drugperson_id\": \"person_id\", \"readministration\":\"index\"})"
   ]
  },
  {
   "cell_type": "code",
   "execution_count": 223,
   "metadata": {},
   "outputs": [
    {
     "data": {
      "text/html": [
       "<div>\n",
       "<style scoped>\n",
       "    .dataframe tbody tr th:only-of-type {\n",
       "        vertical-align: middle;\n",
       "    }\n",
       "\n",
       "    .dataframe tbody tr th {\n",
       "        vertical-align: top;\n",
       "    }\n",
       "\n",
       "    .dataframe thead th {\n",
       "        text-align: right;\n",
       "    }\n",
       "</style>\n",
       "<table border=\"1\" class=\"dataframe\">\n",
       "  <thead>\n",
       "    <tr style=\"text-align: right;\">\n",
       "      <th>readministration</th>\n",
       "      <th>person_id</th>\n",
       "      <th>drug0</th>\n",
       "      <th>drug1</th>\n",
       "      <th>drug2</th>\n",
       "      <th>drug3</th>\n",
       "      <th>drug4</th>\n",
       "      <th>drug5</th>\n",
       "      <th>drug6</th>\n",
       "      <th>drug7</th>\n",
       "      <th>drug8</th>\n",
       "      <th>...</th>\n",
       "      <th>drug15</th>\n",
       "      <th>drug16</th>\n",
       "      <th>drug17</th>\n",
       "      <th>drug18</th>\n",
       "      <th>drug19</th>\n",
       "      <th>drug20</th>\n",
       "      <th>drug21</th>\n",
       "      <th>drug22</th>\n",
       "      <th>drug23</th>\n",
       "      <th>drug24</th>\n",
       "    </tr>\n",
       "  </thead>\n",
       "  <tbody>\n",
       "    <tr>\n",
       "      <th>0</th>\n",
       "      <td>1319</td>\n",
       "      <td>epoetin alfa</td>\n",
       "      <td>NaN</td>\n",
       "      <td>NaN</td>\n",
       "      <td>NaN</td>\n",
       "      <td>NaN</td>\n",
       "      <td>NaN</td>\n",
       "      <td>NaN</td>\n",
       "      <td>NaN</td>\n",
       "      <td>NaN</td>\n",
       "      <td>...</td>\n",
       "      <td>NaN</td>\n",
       "      <td>NaN</td>\n",
       "      <td>NaN</td>\n",
       "      <td>NaN</td>\n",
       "      <td>NaN</td>\n",
       "      <td>NaN</td>\n",
       "      <td>NaN</td>\n",
       "      <td>NaN</td>\n",
       "      <td>NaN</td>\n",
       "      <td>NaN</td>\n",
       "    </tr>\n",
       "    <tr>\n",
       "      <th>1</th>\n",
       "      <td>5090</td>\n",
       "      <td>epoetin alfa</td>\n",
       "      <td>NaN</td>\n",
       "      <td>NaN</td>\n",
       "      <td>NaN</td>\n",
       "      <td>NaN</td>\n",
       "      <td>NaN</td>\n",
       "      <td>NaN</td>\n",
       "      <td>NaN</td>\n",
       "      <td>NaN</td>\n",
       "      <td>...</td>\n",
       "      <td>NaN</td>\n",
       "      <td>NaN</td>\n",
       "      <td>NaN</td>\n",
       "      <td>NaN</td>\n",
       "      <td>NaN</td>\n",
       "      <td>NaN</td>\n",
       "      <td>NaN</td>\n",
       "      <td>NaN</td>\n",
       "      <td>NaN</td>\n",
       "      <td>NaN</td>\n",
       "    </tr>\n",
       "    <tr>\n",
       "      <th>2</th>\n",
       "      <td>8560</td>\n",
       "      <td>epoetin alfa</td>\n",
       "      <td>NaN</td>\n",
       "      <td>NaN</td>\n",
       "      <td>NaN</td>\n",
       "      <td>NaN</td>\n",
       "      <td>NaN</td>\n",
       "      <td>NaN</td>\n",
       "      <td>NaN</td>\n",
       "      <td>NaN</td>\n",
       "      <td>...</td>\n",
       "      <td>NaN</td>\n",
       "      <td>NaN</td>\n",
       "      <td>NaN</td>\n",
       "      <td>NaN</td>\n",
       "      <td>NaN</td>\n",
       "      <td>NaN</td>\n",
       "      <td>NaN</td>\n",
       "      <td>NaN</td>\n",
       "      <td>NaN</td>\n",
       "      <td>NaN</td>\n",
       "    </tr>\n",
       "    <tr>\n",
       "      <th>3</th>\n",
       "      <td>14706</td>\n",
       "      <td>paclitaxel</td>\n",
       "      <td>NaN</td>\n",
       "      <td>NaN</td>\n",
       "      <td>NaN</td>\n",
       "      <td>NaN</td>\n",
       "      <td>NaN</td>\n",
       "      <td>NaN</td>\n",
       "      <td>NaN</td>\n",
       "      <td>NaN</td>\n",
       "      <td>...</td>\n",
       "      <td>NaN</td>\n",
       "      <td>NaN</td>\n",
       "      <td>NaN</td>\n",
       "      <td>NaN</td>\n",
       "      <td>NaN</td>\n",
       "      <td>NaN</td>\n",
       "      <td>NaN</td>\n",
       "      <td>NaN</td>\n",
       "      <td>NaN</td>\n",
       "      <td>NaN</td>\n",
       "    </tr>\n",
       "    <tr>\n",
       "      <th>4</th>\n",
       "      <td>15157</td>\n",
       "      <td>cyclophosphamide</td>\n",
       "      <td>NaN</td>\n",
       "      <td>NaN</td>\n",
       "      <td>NaN</td>\n",
       "      <td>NaN</td>\n",
       "      <td>NaN</td>\n",
       "      <td>NaN</td>\n",
       "      <td>NaN</td>\n",
       "      <td>NaN</td>\n",
       "      <td>...</td>\n",
       "      <td>NaN</td>\n",
       "      <td>NaN</td>\n",
       "      <td>NaN</td>\n",
       "      <td>NaN</td>\n",
       "      <td>NaN</td>\n",
       "      <td>NaN</td>\n",
       "      <td>NaN</td>\n",
       "      <td>NaN</td>\n",
       "      <td>NaN</td>\n",
       "      <td>NaN</td>\n",
       "    </tr>\n",
       "  </tbody>\n",
       "</table>\n",
       "<p>5 rows × 26 columns</p>\n",
       "</div>"
      ],
      "text/plain": [
       "readministration  person_id             drug0 drug1 drug2 drug3 drug4 drug5  \\\n",
       "0                      1319      epoetin alfa   NaN   NaN   NaN   NaN   NaN   \n",
       "1                      5090      epoetin alfa   NaN   NaN   NaN   NaN   NaN   \n",
       "2                      8560      epoetin alfa   NaN   NaN   NaN   NaN   NaN   \n",
       "3                     14706        paclitaxel   NaN   NaN   NaN   NaN   NaN   \n",
       "4                     15157  cyclophosphamide   NaN   NaN   NaN   NaN   NaN   \n",
       "\n",
       "readministration drug6 drug7 drug8  ... drug15 drug16 drug17 drug18 drug19  \\\n",
       "0                  NaN   NaN   NaN  ...    NaN    NaN    NaN    NaN    NaN   \n",
       "1                  NaN   NaN   NaN  ...    NaN    NaN    NaN    NaN    NaN   \n",
       "2                  NaN   NaN   NaN  ...    NaN    NaN    NaN    NaN    NaN   \n",
       "3                  NaN   NaN   NaN  ...    NaN    NaN    NaN    NaN    NaN   \n",
       "4                  NaN   NaN   NaN  ...    NaN    NaN    NaN    NaN    NaN   \n",
       "\n",
       "readministration drug20 drug21 drug22 drug23 drug24  \n",
       "0                   NaN    NaN    NaN    NaN    NaN  \n",
       "1                   NaN    NaN    NaN    NaN    NaN  \n",
       "2                   NaN    NaN    NaN    NaN    NaN  \n",
       "3                   NaN    NaN    NaN    NaN    NaN  \n",
       "4                   NaN    NaN    NaN    NaN    NaN  \n",
       "\n",
       "[5 rows x 26 columns]"
      ]
     },
     "execution_count": 223,
     "metadata": {},
     "output_type": "execute_result"
    }
   ],
   "source": [
    "df.head()"
   ]
  },
  {
   "cell_type": "code",
   "execution_count": 230,
   "metadata": {},
   "outputs": [
    {
     "data": {
      "text/plain": [
       "drug3\n",
       "                      910\n",
       "epoetin alfa           40\n",
       "methylprednisolone      3\n",
       "filgrastim              1\n",
       "paclitaxel              1\n",
       "Name: count, dtype: int64"
      ]
     },
     "execution_count": 230,
     "metadata": {},
     "output_type": "execute_result"
    }
   ],
   "source": [
    "df['drug3'].value_counts()"
   ]
  },
  {
   "cell_type": "code",
   "execution_count": 225,
   "metadata": {},
   "outputs": [],
   "source": [
    "#add a value of 1 to all data points for sums in the visualization\n",
    "df[\"value\"] = 1\n",
    "#fill all empty cells with \"N/A\"\n",
    "df = df.fillna(\" \")"
   ]
  },
  {
   "cell_type": "code",
   "execution_count": 226,
   "metadata": {},
   "outputs": [
    {
     "data": {
      "text/html": [
       "<div>\n",
       "<style scoped>\n",
       "    .dataframe tbody tr th:only-of-type {\n",
       "        vertical-align: middle;\n",
       "    }\n",
       "\n",
       "    .dataframe tbody tr th {\n",
       "        vertical-align: top;\n",
       "    }\n",
       "\n",
       "    .dataframe thead th {\n",
       "        text-align: right;\n",
       "    }\n",
       "</style>\n",
       "<table border=\"1\" class=\"dataframe\">\n",
       "  <thead>\n",
       "    <tr style=\"text-align: right;\">\n",
       "      <th>readministration</th>\n",
       "      <th>person_id</th>\n",
       "      <th>drug0</th>\n",
       "      <th>drug1</th>\n",
       "      <th>drug2</th>\n",
       "      <th>drug3</th>\n",
       "      <th>drug4</th>\n",
       "      <th>drug5</th>\n",
       "      <th>drug6</th>\n",
       "      <th>drug7</th>\n",
       "      <th>drug8</th>\n",
       "      <th>...</th>\n",
       "      <th>drug16</th>\n",
       "      <th>drug17</th>\n",
       "      <th>drug18</th>\n",
       "      <th>drug19</th>\n",
       "      <th>drug20</th>\n",
       "      <th>drug21</th>\n",
       "      <th>drug22</th>\n",
       "      <th>drug23</th>\n",
       "      <th>drug24</th>\n",
       "      <th>value</th>\n",
       "    </tr>\n",
       "  </thead>\n",
       "  <tbody>\n",
       "    <tr>\n",
       "      <th>0</th>\n",
       "      <td>1319</td>\n",
       "      <td>epoetin alfa</td>\n",
       "      <td></td>\n",
       "      <td></td>\n",
       "      <td></td>\n",
       "      <td></td>\n",
       "      <td></td>\n",
       "      <td></td>\n",
       "      <td></td>\n",
       "      <td></td>\n",
       "      <td>...</td>\n",
       "      <td></td>\n",
       "      <td></td>\n",
       "      <td></td>\n",
       "      <td></td>\n",
       "      <td></td>\n",
       "      <td></td>\n",
       "      <td></td>\n",
       "      <td></td>\n",
       "      <td></td>\n",
       "      <td>1</td>\n",
       "    </tr>\n",
       "    <tr>\n",
       "      <th>1</th>\n",
       "      <td>5090</td>\n",
       "      <td>epoetin alfa</td>\n",
       "      <td></td>\n",
       "      <td></td>\n",
       "      <td></td>\n",
       "      <td></td>\n",
       "      <td></td>\n",
       "      <td></td>\n",
       "      <td></td>\n",
       "      <td></td>\n",
       "      <td>...</td>\n",
       "      <td></td>\n",
       "      <td></td>\n",
       "      <td></td>\n",
       "      <td></td>\n",
       "      <td></td>\n",
       "      <td></td>\n",
       "      <td></td>\n",
       "      <td></td>\n",
       "      <td></td>\n",
       "      <td>1</td>\n",
       "    </tr>\n",
       "    <tr>\n",
       "      <th>2</th>\n",
       "      <td>8560</td>\n",
       "      <td>epoetin alfa</td>\n",
       "      <td></td>\n",
       "      <td></td>\n",
       "      <td></td>\n",
       "      <td></td>\n",
       "      <td></td>\n",
       "      <td></td>\n",
       "      <td></td>\n",
       "      <td></td>\n",
       "      <td>...</td>\n",
       "      <td></td>\n",
       "      <td></td>\n",
       "      <td></td>\n",
       "      <td></td>\n",
       "      <td></td>\n",
       "      <td></td>\n",
       "      <td></td>\n",
       "      <td></td>\n",
       "      <td></td>\n",
       "      <td>1</td>\n",
       "    </tr>\n",
       "    <tr>\n",
       "      <th>3</th>\n",
       "      <td>14706</td>\n",
       "      <td>paclitaxel</td>\n",
       "      <td></td>\n",
       "      <td></td>\n",
       "      <td></td>\n",
       "      <td></td>\n",
       "      <td></td>\n",
       "      <td></td>\n",
       "      <td></td>\n",
       "      <td></td>\n",
       "      <td>...</td>\n",
       "      <td></td>\n",
       "      <td></td>\n",
       "      <td></td>\n",
       "      <td></td>\n",
       "      <td></td>\n",
       "      <td></td>\n",
       "      <td></td>\n",
       "      <td></td>\n",
       "      <td></td>\n",
       "      <td>1</td>\n",
       "    </tr>\n",
       "    <tr>\n",
       "      <th>4</th>\n",
       "      <td>15157</td>\n",
       "      <td>cyclophosphamide</td>\n",
       "      <td></td>\n",
       "      <td></td>\n",
       "      <td></td>\n",
       "      <td></td>\n",
       "      <td></td>\n",
       "      <td></td>\n",
       "      <td></td>\n",
       "      <td></td>\n",
       "      <td>...</td>\n",
       "      <td></td>\n",
       "      <td></td>\n",
       "      <td></td>\n",
       "      <td></td>\n",
       "      <td></td>\n",
       "      <td></td>\n",
       "      <td></td>\n",
       "      <td></td>\n",
       "      <td></td>\n",
       "      <td>1</td>\n",
       "    </tr>\n",
       "  </tbody>\n",
       "</table>\n",
       "<p>5 rows × 27 columns</p>\n",
       "</div>"
      ],
      "text/plain": [
       "readministration  person_id             drug0 drug1 drug2 drug3 drug4 drug5  \\\n",
       "0                      1319      epoetin alfa                                 \n",
       "1                      5090      epoetin alfa                                 \n",
       "2                      8560      epoetin alfa                                 \n",
       "3                     14706        paclitaxel                                 \n",
       "4                     15157  cyclophosphamide                                 \n",
       "\n",
       "readministration drug6 drug7 drug8  ... drug16 drug17 drug18 drug19 drug20  \\\n",
       "0                                   ...                                      \n",
       "1                                   ...                                      \n",
       "2                                   ...                                      \n",
       "3                                   ...                                      \n",
       "4                                   ...                                      \n",
       "\n",
       "readministration drug21 drug22 drug23 drug24 value  \n",
       "0                                                1  \n",
       "1                                                1  \n",
       "2                                                1  \n",
       "3                                                1  \n",
       "4                                                1  \n",
       "\n",
       "[5 rows x 27 columns]"
      ]
     },
     "execution_count": 226,
     "metadata": {},
     "output_type": "execute_result"
    }
   ],
   "source": [
    "df.head()"
   ]
  },
  {
   "cell_type": "code",
   "execution_count": 227,
   "metadata": {},
   "outputs": [
    {
     "data": {
      "application/vnd.plotly.v1+json": {
       "config": {
        "plotlyServerURL": "https://plot.ly"
       },
       "data": [
        {
         "branchvalues": "total",
         "customdata": [
          [
           "leuprolide"
          ],
          [
           " "
          ],
          [
           "leuprolide"
          ],
          [
           "leuprolide"
          ],
          [
           "filgrastim"
          ],
          [
           "azacitidine"
          ],
          [
           "leuprolide"
          ],
          [
           "doxorubicin"
          ],
          [
           "filgrastim"
          ],
          [
           "azacitidine"
          ],
          [
           "paclitaxel"
          ],
          [
           "epoetin alfa"
          ],
          [
           "epoetin alfa"
          ],
          [
           "epoetin alfa"
          ],
          [
           "cyclophosphamide"
          ],
          [
           " "
          ],
          [
           "paclitaxel"
          ],
          [
           "epoetin alfa"
          ],
          [
           "paclitaxel"
          ],
          [
           "epoetin alfa"
          ],
          [
           "octreotide"
          ],
          [
           "azacitidine"
          ],
          [
           "epoetin alfa"
          ],
          [
           "paclitaxel"
          ],
          [
           "doxorubicin"
          ],
          [
           "paclitaxel"
          ],
          [
           "triptorelin"
          ],
          [
           "cyclophosphamide"
          ],
          [
           "azacitidine"
          ],
          [
           "leuprolide"
          ],
          [
           " "
          ],
          [
           "cyclophosphamide"
          ],
          [
           "cyclophosphamide"
          ],
          [
           "methylprednisolone"
          ],
          [
           "(?)"
          ],
          [
           "methotrexate"
          ],
          [
           "epoetin alfa"
          ],
          [
           "hydrocortisone"
          ],
          [
           "paclitaxel"
          ],
          [
           "methylprednisolone"
          ],
          [
           "octreotide"
          ],
          [
           "doxorubicin"
          ],
          [
           "doxorubicin"
          ],
          [
           "azacitidine"
          ],
          [
           "leuprolide"
          ],
          [
           "epoetin alfa"
          ],
          [
           "filgrastim"
          ],
          [
           "doxorubicin"
          ],
          [
           "filgrastim"
          ],
          [
           "paclitaxel"
          ],
          [
           "filgrastim"
          ],
          [
           "leuprolide"
          ],
          [
           "cyclophosphamide"
          ],
          [
           "cyclophosphamide"
          ],
          [
           "methylprednisolone"
          ],
          [
           "hydrocortisone"
          ],
          [
           "methotrexate"
          ],
          [
           "triptorelin"
          ],
          [
           "methylprednisolone"
          ],
          [
           "leuprolide"
          ],
          [
           "methylprednisolone"
          ],
          [
           "paclitaxel"
          ],
          [
           "leuprolide"
          ],
          [
           "paclitaxel"
          ],
          [
           "methylprednisolone"
          ],
          [
           "cyclophosphamide"
          ],
          [
           "epoetin alfa"
          ],
          [
           "methylprednisolone"
          ],
          [
           "triptorelin"
          ],
          [
           " "
          ],
          [
           "cyclophosphamide"
          ],
          [
           "doxorubicin"
          ],
          [
           "epoetin alfa"
          ],
          [
           "filgrastim"
          ],
          [
           "epoetin alfa"
          ],
          [
           "leuprolide"
          ],
          [
           "hydrocortisone"
          ],
          [
           "azacitidine"
          ],
          [
           "leuprolide"
          ],
          [
           "epoetin alfa"
          ],
          [
           "azacitidine"
          ],
          [
           "methylprednisolone"
          ],
          [
           " "
          ],
          [
           "methylprednisolone"
          ],
          [
           "paclitaxel"
          ],
          [
           "paclitaxel"
          ],
          [
           "paclitaxel"
          ],
          [
           " "
          ],
          [
           "azacitidine"
          ],
          [
           " "
          ],
          [
           "methylprednisolone"
          ],
          [
           "cyclophosphamide"
          ],
          [
           "epoetin alfa"
          ],
          [
           "azacitidine"
          ],
          [
           "epoetin alfa"
          ],
          [
           "epoetin alfa"
          ],
          [
           "methylprednisolone"
          ],
          [
           "epoetin alfa"
          ],
          [
           "azacitidine"
          ],
          [
           "cyclophosphamide"
          ],
          [
           "epoetin alfa"
          ],
          [
           "filgrastim"
          ],
          [
           "filgrastim"
          ],
          [
           "cyclophosphamide"
          ],
          [
           "leuprolide"
          ],
          [
           "leuprolide"
          ],
          [
           "epoetin alfa"
          ],
          [
           "epoetin alfa"
          ],
          [
           "cyclophosphamide"
          ],
          [
           "epoetin alfa"
          ],
          [
           "epoetin alfa"
          ],
          [
           "epoetin alfa"
          ],
          [
           "epoetin alfa"
          ],
          [
           "methylprednisolone"
          ],
          [
           "methylprednisolone"
          ],
          [
           "cyclophosphamide"
          ],
          [
           "methylprednisolone"
          ],
          [
           "filgrastim"
          ],
          [
           "cyclophosphamide"
          ],
          [
           "filgrastim"
          ],
          [
           "doxorubicin"
          ],
          [
           "leuprolide"
          ],
          [
           "epoetin alfa"
          ],
          [
           "methylprednisolone"
          ],
          [
           "cyclophosphamide"
          ],
          [
           "filgrastim"
          ],
          [
           "cyclophosphamide"
          ],
          [
           "doxorubicin"
          ],
          [
           "cyclophosphamide"
          ],
          [
           "azacitidine"
          ],
          [
           "methylprednisolone"
          ],
          [
           "methotrexate"
          ],
          [
           "methotrexate"
          ],
          [
           "epoetin alfa"
          ],
          [
           "leuprolide"
          ],
          [
           " "
          ],
          [
           "triptorelin"
          ],
          [
           "cyclophosphamide"
          ],
          [
           "filgrastim"
          ],
          [
           "octreotide"
          ],
          [
           "paclitaxel"
          ],
          [
           "azacitidine"
          ],
          [
           "doxorubicin"
          ],
          [
           "cyclophosphamide"
          ],
          [
           "epoetin alfa"
          ],
          [
           "azacitidine"
          ],
          [
           "epoetin alfa"
          ],
          [
           "cyclophosphamide"
          ],
          [
           "filgrastim"
          ],
          [
           "epoetin alfa"
          ],
          [
           "paclitaxel"
          ],
          [
           "azacitidine"
          ],
          [
           "leuprolide"
          ],
          [
           "methotrexate"
          ],
          [
           "azacitidine"
          ],
          [
           "paclitaxel"
          ],
          [
           "epoetin alfa"
          ],
          [
           "methylprednisolone"
          ],
          [
           "epoetin alfa"
          ],
          [
           "filgrastim"
          ],
          [
           "paclitaxel"
          ],
          [
           "cyclophosphamide"
          ],
          [
           "leuprolide"
          ],
          [
           "cyclophosphamide"
          ],
          [
           "cyclophosphamide"
          ],
          [
           "filgrastim"
          ],
          [
           "epoetin alfa"
          ],
          [
           "methylprednisolone"
          ],
          [
           "epoetin alfa"
          ],
          [
           "epoetin alfa"
          ],
          [
           "epoetin alfa"
          ],
          [
           "azacitidine"
          ],
          [
           "cyclophosphamide"
          ],
          [
           "triptorelin"
          ],
          [
           "leuprolide"
          ],
          [
           "azacitidine"
          ],
          [
           "cyclophosphamide"
          ],
          [
           "epoetin alfa"
          ],
          [
           "epoetin alfa"
          ],
          [
           "filgrastim"
          ],
          [
           "epoetin alfa"
          ],
          [
           "filgrastim"
          ],
          [
           "filgrastim"
          ],
          [
           "paclitaxel"
          ],
          [
           "methylprednisolone"
          ],
          [
           " "
          ],
          [
           "leuprolide"
          ],
          [
           "azacitidine"
          ],
          [
           "epoetin alfa"
          ],
          [
           " "
          ],
          [
           "epoetin alfa"
          ],
          [
           "methylprednisolone"
          ],
          [
           "doxorubicin"
          ],
          [
           "epoetin alfa"
          ],
          [
           "leuprolide"
          ],
          [
           "filgrastim"
          ],
          [
           "filgrastim"
          ],
          [
           "azacitidine"
          ],
          [
           "methylprednisolone"
          ],
          [
           "filgrastim"
          ],
          [
           "leuprolide"
          ],
          [
           "hydrocortisone"
          ],
          [
           "filgrastim"
          ],
          [
           "leuprolide"
          ],
          [
           "epoetin alfa"
          ],
          [
           "filgrastim"
          ],
          [
           "paclitaxel"
          ],
          [
           "azacitidine"
          ],
          [
           "paclitaxel"
          ],
          [
           "epoetin alfa"
          ],
          [
           "filgrastim"
          ],
          [
           "paclitaxel"
          ],
          [
           "cyclophosphamide"
          ],
          [
           "paclitaxel"
          ],
          [
           "cyclophosphamide"
          ],
          [
           "octreotide"
          ],
          [
           "epoetin alfa"
          ],
          [
           "leuprolide"
          ],
          [
           "methylprednisolone"
          ],
          [
           "cyclophosphamide"
          ],
          [
           "epoetin alfa"
          ],
          [
           " "
          ],
          [
           "methylprednisolone"
          ],
          [
           "doxorubicin"
          ],
          [
           "azacitidine"
          ],
          [
           "cyclophosphamide"
          ],
          [
           "methotrexate"
          ],
          [
           "triptorelin"
          ],
          [
           "methylprednisolone"
          ],
          [
           "filgrastim"
          ],
          [
           "doxorubicin"
          ],
          [
           "doxorubicin"
          ],
          [
           "azacitidine"
          ],
          [
           "epoetin alfa"
          ],
          [
           "filgrastim"
          ],
          [
           "methylprednisolone"
          ],
          [
           "methylprednisolone"
          ],
          [
           "paclitaxel"
          ],
          [
           "methylprednisolone"
          ],
          [
           " "
          ],
          [
           "methotrexate"
          ],
          [
           "doxorubicin"
          ],
          [
           "hydrocortisone"
          ],
          [
           " "
          ],
          [
           "azacitidine"
          ],
          [
           "doxorubicin"
          ],
          [
           "filgrastim"
          ],
          [
           " "
          ],
          [
           "doxorubicin"
          ],
          [
           "azacitidine"
          ],
          [
           "methylprednisolone"
          ],
          [
           "cyclophosphamide"
          ],
          [
           "epoetin alfa"
          ],
          [
           "paclitaxel"
          ],
          [
           "cyclophosphamide"
          ],
          [
           "methylprednisolone"
          ],
          [
           "paclitaxel"
          ],
          [
           "methylprednisolone"
          ],
          [
           "epoetin alfa"
          ],
          [
           "leuprolide"
          ],
          [
           "epoetin alfa"
          ],
          [
           "cyclophosphamide"
          ],
          [
           "filgrastim"
          ],
          [
           "methylprednisolone"
          ],
          [
           "paclitaxel"
          ],
          [
           "epoetin alfa"
          ],
          [
           "triptorelin"
          ],
          [
           "doxorubicin"
          ],
          [
           "epoetin alfa"
          ],
          [
           "cyclophosphamide"
          ],
          [
           "paclitaxel"
          ],
          [
           "doxorubicin"
          ],
          [
           "methylprednisolone"
          ],
          [
           "leuprolide"
          ],
          [
           "filgrastim"
          ],
          [
           "filgrastim"
          ],
          [
           "azacitidine"
          ],
          [
           "cyclophosphamide"
          ],
          [
           "cyclophosphamide"
          ],
          [
           "leuprolide"
          ],
          [
           "azacitidine"
          ],
          [
           "azacitidine"
          ],
          [
           "methylprednisolone"
          ],
          [
           "triptorelin"
          ],
          [
           "azacitidine"
          ],
          [
           "octreotide"
          ],
          [
           "cyclophosphamide"
          ],
          [
           "azacitidine"
          ],
          [
           "cyclophosphamide"
          ],
          [
           "doxorubicin"
          ],
          [
           "doxorubicin"
          ],
          [
           "doxorubicin"
          ],
          [
           "cyclophosphamide"
          ],
          [
           "cyclophosphamide"
          ],
          [
           "leuprolide"
          ],
          [
           "methylprednisolone"
          ],
          [
           "cyclophosphamide"
          ],
          [
           "hydrocortisone"
          ],
          [
           "filgrastim"
          ],
          [
           "filgrastim"
          ],
          [
           "cyclophosphamide"
          ],
          [
           "hydrocortisone"
          ],
          [
           " "
          ],
          [
           "filgrastim"
          ],
          [
           "cyclophosphamide"
          ],
          [
           "epoetin alfa"
          ],
          [
           "methotrexate"
          ],
          [
           "epoetin alfa"
          ],
          [
           "cyclophosphamide"
          ],
          [
           " "
          ],
          [
           "leuprolide"
          ],
          [
           "hydrocortisone"
          ],
          [
           "doxorubicin"
          ],
          [
           "paclitaxel"
          ],
          [
           "azacitidine"
          ],
          [
           "azacitidine"
          ],
          [
           "paclitaxel"
          ],
          [
           "paclitaxel"
          ],
          [
           "methylprednisolone"
          ],
          [
           "azacitidine"
          ],
          [
           "methylprednisolone"
          ],
          [
           "paclitaxel"
          ],
          [
           "cyclophosphamide"
          ],
          [
           "epoetin alfa"
          ],
          [
           "leuprolide"
          ],
          [
           "azacitidine"
          ],
          [
           "methylprednisolone"
          ],
          [
           "methylprednisolone"
          ],
          [
           "epoetin alfa"
          ],
          [
           "methylprednisolone"
          ],
          [
           "epoetin alfa"
          ],
          [
           "cyclophosphamide"
          ],
          [
           "epoetin alfa"
          ],
          [
           "azacitidine"
          ],
          [
           "epoetin alfa"
          ],
          [
           "cyclophosphamide"
          ],
          [
           "triptorelin"
          ],
          [
           "triptorelin"
          ],
          [
           "filgrastim"
          ],
          [
           "triptorelin"
          ],
          [
           "methylprednisolone"
          ],
          [
           "leuprolide"
          ],
          [
           "paclitaxel"
          ],
          [
           "epoetin alfa"
          ],
          [
           "azacitidine"
          ],
          [
           "cyclophosphamide"
          ],
          [
           "cyclophosphamide"
          ],
          [
           "methylprednisolone"
          ],
          [
           "cyclophosphamide"
          ],
          [
           "epoetin alfa"
          ],
          [
           "azacitidine"
          ],
          [
           "doxorubicin"
          ],
          [
           "doxorubicin"
          ],
          [
           "epoetin alfa"
          ],
          [
           "paclitaxel"
          ],
          [
           "filgrastim"
          ],
          [
           "azacitidine"
          ],
          [
           "cyclophosphamide"
          ],
          [
           "methotrexate"
          ],
          [
           "epoetin alfa"
          ],
          [
           "azacitidine"
          ],
          [
           "cyclophosphamide"
          ],
          [
           "cyclophosphamide"
          ],
          [
           "methylprednisolone"
          ],
          [
           "triptorelin"
          ],
          [
           "doxorubicin"
          ],
          [
           "epoetin alfa"
          ],
          [
           "triptorelin"
          ],
          [
           "leuprolide"
          ],
          [
           "octreotide"
          ],
          [
           "filgrastim"
          ],
          [
           "filgrastim"
          ],
          [
           "methylprednisolone"
          ],
          [
           "azacitidine"
          ],
          [
           "cyclophosphamide"
          ],
          [
           "paclitaxel"
          ],
          [
           "methylprednisolone"
          ],
          [
           "azacitidine"
          ],
          [
           "epoetin alfa"
          ],
          [
           "cyclophosphamide"
          ],
          [
           "filgrastim"
          ],
          [
           "filgrastim"
          ],
          [
           "methylprednisolone"
          ],
          [
           "methylprednisolone"
          ],
          [
           "triptorelin"
          ],
          [
           "cyclophosphamide"
          ],
          [
           "hydrocortisone"
          ],
          [
           "cyclophosphamide"
          ],
          [
           "paclitaxel"
          ],
          [
           "azacitidine"
          ],
          [
           "epoetin alfa"
          ],
          [
           "cyclophosphamide"
          ],
          [
           "epoetin alfa"
          ],
          [
           "methylprednisolone"
          ],
          [
           "methylprednisolone"
          ],
          [
           "epoetin alfa"
          ],
          [
           "filgrastim"
          ],
          [
           "methylprednisolone"
          ],
          [
           "methylprednisolone"
          ],
          [
           "methylprednisolone"
          ],
          [
           "filgrastim"
          ],
          [
           "epoetin alfa"
          ],
          [
           "epoetin alfa"
          ],
          [
           "cyclophosphamide"
          ],
          [
           "leuprolide"
          ],
          [
           "azacitidine"
          ],
          [
           "leuprolide"
          ],
          [
           "cyclophosphamide"
          ],
          [
           "methylprednisolone"
          ],
          [
           "methylprednisolone"
          ],
          [
           "methotrexate"
          ],
          [
           "paclitaxel"
          ],
          [
           "epoetin alfa"
          ],
          [
           "epoetin alfa"
          ],
          [
           "epoetin alfa"
          ],
          [
           "epoetin alfa"
          ],
          [
           "methylprednisolone"
          ],
          [
           "epoetin alfa"
          ],
          [
           "methylprednisolone"
          ],
          [
           "doxorubicin"
          ],
          [
           "methylprednisolone"
          ],
          [
           "leuprolide"
          ],
          [
           "methylprednisolone"
          ],
          [
           "paclitaxel"
          ],
          [
           "leuprolide"
          ],
          [
           " "
          ],
          [
           "epoetin alfa"
          ],
          [
           "cyclophosphamide"
          ],
          [
           "cyclophosphamide"
          ],
          [
           "cyclophosphamide"
          ],
          [
           "triptorelin"
          ],
          [
           "filgrastim"
          ],
          [
           "methylprednisolone"
          ],
          [
           "doxorubicin"
          ],
          [
           "epoetin alfa"
          ],
          [
           "epoetin alfa"
          ],
          [
           "epoetin alfa"
          ],
          [
           "methylprednisolone"
          ],
          [
           " "
          ],
          [
           "triptorelin"
          ],
          [
           "epoetin alfa"
          ],
          [
           "triptorelin"
          ],
          [
           "triptorelin"
          ],
          [
           "triptorelin"
          ],
          [
           "azacitidine"
          ],
          [
           "paclitaxel"
          ],
          [
           "methylprednisolone"
          ],
          [
           "hydrocortisone"
          ],
          [
           "cyclophosphamide"
          ],
          [
           "hydrocortisone"
          ],
          [
           "doxorubicin"
          ],
          [
           "doxorubicin"
          ],
          [
           " "
          ],
          [
           "cyclophosphamide"
          ],
          [
           "triptorelin"
          ],
          [
           "azacitidine"
          ],
          [
           "methylprednisolone"
          ],
          [
           "cyclophosphamide"
          ],
          [
           "methylprednisolone"
          ],
          [
           " "
          ],
          [
           "epoetin alfa"
          ],
          [
           "epoetin alfa"
          ],
          [
           " "
          ],
          [
           "epoetin alfa"
          ],
          [
           "cyclophosphamide"
          ],
          [
           "methotrexate"
          ],
          [
           "azacitidine"
          ],
          [
           "epoetin alfa"
          ],
          [
           "paclitaxel"
          ],
          [
           "azacitidine"
          ],
          [
           "cyclophosphamide"
          ],
          [
           "triptorelin"
          ],
          [
           "doxorubicin"
          ],
          [
           "filgrastim"
          ],
          [
           "epoetin alfa"
          ],
          [
           "cyclophosphamide"
          ],
          [
           "filgrastim"
          ],
          [
           "azacitidine"
          ],
          [
           "cyclophosphamide"
          ],
          [
           "azacitidine"
          ],
          [
           "azacitidine"
          ],
          [
           "paclitaxel"
          ],
          [
           "filgrastim"
          ]
         ],
         "domain": {
          "x": [
           0,
           1
          ],
          "y": [
           0,
           1
          ]
         },
         "hovertemplate": "labels=%{label}<br>value=%{value}<br>parent=%{parent}<br>id=%{id}<br>drug0=%{customdata[0]}<extra></extra>",
         "ids": [
          "All/leuprolide/filgrastim/ ",
          "All/ /epoetin alfa/ / / / ",
          "All/leuprolide/paclitaxel/filgrastim",
          "All/leuprolide/leuprolide/ / / / ",
          "All/filgrastim/leuprolide/ / / / ",
          "All/azacitidine/methotrexate/octreotide/ / ",
          "All/leuprolide/paclitaxel",
          "All/doxorubicin/filgrastim/ / / / ",
          "All/filgrastim/leuprolide/ / / ",
          "All/azacitidine/filgrastim",
          "All/paclitaxel/methylprednisolone/ ",
          "All/epoetin alfa/cyclophosphamide",
          "All/epoetin alfa/cyclophosphamide/ / ",
          "All/epoetin alfa/hydrocortisone/ / / / ",
          "All/cyclophosphamide/leuprolide/ / / / ",
          "All/ /filgrastim/ / / / ",
          "All/paclitaxel/cyclophosphamide/methylprednisolone/ / / ",
          "All/epoetin alfa/epoetin alfa/doxorubicin",
          "All/paclitaxel/ ",
          "All/epoetin alfa/cyclophosphamide/ / / ",
          "All/octreotide/ / / / / ",
          "All/azacitidine/methotrexate/octreotide",
          "All/epoetin alfa",
          "All/paclitaxel/doxorubicin/ / / ",
          "All/doxorubicin/filgrastim/ ",
          "All/paclitaxel/methylprednisolone/ / / ",
          "All/triptorelin/paclitaxel/ / / ",
          "All/cyclophosphamide/filgrastim/ ",
          "All/azacitidine/epoetin alfa/ ",
          "All/leuprolide/paclitaxel/ / / ",
          "All/ /filgrastim/ ",
          "All/cyclophosphamide/paclitaxel/ / / ",
          "All/cyclophosphamide/epoetin alfa/ ",
          "All/methylprednisolone/paclitaxel/ / / ",
          "All",
          "All/methotrexate/filgrastim/ / / ",
          "All/epoetin alfa/methylprednisolone/ / / ",
          "All/hydrocortisone/ / / / ",
          "All/paclitaxel/paclitaxel/methylprednisolone",
          "All/methylprednisolone/ / / / ",
          "All/octreotide/ / / / ",
          "All/doxorubicin/cyclophosphamide/methylprednisolone",
          "All/doxorubicin/cyclophosphamide/ / / ",
          "All/azacitidine/cyclophosphamide/epoetin alfa",
          "All/leuprolide/methylprednisolone/ / / ",
          "All/epoetin alfa/methylprednisolone/cyclophosphamide",
          "All/filgrastim/epoetin alfa/ / / ",
          "All/doxorubicin/paclitaxel/ ",
          "All/filgrastim/filgrastim/ / / ",
          "All/paclitaxel/cyclophosphamide/ ",
          "All/filgrastim/methylprednisolone/ ",
          "All/leuprolide/leuprolide/ / / ",
          "All/cyclophosphamide/methotrexate/ ",
          "All/cyclophosphamide/paclitaxel/azacitidine",
          "All/methylprednisolone/cyclophosphamide/ ",
          "All/hydrocortisone/ / ",
          "All/methotrexate/cyclophosphamide/ ",
          "All/triptorelin/methylprednisolone/ / ",
          "All/methylprednisolone/methylprednisolone/ / ",
          "All/leuprolide/cyclophosphamide/ / ",
          "All/methylprednisolone/cyclophosphamide/ / ",
          "All/paclitaxel/cyclophosphamide/ / ",
          "All/leuprolide/methylprednisolone/ / ",
          "All/paclitaxel/doxorubicin/ / ",
          "All/methylprednisolone/methotrexate/ / ",
          "All/cyclophosphamide/octreotide/ / ",
          "All/epoetin alfa/epoetin alfa/ / ",
          "All/methylprednisolone/epoetin alfa/ / ",
          "All/triptorelin/epoetin alfa/ / ",
          "All/ /filgrastim/ / ",
          "All/cyclophosphamide/filgrastim/ / ",
          "All/doxorubicin/filgrastim/ / ",
          "All/epoetin alfa/filgrastim/ / ",
          "All/filgrastim/filgrastim/ / ",
          "All/epoetin alfa/leuprolide/ / ",
          "All/leuprolide/leuprolide/ / ",
          "All/hydrocortisone/epoetin alfa/cyclophosphamide/ / ",
          "All/azacitidine/cyclophosphamide/ / ",
          "All/leuprolide/paclitaxel/ / ",
          "All/epoetin alfa/epoetin alfa/doxorubicin/ / ",
          "All/azacitidine/cyclophosphamide/epoetin alfa/ / ",
          "All/methylprednisolone/filgrastim/filgrastim/ / ",
          "All/ / ",
          "All/methylprednisolone/epoetin alfa/epoetin alfa/methylprednisolone",
          "All/paclitaxel/paclitaxel/ /filgrastim",
          "All/paclitaxel/paclitaxel/ /filgrastim/ ",
          "All/paclitaxel/paclitaxel/methylprednisolone/epoetin alfa",
          "All/ /cyclophosphamide/ / ",
          "All/azacitidine/methotrexate/octreotide/ ",
          "All/ / / / ",
          "All/methylprednisolone/filgrastim/filgrastim/ ",
          "All/cyclophosphamide/ / / ",
          "All/epoetin alfa/ / / ",
          "All/azacitidine/cyclophosphamide/epoetin alfa/ ",
          "All/epoetin alfa/epoetin alfa/doxorubicin/ ",
          "All/epoetin alfa/doxorubicin/azacitidine/ ",
          "All/methylprednisolone/triptorelin/ / ",
          "All/epoetin alfa/leuprolide/octreotide/ ",
          "All/azacitidine/ ",
          "All/cyclophosphamide/hydrocortisone/ / ",
          "All/epoetin alfa/filgrastim/ / / / ",
          "All/filgrastim/epoetin alfa/ / / / ",
          "All/filgrastim/methylprednisolone",
          "All/cyclophosphamide/filgrastim/ / / / ",
          "All/leuprolide/filgrastim/ / / / ",
          "All/leuprolide/leuprolide",
          "All/epoetin alfa/leuprolide",
          "All/epoetin alfa/leuprolide/ / / / ",
          "All/cyclophosphamide/methotrexate/ / / / ",
          "All/epoetin alfa/methylprednisolone/cyclophosphamide/ / / ",
          "All/epoetin alfa/epoetin alfa",
          "All/epoetin alfa/doxorubicin/azacitidine/ / / ",
          "All/epoetin alfa/hydrocortisone",
          "All/methylprednisolone/triptorelin/ / / / ",
          "All/methylprednisolone/epoetin alfa",
          "All/cyclophosphamide/methylprednisolone/ / / / ",
          "All/methylprednisolone/paclitaxel/ / / / ",
          "All/filgrastim/paclitaxel/ / / / ",
          "All/cyclophosphamide/filgrastim",
          "All/filgrastim/methylprednisolone/ / / / ",
          "All/doxorubicin/filgrastim",
          "All/leuprolide/methylprednisolone/ / / / ",
          "All/epoetin alfa/filgrastim",
          "All/methylprednisolone/octreotide/ / / / ",
          "All/cyclophosphamide/octreotide/ / / / ",
          "All/filgrastim/filgrastim",
          "All/cyclophosphamide/epoetin alfa/ / / / ",
          "All/doxorubicin/cyclophosphamide",
          "All/cyclophosphamide/ ",
          "All/azacitidine/epoetin alfa/ / / / ",
          "All/methylprednisolone",
          "All/methotrexate/cyclophosphamide/ /methylprednisolone/leuprolide/ ",
          "All/methotrexate",
          "All/epoetin alfa/ / / / / ",
          "All/leuprolide/ / / / / ",
          "All/ ",
          "All/triptorelin/paclitaxel",
          "All/cyclophosphamide/azacitidine/ / / / ",
          "All/filgrastim/azacitidine/ / / / ",
          "All/octreotide/ ",
          "All/paclitaxel/paclitaxel/methylprednisolone/epoetin alfa/ / ",
          "All/azacitidine/methotrexate/octreotide/ / / ",
          "All/doxorubicin/cyclophosphamide/ / / / ",
          "All/cyclophosphamide/cyclophosphamide",
          "All/epoetin alfa/cyclophosphamide/ / / / ",
          "All/azacitidine/paclitaxel",
          "All/epoetin alfa/doxorubicin/ / / / ",
          "All/cyclophosphamide/paclitaxel",
          "All/filgrastim/filgrastim/methylprednisolone/ / / ",
          "All/epoetin alfa/leuprolide/octreotide/ / / ",
          "All/paclitaxel/cyclophosphamide/ / / / ",
          "All/azacitidine/ / ",
          "All/leuprolide/methylprednisolone",
          "All/methotrexate/filgrastim",
          "All/azacitidine",
          "All/paclitaxel/epoetin alfa/ / ",
          "All/epoetin alfa/methylprednisolone/ / / / ",
          "All/methylprednisolone/methotrexate",
          "All/epoetin alfa/epoetin alfa/filgrastim/epoetin alfa",
          "All/filgrastim/cyclophosphamide/ / / / ",
          "All/paclitaxel/ / ",
          "All/cyclophosphamide/cyclophosphamide/ / / / ",
          "All/leuprolide/paclitaxel/filgrastim/ / ",
          "All/cyclophosphamide/paclitaxel/ / ",
          "All/cyclophosphamide/leuprolide",
          "All/filgrastim/ / ",
          "All/epoetin alfa/ / ",
          "All/methylprednisolone/methylprednisolone/cyclophosphamide/ / ",
          "All/epoetin alfa/ ",
          "All/epoetin alfa/doxorubicin/ ",
          "All/epoetin alfa/doxorubicin/azacitidine",
          "All/azacitidine/paclitaxel/ ",
          "All/cyclophosphamide/paclitaxel/ ",
          "All/triptorelin/ / / / ",
          "All/leuprolide/methylprednisolone/ ",
          "All/azacitidine/triptorelin/methylprednisolone/ / / ",
          "All/cyclophosphamide/filgrastim/filgrastim/methylprednisolone/ / ",
          "All/epoetin alfa/epoetin alfa/cyclophosphamide/ / / ",
          "All/epoetin alfa/doxorubicin/ / / ",
          "All/filgrastim/leuprolide/ ",
          "All/epoetin alfa/epoetin alfa/epoetin alfa/epoetin alfa/epoetin alfa/ ",
          "All/filgrastim/azacitidine",
          "All/filgrastim/ / / / ",
          "All/paclitaxel/doxorubicin/ ",
          "All/methylprednisolone/methylprednisolone/cyclophosphamide",
          "All/ /filgrastim",
          "All/leuprolide/paclitaxel/filgrastim/ / / ",
          "All/azacitidine/paclitaxel/ / / ",
          "All/epoetin alfa/epoetin alfa/ ",
          "All/ /filgrastim/ / / ",
          "All/epoetin alfa/epoetin alfa/filgrastim",
          "All/methylprednisolone/epoetin alfa/epoetin alfa",
          "All/doxorubicin/paclitaxel",
          "All/epoetin alfa/hydrocortisone/ / ",
          "All/leuprolide/filgrastim",
          "All/filgrastim/paclitaxel",
          "All/filgrastim/methylprednisolone/ / ",
          "All/azacitidine/methylprednisolone/ / ",
          "All/methylprednisolone/octreotide/ / ",
          "All/filgrastim/filgrastim/methylprednisolone",
          "All/leuprolide/ ",
          "All/hydrocortisone/ ",
          "All/filgrastim/leuprolide/ / ",
          "All/leuprolide",
          "All/epoetin alfa/leuprolide/octreotide",
          "All/filgrastim/ ",
          "All/paclitaxel",
          "All/azacitidine/paclitaxel/epoetin alfa",
          "All/paclitaxel/cyclophosphamide/methylprednisolone",
          "All/epoetin alfa/paclitaxel/ ",
          "All/filgrastim/paclitaxel/ / ",
          "All/paclitaxel/epoetin alfa/ ",
          "All/cyclophosphamide/hydrocortisone",
          "All/paclitaxel/epoetin alfa",
          "All/cyclophosphamide/hydrocortisone/ ",
          "All/octreotide/ / ",
          "All/epoetin alfa/leuprolide/ ",
          "All/leuprolide/ / ",
          "All/methylprednisolone/methotrexate/ ",
          "All/cyclophosphamide/methylprednisolone/ ",
          "All/epoetin alfa/methylprednisolone/ ",
          "All/ / / ",
          "All/methylprednisolone/methylprednisolone/ ",
          "All/doxorubicin/paclitaxel/ / ",
          "All/azacitidine/epoetin alfa",
          "All/cyclophosphamide/methotrexate",
          "All/methotrexate/cyclophosphamide",
          "All/triptorelin/methylprednisolone/ ",
          "All/methylprednisolone/octreotide/ ",
          "All/filgrastim/filgrastim/methylprednisolone/ ",
          "All/doxorubicin/cyclophosphamide/methylprednisolone/ ",
          "All/doxorubicin/methylprednisolone",
          "All/azacitidine/paclitaxel/epoetin alfa/ ",
          "All/epoetin alfa/methylprednisolone",
          "All/filgrastim/cyclophosphamide",
          "All/methylprednisolone/octreotide",
          "All/methylprednisolone/triptorelin/ ",
          "All/paclitaxel/doxorubicin",
          "All/methylprednisolone/cyclophosphamide/epoetin alfa",
          "All/ / / / / / ",
          "All/methotrexate/filgrastim/ / ",
          "All/doxorubicin/paclitaxel/ / / ",
          "All/hydrocortisone/ / / ",
          "All/ /cyclophosphamide/ / / / ",
          "All/azacitidine/ / / / ",
          "All/doxorubicin/ / / ",
          "All/filgrastim/paclitaxel/ / / ",
          "All/ / / / / ",
          "All/doxorubicin/filgrastim/ / / ",
          "All/azacitidine/paclitaxel/epoetin alfa/ / / ",
          "All/methylprednisolone/triptorelin/ / / ",
          "All/cyclophosphamide/paclitaxel/ / / / ",
          "All/epoetin alfa/epoetin alfa/epoetin alfa/epoetin alfa/epoetin alfa",
          "All/paclitaxel/epoetin alfa/ / / / ",
          "All/cyclophosphamide/filgrastim/filgrastim/methylprednisolone/ ",
          "All/methylprednisolone/epoetin alfa/epoetin alfa/methylprednisolone/ ",
          "All/paclitaxel/paclitaxel/methylprednisolone/epoetin alfa/ ",
          "All/methylprednisolone/methotrexate/ / / ",
          "All/epoetin alfa/epoetin alfa/ / / ",
          "All/leuprolide/ / / / ",
          "All/epoetin alfa/filgrastim/ / / ",
          "All/cyclophosphamide/paclitaxel/azacitidine/paclitaxel/ / ",
          "All/filgrastim/cyclophosphamide/ / / ",
          "All/methylprednisolone/methylprednisolone/ / / / ",
          "All/paclitaxel/cyclophosphamide/methylprednisolone/ / ",
          "All/epoetin alfa/leuprolide/methylprednisolone/ / / ",
          "All/triptorelin/ / / / / ",
          "All/doxorubicin/paclitaxel/ / / / ",
          "All/epoetin alfa/paclitaxel/ / / ",
          "All/cyclophosphamide/hydrocortisone/ / / ",
          "All/paclitaxel/ / / / ",
          "All/doxorubicin/methylprednisolone/ / / ",
          "All/methylprednisolone/filgrastim/ / ",
          "All/leuprolide/ / / ",
          "All/filgrastim/cyclophosphamide/ / ",
          "All/filgrastim/epoetin alfa/ / ",
          "All/azacitidine/filgrastim/ / ",
          "All/cyclophosphamide/cyclophosphamide/ / ",
          "All/cyclophosphamide/ / / / / ",
          "All/leuprolide/filgrastim/ / ",
          "All/azacitidine/epoetin alfa/ / ",
          "All/azacitidine/ / / / / ",
          "All/methylprednisolone/methylprednisolone/ / / ",
          "All/triptorelin/methylprednisolone/ / / ",
          "All/azacitidine/epoetin alfa/ / / ",
          "All/octreotide/ / / ",
          "All/cyclophosphamide/epoetin alfa/ / / ",
          "All/azacitidine/cyclophosphamide/epoetin alfa/ / / ",
          "All/cyclophosphamide/filgrastim/ / / ",
          "All/doxorubicin/cyclophosphamide/methylprednisolone/ / / ",
          "All/doxorubicin/cyclophosphamide/ ",
          "All/doxorubicin/methylprednisolone/ / / / ",
          "All/cyclophosphamide/methylprednisolone/ / / ",
          "All/cyclophosphamide/cyclophosphamide/ ",
          "All/leuprolide/paclitaxel/ / / / ",
          "All/methylprednisolone/methylprednisolone/cyclophosphamide/ / / ",
          "All/cyclophosphamide/methotrexate/ / / ",
          "All/hydrocortisone/epoetin alfa/cyclophosphamide",
          "All/filgrastim/methylprednisolone/ / / ",
          "All/filgrastim/filgrastim/ ",
          "All/cyclophosphamide/triptorelin/ / / ",
          "All/hydrocortisone/epoetin alfa",
          "All/ /epoetin alfa/ ",
          "All/filgrastim/azacitidine/ ",
          "All/cyclophosphamide/leuprolide/ / / ",
          "All/epoetin alfa/epoetin alfa/cyclophosphamide/ / ",
          "All/methotrexate/cyclophosphamide/ /methylprednisolone",
          "All/epoetin alfa/epoetin alfa/cyclophosphamide/ ",
          "All/cyclophosphamide/methylprednisolone/ / ",
          "All/ /cyclophosphamide",
          "All/leuprolide/paclitaxel/ ",
          "All/hydrocortisone/ / / / / ",
          "All/doxorubicin/cyclophosphamide/ / ",
          "All/paclitaxel/epoetin alfa/ / / ",
          "All/azacitidine/paclitaxel/ / ",
          "All/azacitidine/filgrastim/ / / ",
          "All/paclitaxel/ / / ",
          "All/paclitaxel/ / / / / ",
          "All/methylprednisolone/triptorelin",
          "All/azacitidine/triptorelin",
          "All/methylprednisolone/filgrastim/ / / / ",
          "All/paclitaxel/paclitaxel",
          "All/cyclophosphamide/azacitidine/ / / ",
          "All/epoetin alfa/doxorubicin",
          "All/leuprolide/cyclophosphamide/ / / / ",
          "All/azacitidine/paclitaxel/epoetin alfa/ / ",
          "All/methylprednisolone/epoetin alfa/ / / ",
          "All/methylprednisolone/cyclophosphamide/epoetin alfa/ / / ",
          "All/epoetin alfa/epoetin alfa/methylprednisolone/ / ",
          "All/methylprednisolone/epoetin alfa/epoetin alfa/methylprednisolone/ / ",
          "All/epoetin alfa/paclitaxel",
          "All/cyclophosphamide/paclitaxel/azacitidine/paclitaxel",
          "All/epoetin alfa/epoetin alfa/epoetin alfa/epoetin alfa/epoetin alfa/epoetin alfa",
          "All/azacitidine/triptorelin/methylprednisolone/ ",
          "All/epoetin alfa/leuprolide/methylprednisolone/ ",
          "All/cyclophosphamide/filgrastim/filgrastim/methylprednisolone",
          "All/triptorelin/ / / ",
          "All/triptorelin/epoetin alfa/ / / / ",
          "All/filgrastim/epoetin alfa",
          "All/triptorelin/paclitaxel/ / / / ",
          "All/methylprednisolone/methylprednisolone",
          "All/leuprolide/filgrastim/ / / ",
          "All/paclitaxel/paclitaxel/ ",
          "All/epoetin alfa/hydrocortisone/ / / ",
          "All/azacitidine/methotrexate",
          "All/cyclophosphamide/triptorelin/ ",
          "All/cyclophosphamide/azacitidine/ / ",
          "All/methylprednisolone/ / / / / ",
          "All/cyclophosphamide/triptorelin/ / ",
          "All/epoetin alfa/epoetin alfa/methylprednisolone",
          "All/azacitidine/triptorelin/methylprednisolone/ / ",
          "All/doxorubicin",
          "All/doxorubicin/ / ",
          "All/epoetin alfa/methylprednisolone/ / ",
          "All/paclitaxel/paclitaxel/ /filgrastim/ / ",
          "All/filgrastim/cyclophosphamide/ ",
          "All/azacitidine/paclitaxel/ / / / ",
          "All/cyclophosphamide/octreotide/ / / ",
          "All/methotrexate/filgrastim/ / / / ",
          "All/epoetin alfa/doxorubicin/ / ",
          "All/azacitidine/methylprednisolone/ / / ",
          "All/cyclophosphamide/ / / / ",
          "All/cyclophosphamide/azacitidine",
          "All/methylprednisolone/ ",
          "All/triptorelin/ ",
          "All/doxorubicin/ ",
          "All/epoetin alfa/epoetin alfa/filgrastim/epoetin alfa/epoetin alfa/epoetin alfa",
          "All/triptorelin/methylprednisolone/ / / / ",
          "All/leuprolide/cyclophosphamide",
          "All/octreotide",
          "All/filgrastim/ / / / / ",
          "All/filgrastim",
          "All/methylprednisolone/paclitaxel",
          "All/azacitidine/cyclophosphamide/ / / / ",
          "All/cyclophosphamide/octreotide",
          "All/paclitaxel/methylprednisolone",
          "All/methylprednisolone/epoetin alfa/ / / / ",
          "All/azacitidine/filgrastim/ / / / ",
          "All/epoetin alfa/epoetin alfa/methylprednisolone/ / / ",
          "All/cyclophosphamide/methylprednisolone",
          "All/filgrastim/filgrastim/ / / / ",
          "All/filgrastim/leuprolide",
          "All/methylprednisolone/methotrexate/ / / / ",
          "All/methylprednisolone/filgrastim",
          "All/triptorelin/epoetin alfa",
          "All/cyclophosphamide/triptorelin/ / / / ",
          "All/hydrocortisone/epoetin alfa/cyclophosphamide/ / / ",
          "All/cyclophosphamide/epoetin alfa",
          "All/paclitaxel/cyclophosphamide",
          "All/azacitidine/methylprednisolone",
          "All/epoetin alfa/ / / / ",
          "All/cyclophosphamide/leuprolide/ / ",
          "All/epoetin alfa/methylprednisolone/cyclophosphamide/ ",
          "All/methylprednisolone/filgrastim/ ",
          "All/methylprednisolone/methylprednisolone/cyclophosphamide/ ",
          "All/epoetin alfa/filgrastim/ ",
          "All/filgrastim/ / / ",
          "All/methylprednisolone/octreotide/ / / ",
          "All/methylprednisolone/epoetin alfa/ ",
          "All/methylprednisolone/cyclophosphamide/epoetin alfa/ ",
          "All/filgrastim/epoetin alfa/ ",
          "All/epoetin alfa/doxorubicin/azacitidine/ / ",
          "All/epoetin alfa/methylprednisolone/cyclophosphamide/ / ",
          "All/cyclophosphamide/paclitaxel/azacitidine/paclitaxel/ ",
          "All/leuprolide/cyclophosphamide/ ",
          "All/azacitidine/cyclophosphamide/ ",
          "All/leuprolide/paclitaxel/filgrastim/ ",
          "All/cyclophosphamide/azacitidine/ ",
          "All/methylprednisolone/cyclophosphamide/epoetin alfa/ / ",
          "All/methylprednisolone/ / ",
          "All/methotrexate/cyclophosphamide/ /methylprednisolone/leuprolide",
          "All/paclitaxel/cyclophosphamide/methylprednisolone/ ",
          "All/epoetin alfa/leuprolide/methylprednisolone/ / ",
          "All/epoetin alfa/leuprolide/octreotide/ / ",
          "All/epoetin alfa/epoetin alfa/epoetin alfa/epoetin alfa",
          "All/epoetin alfa/cyclophosphamide/ ",
          "All/methylprednisolone/ / / ",
          "All/epoetin alfa/epoetin alfa/filgrastim/epoetin alfa/epoetin alfa",
          "All/methylprednisolone/paclitaxel/ ",
          "All/doxorubicin/methylprednisolone/ / ",
          "All/methylprednisolone/filgrastim/filgrastim",
          "All/leuprolide/cyclophosphamide/ / / ",
          "All/methylprednisolone/cyclophosphamide/ / / ",
          "All/paclitaxel/cyclophosphamide/ / / ",
          "All/leuprolide/leuprolide/ ",
          "All/ /epoetin alfa/ / / ",
          "All/epoetin alfa/epoetin alfa/cyclophosphamide",
          "All/cyclophosphamide/methotrexate/ / ",
          "All/cyclophosphamide/filgrastim/filgrastim",
          "All/cyclophosphamide/epoetin alfa/ / ",
          "All/triptorelin/epoetin alfa/ / / ",
          "All/filgrastim/azacitidine/ / ",
          "All/methylprednisolone/filgrastim/ / / ",
          "All/doxorubicin/methylprednisolone/ ",
          "All/epoetin alfa/leuprolide/ / / ",
          "All/epoetin alfa/paclitaxel/ / ",
          "All/epoetin alfa/leuprolide/methylprednisolone",
          "All/methylprednisolone/paclitaxel/ / ",
          "All/ /epoetin alfa/ / ",
          "All/triptorelin/epoetin alfa/ ",
          "All/epoetin alfa/epoetin alfa/ / / / ",
          "All/triptorelin/paclitaxel/ / ",
          "All/triptorelin",
          "All/triptorelin/methylprednisolone",
          "All/azacitidine/ / / ",
          "All/paclitaxel/doxorubicin/ / / / ",
          "All/methylprednisolone/cyclophosphamide/ / / / ",
          "All/hydrocortisone",
          "All/cyclophosphamide",
          "All/hydrocortisone/epoetin alfa/cyclophosphamide/ ",
          "All/doxorubicin/ / / / / ",
          "All/doxorubicin/ / / / ",
          "All/ /cyclophosphamide/ ",
          "All/cyclophosphamide/ / ",
          "All/triptorelin/paclitaxel/ ",
          "All/azacitidine/cyclophosphamide",
          "All/methylprednisolone/filgrastim/filgrastim/ / / ",
          "All/cyclophosphamide/octreotide/ ",
          "All/methylprednisolone/cyclophosphamide",
          "All/ /cyclophosphamide/ / / ",
          "All/epoetin alfa/epoetin alfa/doxorubicin/ / / ",
          "All/epoetin alfa/epoetin alfa/methylprednisolone/ ",
          "All/ /epoetin alfa",
          "All/epoetin alfa/epoetin alfa/epoetin alfa",
          "All/cyclophosphamide/leuprolide/ ",
          "All/methotrexate/filgrastim/ ",
          "All/azacitidine/filgrastim/ ",
          "All/epoetin alfa/paclitaxel/ / / / ",
          "All/paclitaxel/methylprednisolone/ / / / ",
          "All/azacitidine/triptorelin/methylprednisolone",
          "All/cyclophosphamide/hydrocortisone/ / / / ",
          "All/triptorelin/ / ",
          "All/doxorubicin/cyclophosphamide/methylprednisolone/ / ",
          "All/filgrastim/filgrastim/methylprednisolone/ / ",
          "All/epoetin alfa/hydrocortisone/ ",
          "All/cyclophosphamide/cyclophosphamide/ / / ",
          "All/filgrastim/azacitidine/ / / ",
          "All/azacitidine/cyclophosphamide/ / / ",
          "All/cyclophosphamide/triptorelin",
          "All/azacitidine/methylprednisolone/ ",
          "All/azacitidine/methylprednisolone/ / / / ",
          "All/paclitaxel/methylprednisolone/ / ",
          "All/filgrastim/paclitaxel/ "
         ],
         "labels": [
          " ",
          " ",
          "filgrastim",
          " ",
          " ",
          " ",
          "paclitaxel",
          " ",
          " ",
          "filgrastim",
          " ",
          "cyclophosphamide",
          " ",
          " ",
          " ",
          " ",
          " ",
          "doxorubicin",
          " ",
          " ",
          " ",
          "octreotide",
          "epoetin alfa",
          " ",
          " ",
          " ",
          " ",
          " ",
          " ",
          " ",
          " ",
          " ",
          " ",
          " ",
          "All",
          " ",
          " ",
          " ",
          "methylprednisolone",
          " ",
          " ",
          "methylprednisolone",
          " ",
          "epoetin alfa",
          " ",
          "cyclophosphamide",
          " ",
          " ",
          " ",
          " ",
          " ",
          " ",
          " ",
          "azacitidine",
          " ",
          " ",
          " ",
          " ",
          " ",
          " ",
          " ",
          " ",
          " ",
          " ",
          " ",
          " ",
          " ",
          " ",
          " ",
          " ",
          " ",
          " ",
          " ",
          " ",
          " ",
          " ",
          " ",
          " ",
          " ",
          " ",
          " ",
          " ",
          " ",
          "methylprednisolone",
          "filgrastim",
          " ",
          "epoetin alfa",
          " ",
          " ",
          " ",
          " ",
          " ",
          " ",
          " ",
          " ",
          " ",
          " ",
          " ",
          " ",
          " ",
          " ",
          " ",
          "methylprednisolone",
          " ",
          " ",
          "leuprolide",
          "leuprolide",
          " ",
          " ",
          " ",
          "epoetin alfa",
          " ",
          "hydrocortisone",
          " ",
          "epoetin alfa",
          " ",
          " ",
          " ",
          "filgrastim",
          " ",
          "filgrastim",
          " ",
          "filgrastim",
          " ",
          " ",
          "filgrastim",
          " ",
          "cyclophosphamide",
          " ",
          " ",
          "methylprednisolone",
          " ",
          "methotrexate",
          " ",
          " ",
          " ",
          "paclitaxel",
          " ",
          " ",
          " ",
          " ",
          " ",
          " ",
          "cyclophosphamide",
          " ",
          "paclitaxel",
          " ",
          "paclitaxel",
          " ",
          " ",
          " ",
          " ",
          "methylprednisolone",
          "filgrastim",
          "azacitidine",
          " ",
          " ",
          "methotrexate",
          "epoetin alfa",
          " ",
          " ",
          " ",
          " ",
          " ",
          "leuprolide",
          " ",
          " ",
          " ",
          " ",
          " ",
          "azacitidine",
          " ",
          " ",
          " ",
          " ",
          " ",
          " ",
          " ",
          " ",
          " ",
          " ",
          "azacitidine",
          " ",
          " ",
          "cyclophosphamide",
          "filgrastim",
          " ",
          " ",
          " ",
          " ",
          "filgrastim",
          "epoetin alfa",
          "paclitaxel",
          " ",
          "filgrastim",
          "paclitaxel",
          " ",
          " ",
          " ",
          "methylprednisolone",
          " ",
          " ",
          " ",
          "leuprolide",
          "octreotide",
          " ",
          "paclitaxel",
          "epoetin alfa",
          "methylprednisolone",
          " ",
          " ",
          " ",
          "hydrocortisone",
          "epoetin alfa",
          " ",
          " ",
          " ",
          " ",
          " ",
          " ",
          " ",
          " ",
          " ",
          " ",
          "epoetin alfa",
          "methotrexate",
          "cyclophosphamide",
          " ",
          " ",
          " ",
          " ",
          "methylprednisolone",
          " ",
          "methylprednisolone",
          "cyclophosphamide",
          "octreotide",
          " ",
          "doxorubicin",
          "epoetin alfa",
          " ",
          " ",
          " ",
          " ",
          " ",
          " ",
          " ",
          " ",
          " ",
          " ",
          " ",
          " ",
          " ",
          "epoetin alfa",
          " ",
          " ",
          " ",
          " ",
          " ",
          " ",
          " ",
          " ",
          " ",
          " ",
          " ",
          " ",
          " ",
          " ",
          " ",
          " ",
          " ",
          " ",
          " ",
          " ",
          " ",
          " ",
          " ",
          " ",
          " ",
          " ",
          " ",
          " ",
          " ",
          " ",
          " ",
          " ",
          " ",
          " ",
          " ",
          " ",
          " ",
          " ",
          " ",
          " ",
          " ",
          " ",
          " ",
          " ",
          "cyclophosphamide",
          " ",
          " ",
          " ",
          "epoetin alfa",
          " ",
          " ",
          " ",
          " ",
          "methylprednisolone",
          " ",
          " ",
          "cyclophosphamide",
          " ",
          " ",
          " ",
          " ",
          " ",
          " ",
          " ",
          " ",
          "triptorelin",
          "triptorelin",
          " ",
          "paclitaxel",
          " ",
          "doxorubicin",
          " ",
          " ",
          " ",
          " ",
          " ",
          " ",
          "paclitaxel",
          "paclitaxel",
          "epoetin alfa",
          " ",
          " ",
          "methylprednisolone",
          " ",
          " ",
          "epoetin alfa",
          " ",
          "methylprednisolone",
          " ",
          " ",
          " ",
          "methotrexate",
          " ",
          " ",
          " ",
          " ",
          "methylprednisolone",
          " ",
          "doxorubicin",
          " ",
          " ",
          " ",
          " ",
          " ",
          " ",
          " ",
          " ",
          " ",
          " ",
          "azacitidine",
          " ",
          " ",
          " ",
          "epoetin alfa",
          " ",
          "cyclophosphamide",
          "octreotide",
          " ",
          "filgrastim",
          "paclitaxel",
          " ",
          "octreotide",
          "methylprednisolone",
          " ",
          " ",
          " ",
          "methylprednisolone",
          " ",
          "leuprolide",
          " ",
          "filgrastim",
          "epoetin alfa",
          " ",
          " ",
          "epoetin alfa",
          "cyclophosphamide",
          "methylprednisolone",
          " ",
          " ",
          " ",
          " ",
          " ",
          " ",
          " ",
          " ",
          " ",
          " ",
          " ",
          " ",
          " ",
          " ",
          " ",
          " ",
          " ",
          " ",
          " ",
          " ",
          "leuprolide",
          " ",
          " ",
          " ",
          "epoetin alfa",
          " ",
          " ",
          "epoetin alfa",
          " ",
          " ",
          "filgrastim",
          " ",
          " ",
          " ",
          " ",
          " ",
          "cyclophosphamide",
          " ",
          "filgrastim",
          " ",
          " ",
          " ",
          " ",
          " ",
          " ",
          " ",
          "methylprednisolone",
          " ",
          " ",
          " ",
          " ",
          " ",
          "triptorelin",
          "methylprednisolone",
          " ",
          " ",
          " ",
          "hydrocortisone",
          "cyclophosphamide",
          " ",
          " ",
          " ",
          " ",
          " ",
          " ",
          "cyclophosphamide",
          " ",
          " ",
          "cyclophosphamide",
          " ",
          " ",
          " ",
          "epoetin alfa",
          "epoetin alfa",
          " ",
          " ",
          " ",
          " ",
          " ",
          "methylprednisolone",
          " ",
          " ",
          " ",
          " ",
          " ",
          " ",
          " ",
          " ",
          "triptorelin",
          " ",
          " ",
          " ",
          " "
         ],
         "marker": {
          "colors": [
           "rgba(0,0,0,0)",
           "rgba(0,0,0,0)",
           "#636efa",
           "rgba(0,0,0,0)",
           "rgba(0,0,0,0)",
           "rgba(0,0,0,0)",
           "#636efa",
           "rgba(0,0,0,0)",
           "rgba(0,0,0,0)",
           "#ab63fa",
           "rgba(0,0,0,0)",
           "#FF6692",
           "rgba(0,0,0,0)",
           "rgba(0,0,0,0)",
           "rgba(0,0,0,0)",
           "rgba(0,0,0,0)",
           "rgba(0,0,0,0)",
           "#FF6692",
           "rgba(0,0,0,0)",
           "rgba(0,0,0,0)",
           "rgba(0,0,0,0)",
           "#ab63fa",
           "#FF6692",
           "rgba(0,0,0,0)",
           "rgba(0,0,0,0)",
           "rgba(0,0,0,0)",
           "rgba(0,0,0,0)",
           "rgba(0,0,0,0)",
           "rgba(0,0,0,0)",
           "rgba(0,0,0,0)",
           "rgba(0,0,0,0)",
           "rgba(0,0,0,0)",
           "rgba(0,0,0,0)",
           "rgba(0,0,0,0)",
           "#EF553B",
           "rgba(0,0,0,0)",
           "rgba(0,0,0,0)",
           "rgba(0,0,0,0)",
           "#19d3f3",
           "rgba(0,0,0,0)",
           "rgba(0,0,0,0)",
           "#FFA15A",
           "rgba(0,0,0,0)",
           "#ab63fa",
           "rgba(0,0,0,0)",
           "#FF6692",
           "rgba(0,0,0,0)",
           "rgba(0,0,0,0)",
           "rgba(0,0,0,0)",
           "rgba(0,0,0,0)",
           "rgba(0,0,0,0)",
           "rgba(0,0,0,0)",
           "rgba(0,0,0,0)",
           "#B6E880",
           "rgba(0,0,0,0)",
           "rgba(0,0,0,0)",
           "rgba(0,0,0,0)",
           "rgba(0,0,0,0)",
           "rgba(0,0,0,0)",
           "rgba(0,0,0,0)",
           "rgba(0,0,0,0)",
           "rgba(0,0,0,0)",
           "rgba(0,0,0,0)",
           "rgba(0,0,0,0)",
           "rgba(0,0,0,0)",
           "rgba(0,0,0,0)",
           "rgba(0,0,0,0)",
           "rgba(0,0,0,0)",
           "rgba(0,0,0,0)",
           "rgba(0,0,0,0)",
           "rgba(0,0,0,0)",
           "rgba(0,0,0,0)",
           "rgba(0,0,0,0)",
           "rgba(0,0,0,0)",
           "rgba(0,0,0,0)",
           "rgba(0,0,0,0)",
           "rgba(0,0,0,0)",
           "rgba(0,0,0,0)",
           "rgba(0,0,0,0)",
           "rgba(0,0,0,0)",
           "rgba(0,0,0,0)",
           "rgba(0,0,0,0)",
           "rgba(0,0,0,0)",
           "#636efa",
           "#19d3f3",
           "rgba(0,0,0,0)",
           "#19d3f3",
           "rgba(0,0,0,0)",
           "rgba(0,0,0,0)",
           "rgba(0,0,0,0)",
           "rgba(0,0,0,0)",
           "rgba(0,0,0,0)",
           "rgba(0,0,0,0)",
           "rgba(0,0,0,0)",
           "rgba(0,0,0,0)",
           "rgba(0,0,0,0)",
           "rgba(0,0,0,0)",
           "rgba(0,0,0,0)",
           "rgba(0,0,0,0)",
           "rgba(0,0,0,0)",
           "rgba(0,0,0,0)",
           "rgba(0,0,0,0)",
           "#00cc96",
           "rgba(0,0,0,0)",
           "rgba(0,0,0,0)",
           "#636efa",
           "#FF6692",
           "rgba(0,0,0,0)",
           "rgba(0,0,0,0)",
           "rgba(0,0,0,0)",
           "#FF6692",
           "rgba(0,0,0,0)",
           "#FF6692",
           "rgba(0,0,0,0)",
           "#636efa",
           "rgba(0,0,0,0)",
           "rgba(0,0,0,0)",
           "rgba(0,0,0,0)",
           "#B6E880",
           "rgba(0,0,0,0)",
           "#FFA15A",
           "rgba(0,0,0,0)",
           "#FF6692",
           "rgba(0,0,0,0)",
           "rgba(0,0,0,0)",
           "#00cc96",
           "rgba(0,0,0,0)",
           "#FFA15A",
           "rgba(0,0,0,0)",
           "rgba(0,0,0,0)",
           "#636efa",
           "rgba(0,0,0,0)",
           "#00cc96",
           "rgba(0,0,0,0)",
           "rgba(0,0,0,0)",
           "rgba(0,0,0,0)",
           "#FECB52",
           "rgba(0,0,0,0)",
           "rgba(0,0,0,0)",
           "rgba(0,0,0,0)",
           "rgba(0,0,0,0)",
           "rgba(0,0,0,0)",
           "rgba(0,0,0,0)",
           "#B6E880",
           "rgba(0,0,0,0)",
           "#ab63fa",
           "rgba(0,0,0,0)",
           "#B6E880",
           "rgba(0,0,0,0)",
           "rgba(0,0,0,0)",
           "rgba(0,0,0,0)",
           "rgba(0,0,0,0)",
           "#636efa",
           "#00cc96",
           "#ab63fa",
           "rgba(0,0,0,0)",
           "rgba(0,0,0,0)",
           "#636efa",
           "#FF6692",
           "rgba(0,0,0,0)",
           "rgba(0,0,0,0)",
           "rgba(0,0,0,0)",
           "rgba(0,0,0,0)",
           "rgba(0,0,0,0)",
           "#B6E880",
           "rgba(0,0,0,0)",
           "rgba(0,0,0,0)",
           "rgba(0,0,0,0)",
           "rgba(0,0,0,0)",
           "rgba(0,0,0,0)",
           "#FF6692",
           "rgba(0,0,0,0)",
           "rgba(0,0,0,0)",
           "rgba(0,0,0,0)",
           "rgba(0,0,0,0)",
           "rgba(0,0,0,0)",
           "rgba(0,0,0,0)",
           "rgba(0,0,0,0)",
           "rgba(0,0,0,0)",
           "rgba(0,0,0,0)",
           "rgba(0,0,0,0)",
           "#00cc96",
           "rgba(0,0,0,0)",
           "rgba(0,0,0,0)",
           "#636efa",
           "#EF553B",
           "rgba(0,0,0,0)",
           "rgba(0,0,0,0)",
           "rgba(0,0,0,0)",
           "rgba(0,0,0,0)",
           "#FF6692",
           "#636efa",
           "#FFA15A",
           "rgba(0,0,0,0)",
           "#636efa",
           "#00cc96",
           "rgba(0,0,0,0)",
           "rgba(0,0,0,0)",
           "rgba(0,0,0,0)",
           "#00cc96",
           "rgba(0,0,0,0)",
           "rgba(0,0,0,0)",
           "rgba(0,0,0,0)",
           "#636efa",
           "#FF6692",
           "rgba(0,0,0,0)",
           "#19d3f3",
           "#ab63fa",
           "#19d3f3",
           "rgba(0,0,0,0)",
           "rgba(0,0,0,0)",
           "rgba(0,0,0,0)",
           "#B6E880",
           "#19d3f3",
           "rgba(0,0,0,0)",
           "rgba(0,0,0,0)",
           "rgba(0,0,0,0)",
           "rgba(0,0,0,0)",
           "rgba(0,0,0,0)",
           "rgba(0,0,0,0)",
           "rgba(0,0,0,0)",
           "rgba(0,0,0,0)",
           "rgba(0,0,0,0)",
           "rgba(0,0,0,0)",
           "#ab63fa",
           "#B6E880",
           "#00cc96",
           "rgba(0,0,0,0)",
           "rgba(0,0,0,0)",
           "rgba(0,0,0,0)",
           "rgba(0,0,0,0)",
           "#FFA15A",
           "rgba(0,0,0,0)",
           "#FF6692",
           "#00cc96",
           "#636efa",
           "rgba(0,0,0,0)",
           "#19d3f3",
           "#636efa",
           "rgba(0,0,0,0)",
           "rgba(0,0,0,0)",
           "rgba(0,0,0,0)",
           "rgba(0,0,0,0)",
           "rgba(0,0,0,0)",
           "rgba(0,0,0,0)",
           "rgba(0,0,0,0)",
           "rgba(0,0,0,0)",
           "rgba(0,0,0,0)",
           "rgba(0,0,0,0)",
           "rgba(0,0,0,0)",
           "rgba(0,0,0,0)",
           "rgba(0,0,0,0)",
           "#FF6692",
           "rgba(0,0,0,0)",
           "rgba(0,0,0,0)",
           "rgba(0,0,0,0)",
           "rgba(0,0,0,0)",
           "rgba(0,0,0,0)",
           "rgba(0,0,0,0)",
           "rgba(0,0,0,0)",
           "rgba(0,0,0,0)",
           "rgba(0,0,0,0)",
           "rgba(0,0,0,0)",
           "rgba(0,0,0,0)",
           "rgba(0,0,0,0)",
           "rgba(0,0,0,0)",
           "rgba(0,0,0,0)",
           "rgba(0,0,0,0)",
           "rgba(0,0,0,0)",
           "rgba(0,0,0,0)",
           "rgba(0,0,0,0)",
           "rgba(0,0,0,0)",
           "rgba(0,0,0,0)",
           "rgba(0,0,0,0)",
           "rgba(0,0,0,0)",
           "rgba(0,0,0,0)",
           "rgba(0,0,0,0)",
           "rgba(0,0,0,0)",
           "rgba(0,0,0,0)",
           "rgba(0,0,0,0)",
           "rgba(0,0,0,0)",
           "rgba(0,0,0,0)",
           "rgba(0,0,0,0)",
           "rgba(0,0,0,0)",
           "rgba(0,0,0,0)",
           "rgba(0,0,0,0)",
           "rgba(0,0,0,0)",
           "rgba(0,0,0,0)",
           "rgba(0,0,0,0)",
           "rgba(0,0,0,0)",
           "rgba(0,0,0,0)",
           "rgba(0,0,0,0)",
           "rgba(0,0,0,0)",
           "rgba(0,0,0,0)",
           "rgba(0,0,0,0)",
           "rgba(0,0,0,0)",
           "rgba(0,0,0,0)",
           "#ab63fa",
           "rgba(0,0,0,0)",
           "rgba(0,0,0,0)",
           "rgba(0,0,0,0)",
           "#ab63fa",
           "rgba(0,0,0,0)",
           "rgba(0,0,0,0)",
           "rgba(0,0,0,0)",
           "rgba(0,0,0,0)",
           "#00cc96",
           "rgba(0,0,0,0)",
           "rgba(0,0,0,0)",
           "#EF553B",
           "rgba(0,0,0,0)",
           "rgba(0,0,0,0)",
           "rgba(0,0,0,0)",
           "rgba(0,0,0,0)",
           "rgba(0,0,0,0)",
           "rgba(0,0,0,0)",
           "rgba(0,0,0,0)",
           "rgba(0,0,0,0)",
           "#636efa",
           "#ab63fa",
           "rgba(0,0,0,0)",
           "#19d3f3",
           "rgba(0,0,0,0)",
           "#FF6692",
           "rgba(0,0,0,0)",
           "rgba(0,0,0,0)",
           "rgba(0,0,0,0)",
           "rgba(0,0,0,0)",
           "rgba(0,0,0,0)",
           "rgba(0,0,0,0)",
           "#FF6692",
           "#B6E880",
           "#FF6692",
           "rgba(0,0,0,0)",
           "rgba(0,0,0,0)",
           "#B6E880",
           "rgba(0,0,0,0)",
           "rgba(0,0,0,0)",
           "#00cc96",
           "rgba(0,0,0,0)",
           "#636efa",
           "rgba(0,0,0,0)",
           "rgba(0,0,0,0)",
           "rgba(0,0,0,0)",
           "#ab63fa",
           "rgba(0,0,0,0)",
           "rgba(0,0,0,0)",
           "rgba(0,0,0,0)",
           "rgba(0,0,0,0)",
           "#FF6692",
           "rgba(0,0,0,0)",
           "#FFA15A",
           "rgba(0,0,0,0)",
           "rgba(0,0,0,0)",
           "rgba(0,0,0,0)",
           "rgba(0,0,0,0)",
           "rgba(0,0,0,0)",
           "rgba(0,0,0,0)",
           "rgba(0,0,0,0)",
           "rgba(0,0,0,0)",
           "rgba(0,0,0,0)",
           "rgba(0,0,0,0)",
           "#B6E880",
           "rgba(0,0,0,0)",
           "rgba(0,0,0,0)",
           "rgba(0,0,0,0)",
           "#FF6692",
           "rgba(0,0,0,0)",
           "#636efa",
           "#FF97FF",
           "rgba(0,0,0,0)",
           "#00cc96",
           "#636efa",
           "rgba(0,0,0,0)",
           "#B6E880",
           "#19d3f3",
           "rgba(0,0,0,0)",
           "rgba(0,0,0,0)",
           "rgba(0,0,0,0)",
           "#B6E880",
           "rgba(0,0,0,0)",
           "#00cc96",
           "rgba(0,0,0,0)",
           "#636efa",
           "#FECB52",
           "rgba(0,0,0,0)",
           "rgba(0,0,0,0)",
           "#B6E880",
           "#19d3f3",
           "#ab63fa",
           "rgba(0,0,0,0)",
           "rgba(0,0,0,0)",
           "rgba(0,0,0,0)",
           "rgba(0,0,0,0)",
           "rgba(0,0,0,0)",
           "rgba(0,0,0,0)",
           "rgba(0,0,0,0)",
           "rgba(0,0,0,0)",
           "rgba(0,0,0,0)",
           "rgba(0,0,0,0)",
           "rgba(0,0,0,0)",
           "rgba(0,0,0,0)",
           "rgba(0,0,0,0)",
           "rgba(0,0,0,0)",
           "rgba(0,0,0,0)",
           "rgba(0,0,0,0)",
           "rgba(0,0,0,0)",
           "rgba(0,0,0,0)",
           "rgba(0,0,0,0)",
           "rgba(0,0,0,0)",
           "#00cc96",
           "rgba(0,0,0,0)",
           "rgba(0,0,0,0)",
           "rgba(0,0,0,0)",
           "#FF6692",
           "rgba(0,0,0,0)",
           "rgba(0,0,0,0)",
           "#FF6692",
           "rgba(0,0,0,0)",
           "rgba(0,0,0,0)",
           "#636efa",
           "rgba(0,0,0,0)",
           "rgba(0,0,0,0)",
           "rgba(0,0,0,0)",
           "rgba(0,0,0,0)",
           "rgba(0,0,0,0)",
           "#FF6692",
           "rgba(0,0,0,0)",
           "#B6E880",
           "rgba(0,0,0,0)",
           "rgba(0,0,0,0)",
           "rgba(0,0,0,0)",
           "rgba(0,0,0,0)",
           "rgba(0,0,0,0)",
           "rgba(0,0,0,0)",
           "rgba(0,0,0,0)",
           "#FF6692",
           "rgba(0,0,0,0)",
           "rgba(0,0,0,0)",
           "rgba(0,0,0,0)",
           "rgba(0,0,0,0)",
           "rgba(0,0,0,0)",
           "#FECB52",
           "#FECB52",
           "rgba(0,0,0,0)",
           "rgba(0,0,0,0)",
           "rgba(0,0,0,0)",
           "#ab63fa",
           "#B6E880",
           "rgba(0,0,0,0)",
           "rgba(0,0,0,0)",
           "rgba(0,0,0,0)",
           "rgba(0,0,0,0)",
           "rgba(0,0,0,0)",
           "rgba(0,0,0,0)",
           "#ab63fa",
           "rgba(0,0,0,0)",
           "rgba(0,0,0,0)",
           "#636efa",
           "rgba(0,0,0,0)",
           "rgba(0,0,0,0)",
           "rgba(0,0,0,0)",
           "#EF553B",
           "#FF6692",
           "rgba(0,0,0,0)",
           "rgba(0,0,0,0)",
           "rgba(0,0,0,0)",
           "rgba(0,0,0,0)",
           "rgba(0,0,0,0)",
           "#ab63fa",
           "rgba(0,0,0,0)",
           "rgba(0,0,0,0)",
           "rgba(0,0,0,0)",
           "rgba(0,0,0,0)",
           "rgba(0,0,0,0)",
           "rgba(0,0,0,0)",
           "rgba(0,0,0,0)",
           "rgba(0,0,0,0)",
           "#B6E880",
           "rgba(0,0,0,0)",
           "rgba(0,0,0,0)",
           "rgba(0,0,0,0)",
           "rgba(0,0,0,0)"
          ]
         },
         "name": "",
         "parents": [
          "All/leuprolide/filgrastim",
          "All/ /epoetin alfa/ / / ",
          "All/leuprolide/paclitaxel",
          "All/leuprolide/leuprolide/ / / ",
          "All/filgrastim/leuprolide/ / / ",
          "All/azacitidine/methotrexate/octreotide/ ",
          "All/leuprolide",
          "All/doxorubicin/filgrastim/ / / ",
          "All/filgrastim/leuprolide/ / ",
          "All/azacitidine",
          "All/paclitaxel/methylprednisolone",
          "All/epoetin alfa",
          "All/epoetin alfa/cyclophosphamide/ ",
          "All/epoetin alfa/hydrocortisone/ / / ",
          "All/cyclophosphamide/leuprolide/ / / ",
          "All/ /filgrastim/ / / ",
          "All/paclitaxel/cyclophosphamide/methylprednisolone/ / ",
          "All/epoetin alfa/epoetin alfa",
          "All/paclitaxel",
          "All/epoetin alfa/cyclophosphamide/ / ",
          "All/octreotide/ / / / ",
          "All/azacitidine/methotrexate",
          "All",
          "All/paclitaxel/doxorubicin/ / ",
          "All/doxorubicin/filgrastim",
          "All/paclitaxel/methylprednisolone/ / ",
          "All/triptorelin/paclitaxel/ / ",
          "All/cyclophosphamide/filgrastim",
          "All/azacitidine/epoetin alfa",
          "All/leuprolide/paclitaxel/ / ",
          "All/ /filgrastim",
          "All/cyclophosphamide/paclitaxel/ / ",
          "All/cyclophosphamide/epoetin alfa",
          "All/methylprednisolone/paclitaxel/ / ",
          "",
          "All/methotrexate/filgrastim/ / ",
          "All/epoetin alfa/methylprednisolone/ / ",
          "All/hydrocortisone/ / / ",
          "All/paclitaxel/paclitaxel",
          "All/methylprednisolone/ / / ",
          "All/octreotide/ / / ",
          "All/doxorubicin/cyclophosphamide",
          "All/doxorubicin/cyclophosphamide/ / ",
          "All/azacitidine/cyclophosphamide",
          "All/leuprolide/methylprednisolone/ / ",
          "All/epoetin alfa/methylprednisolone",
          "All/filgrastim/epoetin alfa/ / ",
          "All/doxorubicin/paclitaxel",
          "All/filgrastim/filgrastim/ / ",
          "All/paclitaxel/cyclophosphamide",
          "All/filgrastim/methylprednisolone",
          "All/leuprolide/leuprolide/ / ",
          "All/cyclophosphamide/methotrexate",
          "All/cyclophosphamide/paclitaxel",
          "All/methylprednisolone/cyclophosphamide",
          "All/hydrocortisone/ ",
          "All/methotrexate/cyclophosphamide",
          "All/triptorelin/methylprednisolone/ ",
          "All/methylprednisolone/methylprednisolone/ ",
          "All/leuprolide/cyclophosphamide/ ",
          "All/methylprednisolone/cyclophosphamide/ ",
          "All/paclitaxel/cyclophosphamide/ ",
          "All/leuprolide/methylprednisolone/ ",
          "All/paclitaxel/doxorubicin/ ",
          "All/methylprednisolone/methotrexate/ ",
          "All/cyclophosphamide/octreotide/ ",
          "All/epoetin alfa/epoetin alfa/ ",
          "All/methylprednisolone/epoetin alfa/ ",
          "All/triptorelin/epoetin alfa/ ",
          "All/ /filgrastim/ ",
          "All/cyclophosphamide/filgrastim/ ",
          "All/doxorubicin/filgrastim/ ",
          "All/epoetin alfa/filgrastim/ ",
          "All/filgrastim/filgrastim/ ",
          "All/epoetin alfa/leuprolide/ ",
          "All/leuprolide/leuprolide/ ",
          "All/hydrocortisone/epoetin alfa/cyclophosphamide/ ",
          "All/azacitidine/cyclophosphamide/ ",
          "All/leuprolide/paclitaxel/ ",
          "All/epoetin alfa/epoetin alfa/doxorubicin/ ",
          "All/azacitidine/cyclophosphamide/epoetin alfa/ ",
          "All/methylprednisolone/filgrastim/filgrastim/ ",
          "All/ ",
          "All/methylprednisolone/epoetin alfa/epoetin alfa",
          "All/paclitaxel/paclitaxel/ ",
          "All/paclitaxel/paclitaxel/ /filgrastim",
          "All/paclitaxel/paclitaxel/methylprednisolone",
          "All/ /cyclophosphamide/ ",
          "All/azacitidine/methotrexate/octreotide",
          "All/ / / ",
          "All/methylprednisolone/filgrastim/filgrastim",
          "All/cyclophosphamide/ / ",
          "All/epoetin alfa/ / ",
          "All/azacitidine/cyclophosphamide/epoetin alfa",
          "All/epoetin alfa/epoetin alfa/doxorubicin",
          "All/epoetin alfa/doxorubicin/azacitidine",
          "All/methylprednisolone/triptorelin/ ",
          "All/epoetin alfa/leuprolide/octreotide",
          "All/azacitidine",
          "All/cyclophosphamide/hydrocortisone/ ",
          "All/epoetin alfa/filgrastim/ / / ",
          "All/filgrastim/epoetin alfa/ / / ",
          "All/filgrastim",
          "All/cyclophosphamide/filgrastim/ / / ",
          "All/leuprolide/filgrastim/ / / ",
          "All/leuprolide",
          "All/epoetin alfa",
          "All/epoetin alfa/leuprolide/ / / ",
          "All/cyclophosphamide/methotrexate/ / / ",
          "All/epoetin alfa/methylprednisolone/cyclophosphamide/ / ",
          "All/epoetin alfa",
          "All/epoetin alfa/doxorubicin/azacitidine/ / ",
          "All/epoetin alfa",
          "All/methylprednisolone/triptorelin/ / / ",
          "All/methylprednisolone",
          "All/cyclophosphamide/methylprednisolone/ / / ",
          "All/methylprednisolone/paclitaxel/ / / ",
          "All/filgrastim/paclitaxel/ / / ",
          "All/cyclophosphamide",
          "All/filgrastim/methylprednisolone/ / / ",
          "All/doxorubicin",
          "All/leuprolide/methylprednisolone/ / / ",
          "All/epoetin alfa",
          "All/methylprednisolone/octreotide/ / / ",
          "All/cyclophosphamide/octreotide/ / / ",
          "All/filgrastim",
          "All/cyclophosphamide/epoetin alfa/ / / ",
          "All/doxorubicin",
          "All/cyclophosphamide",
          "All/azacitidine/epoetin alfa/ / / ",
          "All",
          "All/methotrexate/cyclophosphamide/ /methylprednisolone/leuprolide",
          "All",
          "All/epoetin alfa/ / / / ",
          "All/leuprolide/ / / / ",
          "All",
          "All/triptorelin",
          "All/cyclophosphamide/azacitidine/ / / ",
          "All/filgrastim/azacitidine/ / / ",
          "All/octreotide",
          "All/paclitaxel/paclitaxel/methylprednisolone/epoetin alfa/ ",
          "All/azacitidine/methotrexate/octreotide/ / ",
          "All/doxorubicin/cyclophosphamide/ / / ",
          "All/cyclophosphamide",
          "All/epoetin alfa/cyclophosphamide/ / / ",
          "All/azacitidine",
          "All/epoetin alfa/doxorubicin/ / / ",
          "All/cyclophosphamide",
          "All/filgrastim/filgrastim/methylprednisolone/ / ",
          "All/epoetin alfa/leuprolide/octreotide/ / ",
          "All/paclitaxel/cyclophosphamide/ / / ",
          "All/azacitidine/ ",
          "All/leuprolide",
          "All/methotrexate",
          "All",
          "All/paclitaxel/epoetin alfa/ ",
          "All/epoetin alfa/methylprednisolone/ / / ",
          "All/methylprednisolone",
          "All/epoetin alfa/epoetin alfa/filgrastim",
          "All/filgrastim/cyclophosphamide/ / / ",
          "All/paclitaxel/ ",
          "All/cyclophosphamide/cyclophosphamide/ / / ",
          "All/leuprolide/paclitaxel/filgrastim/ ",
          "All/cyclophosphamide/paclitaxel/ ",
          "All/cyclophosphamide",
          "All/filgrastim/ ",
          "All/epoetin alfa/ ",
          "All/methylprednisolone/methylprednisolone/cyclophosphamide/ ",
          "All/epoetin alfa",
          "All/epoetin alfa/doxorubicin",
          "All/epoetin alfa/doxorubicin",
          "All/azacitidine/paclitaxel",
          "All/cyclophosphamide/paclitaxel",
          "All/triptorelin/ / / ",
          "All/leuprolide/methylprednisolone",
          "All/azacitidine/triptorelin/methylprednisolone/ / ",
          "All/cyclophosphamide/filgrastim/filgrastim/methylprednisolone/ ",
          "All/epoetin alfa/epoetin alfa/cyclophosphamide/ / ",
          "All/epoetin alfa/doxorubicin/ / ",
          "All/filgrastim/leuprolide",
          "All/epoetin alfa/epoetin alfa/epoetin alfa/epoetin alfa/epoetin alfa",
          "All/filgrastim",
          "All/filgrastim/ / / ",
          "All/paclitaxel/doxorubicin",
          "All/methylprednisolone/methylprednisolone",
          "All/ ",
          "All/leuprolide/paclitaxel/filgrastim/ / ",
          "All/azacitidine/paclitaxel/ / ",
          "All/epoetin alfa/epoetin alfa",
          "All/ /filgrastim/ / ",
          "All/epoetin alfa/epoetin alfa",
          "All/methylprednisolone/epoetin alfa",
          "All/doxorubicin",
          "All/epoetin alfa/hydrocortisone/ ",
          "All/leuprolide",
          "All/filgrastim",
          "All/filgrastim/methylprednisolone/ ",
          "All/azacitidine/methylprednisolone/ ",
          "All/methylprednisolone/octreotide/ ",
          "All/filgrastim/filgrastim",
          "All/leuprolide",
          "All/hydrocortisone",
          "All/filgrastim/leuprolide/ ",
          "All",
          "All/epoetin alfa/leuprolide",
          "All/filgrastim",
          "All",
          "All/azacitidine/paclitaxel",
          "All/paclitaxel/cyclophosphamide",
          "All/epoetin alfa/paclitaxel",
          "All/filgrastim/paclitaxel/ ",
          "All/paclitaxel/epoetin alfa",
          "All/cyclophosphamide",
          "All/paclitaxel",
          "All/cyclophosphamide/hydrocortisone",
          "All/octreotide/ ",
          "All/epoetin alfa/leuprolide",
          "All/leuprolide/ ",
          "All/methylprednisolone/methotrexate",
          "All/cyclophosphamide/methylprednisolone",
          "All/epoetin alfa/methylprednisolone",
          "All/ / ",
          "All/methylprednisolone/methylprednisolone",
          "All/doxorubicin/paclitaxel/ ",
          "All/azacitidine",
          "All/cyclophosphamide",
          "All/methotrexate",
          "All/triptorelin/methylprednisolone",
          "All/methylprednisolone/octreotide",
          "All/filgrastim/filgrastim/methylprednisolone",
          "All/doxorubicin/cyclophosphamide/methylprednisolone",
          "All/doxorubicin",
          "All/azacitidine/paclitaxel/epoetin alfa",
          "All/epoetin alfa",
          "All/filgrastim",
          "All/methylprednisolone",
          "All/methylprednisolone/triptorelin",
          "All/paclitaxel",
          "All/methylprednisolone/cyclophosphamide",
          "All/ / / / / ",
          "All/methotrexate/filgrastim/ ",
          "All/doxorubicin/paclitaxel/ / ",
          "All/hydrocortisone/ / ",
          "All/ /cyclophosphamide/ / / ",
          "All/azacitidine/ / / ",
          "All/doxorubicin/ / ",
          "All/filgrastim/paclitaxel/ / ",
          "All/ / / / ",
          "All/doxorubicin/filgrastim/ / ",
          "All/azacitidine/paclitaxel/epoetin alfa/ / ",
          "All/methylprednisolone/triptorelin/ / ",
          "All/cyclophosphamide/paclitaxel/ / / ",
          "All/epoetin alfa/epoetin alfa/epoetin alfa/epoetin alfa",
          "All/paclitaxel/epoetin alfa/ / / ",
          "All/cyclophosphamide/filgrastim/filgrastim/methylprednisolone",
          "All/methylprednisolone/epoetin alfa/epoetin alfa/methylprednisolone",
          "All/paclitaxel/paclitaxel/methylprednisolone/epoetin alfa",
          "All/methylprednisolone/methotrexate/ / ",
          "All/epoetin alfa/epoetin alfa/ / ",
          "All/leuprolide/ / / ",
          "All/epoetin alfa/filgrastim/ / ",
          "All/cyclophosphamide/paclitaxel/azacitidine/paclitaxel/ ",
          "All/filgrastim/cyclophosphamide/ / ",
          "All/methylprednisolone/methylprednisolone/ / / ",
          "All/paclitaxel/cyclophosphamide/methylprednisolone/ ",
          "All/epoetin alfa/leuprolide/methylprednisolone/ / ",
          "All/triptorelin/ / / / ",
          "All/doxorubicin/paclitaxel/ / / ",
          "All/epoetin alfa/paclitaxel/ / ",
          "All/cyclophosphamide/hydrocortisone/ / ",
          "All/paclitaxel/ / / ",
          "All/doxorubicin/methylprednisolone/ / ",
          "All/methylprednisolone/filgrastim/ ",
          "All/leuprolide/ / ",
          "All/filgrastim/cyclophosphamide/ ",
          "All/filgrastim/epoetin alfa/ ",
          "All/azacitidine/filgrastim/ ",
          "All/cyclophosphamide/cyclophosphamide/ ",
          "All/cyclophosphamide/ / / / ",
          "All/leuprolide/filgrastim/ ",
          "All/azacitidine/epoetin alfa/ ",
          "All/azacitidine/ / / / ",
          "All/methylprednisolone/methylprednisolone/ / ",
          "All/triptorelin/methylprednisolone/ / ",
          "All/azacitidine/epoetin alfa/ / ",
          "All/octreotide/ / ",
          "All/cyclophosphamide/epoetin alfa/ / ",
          "All/azacitidine/cyclophosphamide/epoetin alfa/ / ",
          "All/cyclophosphamide/filgrastim/ / ",
          "All/doxorubicin/cyclophosphamide/methylprednisolone/ / ",
          "All/doxorubicin/cyclophosphamide",
          "All/doxorubicin/methylprednisolone/ / / ",
          "All/cyclophosphamide/methylprednisolone/ / ",
          "All/cyclophosphamide/cyclophosphamide",
          "All/leuprolide/paclitaxel/ / / ",
          "All/methylprednisolone/methylprednisolone/cyclophosphamide/ / ",
          "All/cyclophosphamide/methotrexate/ / ",
          "All/hydrocortisone/epoetin alfa",
          "All/filgrastim/methylprednisolone/ / ",
          "All/filgrastim/filgrastim",
          "All/cyclophosphamide/triptorelin/ / ",
          "All/hydrocortisone",
          "All/ /epoetin alfa",
          "All/filgrastim/azacitidine",
          "All/cyclophosphamide/leuprolide/ / ",
          "All/epoetin alfa/epoetin alfa/cyclophosphamide/ ",
          "All/methotrexate/cyclophosphamide/ ",
          "All/epoetin alfa/epoetin alfa/cyclophosphamide",
          "All/cyclophosphamide/methylprednisolone/ ",
          "All/ ",
          "All/leuprolide/paclitaxel",
          "All/hydrocortisone/ / / / ",
          "All/doxorubicin/cyclophosphamide/ ",
          "All/paclitaxel/epoetin alfa/ / ",
          "All/azacitidine/paclitaxel/ ",
          "All/azacitidine/filgrastim/ / ",
          "All/paclitaxel/ / ",
          "All/paclitaxel/ / / / ",
          "All/methylprednisolone",
          "All/azacitidine",
          "All/methylprednisolone/filgrastim/ / / ",
          "All/paclitaxel",
          "All/cyclophosphamide/azacitidine/ / ",
          "All/epoetin alfa",
          "All/leuprolide/cyclophosphamide/ / / ",
          "All/azacitidine/paclitaxel/epoetin alfa/ ",
          "All/methylprednisolone/epoetin alfa/ / ",
          "All/methylprednisolone/cyclophosphamide/epoetin alfa/ / ",
          "All/epoetin alfa/epoetin alfa/methylprednisolone/ ",
          "All/methylprednisolone/epoetin alfa/epoetin alfa/methylprednisolone/ ",
          "All/epoetin alfa",
          "All/cyclophosphamide/paclitaxel/azacitidine",
          "All/epoetin alfa/epoetin alfa/epoetin alfa/epoetin alfa/epoetin alfa",
          "All/azacitidine/triptorelin/methylprednisolone",
          "All/epoetin alfa/leuprolide/methylprednisolone",
          "All/cyclophosphamide/filgrastim/filgrastim",
          "All/triptorelin/ / ",
          "All/triptorelin/epoetin alfa/ / / ",
          "All/filgrastim",
          "All/triptorelin/paclitaxel/ / / ",
          "All/methylprednisolone",
          "All/leuprolide/filgrastim/ / ",
          "All/paclitaxel/paclitaxel",
          "All/epoetin alfa/hydrocortisone/ / ",
          "All/azacitidine",
          "All/cyclophosphamide/triptorelin",
          "All/cyclophosphamide/azacitidine/ ",
          "All/methylprednisolone/ / / / ",
          "All/cyclophosphamide/triptorelin/ ",
          "All/epoetin alfa/epoetin alfa",
          "All/azacitidine/triptorelin/methylprednisolone/ ",
          "All",
          "All/doxorubicin/ ",
          "All/epoetin alfa/methylprednisolone/ ",
          "All/paclitaxel/paclitaxel/ /filgrastim/ ",
          "All/filgrastim/cyclophosphamide",
          "All/azacitidine/paclitaxel/ / / ",
          "All/cyclophosphamide/octreotide/ / ",
          "All/methotrexate/filgrastim/ / / ",
          "All/epoetin alfa/doxorubicin/ ",
          "All/azacitidine/methylprednisolone/ / ",
          "All/cyclophosphamide/ / / ",
          "All/cyclophosphamide",
          "All/methylprednisolone",
          "All/triptorelin",
          "All/doxorubicin",
          "All/epoetin alfa/epoetin alfa/filgrastim/epoetin alfa/epoetin alfa",
          "All/triptorelin/methylprednisolone/ / / ",
          "All/leuprolide",
          "All",
          "All/filgrastim/ / / / ",
          "All",
          "All/methylprednisolone",
          "All/azacitidine/cyclophosphamide/ / / ",
          "All/cyclophosphamide",
          "All/paclitaxel",
          "All/methylprednisolone/epoetin alfa/ / / ",
          "All/azacitidine/filgrastim/ / / ",
          "All/epoetin alfa/epoetin alfa/methylprednisolone/ / ",
          "All/cyclophosphamide",
          "All/filgrastim/filgrastim/ / / ",
          "All/filgrastim",
          "All/methylprednisolone/methotrexate/ / / ",
          "All/methylprednisolone",
          "All/triptorelin",
          "All/cyclophosphamide/triptorelin/ / / ",
          "All/hydrocortisone/epoetin alfa/cyclophosphamide/ / ",
          "All/cyclophosphamide",
          "All/paclitaxel",
          "All/azacitidine",
          "All/epoetin alfa/ / / ",
          "All/cyclophosphamide/leuprolide/ ",
          "All/epoetin alfa/methylprednisolone/cyclophosphamide",
          "All/methylprednisolone/filgrastim",
          "All/methylprednisolone/methylprednisolone/cyclophosphamide",
          "All/epoetin alfa/filgrastim",
          "All/filgrastim/ / ",
          "All/methylprednisolone/octreotide/ / ",
          "All/methylprednisolone/epoetin alfa",
          "All/methylprednisolone/cyclophosphamide/epoetin alfa",
          "All/filgrastim/epoetin alfa",
          "All/epoetin alfa/doxorubicin/azacitidine/ ",
          "All/epoetin alfa/methylprednisolone/cyclophosphamide/ ",
          "All/cyclophosphamide/paclitaxel/azacitidine/paclitaxel",
          "All/leuprolide/cyclophosphamide",
          "All/azacitidine/cyclophosphamide",
          "All/leuprolide/paclitaxel/filgrastim",
          "All/cyclophosphamide/azacitidine",
          "All/methylprednisolone/cyclophosphamide/epoetin alfa/ ",
          "All/methylprednisolone/ ",
          "All/methotrexate/cyclophosphamide/ /methylprednisolone",
          "All/paclitaxel/cyclophosphamide/methylprednisolone",
          "All/epoetin alfa/leuprolide/methylprednisolone/ ",
          "All/epoetin alfa/leuprolide/octreotide/ ",
          "All/epoetin alfa/epoetin alfa/epoetin alfa",
          "All/epoetin alfa/cyclophosphamide",
          "All/methylprednisolone/ / ",
          "All/epoetin alfa/epoetin alfa/filgrastim/epoetin alfa",
          "All/methylprednisolone/paclitaxel",
          "All/doxorubicin/methylprednisolone/ ",
          "All/methylprednisolone/filgrastim",
          "All/leuprolide/cyclophosphamide/ / ",
          "All/methylprednisolone/cyclophosphamide/ / ",
          "All/paclitaxel/cyclophosphamide/ / ",
          "All/leuprolide/leuprolide",
          "All/ /epoetin alfa/ / ",
          "All/epoetin alfa/epoetin alfa",
          "All/cyclophosphamide/methotrexate/ ",
          "All/cyclophosphamide/filgrastim",
          "All/cyclophosphamide/epoetin alfa/ ",
          "All/triptorelin/epoetin alfa/ / ",
          "All/filgrastim/azacitidine/ ",
          "All/methylprednisolone/filgrastim/ / ",
          "All/doxorubicin/methylprednisolone",
          "All/epoetin alfa/leuprolide/ / ",
          "All/epoetin alfa/paclitaxel/ ",
          "All/epoetin alfa/leuprolide",
          "All/methylprednisolone/paclitaxel/ ",
          "All/ /epoetin alfa/ ",
          "All/triptorelin/epoetin alfa",
          "All/epoetin alfa/epoetin alfa/ / / ",
          "All/triptorelin/paclitaxel/ ",
          "All",
          "All/triptorelin",
          "All/azacitidine/ / ",
          "All/paclitaxel/doxorubicin/ / / ",
          "All/methylprednisolone/cyclophosphamide/ / / ",
          "All",
          "All",
          "All/hydrocortisone/epoetin alfa/cyclophosphamide",
          "All/doxorubicin/ / / / ",
          "All/doxorubicin/ / / ",
          "All/ /cyclophosphamide",
          "All/cyclophosphamide/ ",
          "All/triptorelin/paclitaxel",
          "All/azacitidine",
          "All/methylprednisolone/filgrastim/filgrastim/ / ",
          "All/cyclophosphamide/octreotide",
          "All/methylprednisolone",
          "All/ /cyclophosphamide/ / ",
          "All/epoetin alfa/epoetin alfa/doxorubicin/ / ",
          "All/epoetin alfa/epoetin alfa/methylprednisolone",
          "All/ ",
          "All/epoetin alfa/epoetin alfa",
          "All/cyclophosphamide/leuprolide",
          "All/methotrexate/filgrastim",
          "All/azacitidine/filgrastim",
          "All/epoetin alfa/paclitaxel/ / / ",
          "All/paclitaxel/methylprednisolone/ / / ",
          "All/azacitidine/triptorelin",
          "All/cyclophosphamide/hydrocortisone/ / / ",
          "All/triptorelin/ ",
          "All/doxorubicin/cyclophosphamide/methylprednisolone/ ",
          "All/filgrastim/filgrastim/methylprednisolone/ ",
          "All/epoetin alfa/hydrocortisone",
          "All/cyclophosphamide/cyclophosphamide/ / ",
          "All/filgrastim/azacitidine/ / ",
          "All/azacitidine/cyclophosphamide/ / ",
          "All/cyclophosphamide",
          "All/azacitidine/methylprednisolone",
          "All/azacitidine/methylprednisolone/ / / ",
          "All/paclitaxel/methylprednisolone/ ",
          "All/filgrastim/paclitaxel"
         ],
         "type": "sunburst",
         "values": [
          2,
          1,
          1,
          1,
          2,
          1,
          2,
          1,
          2,
          2,
          4,
          7,
          7,
          1,
          2,
          1,
          1,
          1,
          53,
          7,
          4,
          1,
          219,
          1,
          1,
          4,
          1,
          3,
          1,
          1,
          1,
          4,
          19,
          3,
          955,
          1,
          6,
          5,
          1,
          103,
          4,
          1,
          1,
          1,
          3,
          1,
          2,
          1,
          1,
          3,
          6,
          1,
          1,
          1,
          8,
          5,
          1,
          1,
          6,
          3,
          8,
          3,
          3,
          1,
          2,
          1,
          16,
          9,
          4,
          1,
          3,
          1,
          2,
          1,
          3,
          1,
          1,
          4,
          1,
          1,
          1,
          1,
          16,
          1,
          1,
          1,
          1,
          1,
          1,
          16,
          1,
          212,
          135,
          1,
          1,
          1,
          1,
          1,
          19,
          2,
          2,
          2,
          6,
          3,
          2,
          1,
          5,
          3,
          1,
          1,
          58,
          1,
          1,
          1,
          10,
          8,
          3,
          3,
          4,
          6,
          1,
          3,
          2,
          1,
          1,
          2,
          19,
          2,
          212,
          1,
          138,
          1,
          2,
          135,
          29,
          19,
          1,
          2,
          1,
          4,
          1,
          1,
          1,
          3,
          7,
          2,
          2,
          5,
          1,
          1,
          3,
          19,
          3,
          1,
          32,
          2,
          6,
          2,
          1,
          2,
          53,
          3,
          1,
          4,
          2,
          64,
          135,
          1,
          135,
          2,
          1,
          1,
          4,
          7,
          3,
          1,
          1,
          1,
          2,
          2,
          3,
          1,
          64,
          1,
          1,
          1,
          1,
          1,
          16,
          1,
          1,
          1,
          1,
          1,
          2,
          3,
          6,
          1,
          1,
          1,
          29,
          5,
          2,
          40,
          1,
          64,
          66,
          1,
          1,
          1,
          3,
          2,
          2,
          2,
          2,
          4,
          3,
          29,
          2,
          8,
          6,
          16,
          6,
          1,
          1,
          1,
          1,
          1,
          1,
          1,
          1,
          3,
          1,
          7,
          2,
          1,
          1,
          1,
          1,
          16,
          1,
          1,
          5,
          1,
          19,
          67,
          3,
          16,
          1,
          1,
          1,
          4,
          38,
          2,
          1,
          1,
          1,
          2,
          16,
          29,
          2,
          1,
          2,
          6,
          1,
          1,
          7,
          1,
          1,
          2,
          53,
          3,
          1,
          29,
          2,
          2,
          2,
          3,
          212,
          2,
          1,
          19,
          6,
          1,
          1,
          4,
          19,
          1,
          3,
          1,
          1,
          3,
          8,
          3,
          1,
          1,
          1,
          1,
          6,
          1,
          1,
          1,
          1,
          1,
          2,
          1,
          1,
          1,
          8,
          1,
          1,
          5,
          1,
          2,
          1,
          2,
          53,
          53,
          1,
          1,
          1,
          2,
          2,
          3,
          3,
          1,
          9,
          1,
          1,
          1,
          1,
          1,
          35,
          1,
          1,
          1,
          7,
          4,
          2,
          1,
          7,
          2,
          1,
          1,
          1,
          1,
          2,
          103,
          1,
          1,
          1,
          74,
          67,
          6,
          1,
          2,
          1,
          1,
          1,
          2,
          1,
          212,
          2,
          103,
          7,
          67,
          1,
          1,
          3,
          4,
          64,
          82,
          3,
          4,
          1,
          4,
          9,
          2,
          1,
          8,
          1,
          2,
          2,
          2,
          4,
          1,
          1,
          19,
          4,
          1,
          135,
          2,
          1,
          1,
          1,
          2,
          64,
          1,
          9,
          1,
          2,
          1,
          1,
          1,
          3,
          4,
          1,
          2,
          1,
          103,
          1,
          1,
          1,
          1,
          38,
          7,
          103,
          1,
          3,
          3,
          1,
          3,
          8,
          3,
          1,
          1,
          1,
          1,
          1,
          19,
          4,
          1,
          1,
          3,
          3,
          1,
          1,
          3,
          1,
          4,
          16,
          1,
          13,
          1,
          19,
          1,
          8,
          6,
          260,
          1,
          67,
          67,
          1,
          212,
          1,
          5,
          1,
          1,
          9,
          1,
          1,
          1,
          1,
          38,
          2,
          1,
          2,
          1,
          4,
          1,
          2,
          7,
          1,
          1,
          1,
          3,
          1,
          4,
          1,
          1,
          1,
          4,
          3
         ]
        }
       ],
       "layout": {
        "height": 600,
        "legend": {
         "tracegroupgap": 0
        },
        "margin": {
         "t": 60
        },
        "template": {
         "data": {
          "bar": [
           {
            "error_x": {
             "color": "#2a3f5f"
            },
            "error_y": {
             "color": "#2a3f5f"
            },
            "marker": {
             "line": {
              "color": "#E5ECF6",
              "width": 0.5
             },
             "pattern": {
              "fillmode": "overlay",
              "size": 10,
              "solidity": 0.2
             }
            },
            "type": "bar"
           }
          ],
          "barpolar": [
           {
            "marker": {
             "line": {
              "color": "#E5ECF6",
              "width": 0.5
             },
             "pattern": {
              "fillmode": "overlay",
              "size": 10,
              "solidity": 0.2
             }
            },
            "type": "barpolar"
           }
          ],
          "carpet": [
           {
            "aaxis": {
             "endlinecolor": "#2a3f5f",
             "gridcolor": "white",
             "linecolor": "white",
             "minorgridcolor": "white",
             "startlinecolor": "#2a3f5f"
            },
            "baxis": {
             "endlinecolor": "#2a3f5f",
             "gridcolor": "white",
             "linecolor": "white",
             "minorgridcolor": "white",
             "startlinecolor": "#2a3f5f"
            },
            "type": "carpet"
           }
          ],
          "choropleth": [
           {
            "colorbar": {
             "outlinewidth": 0,
             "ticks": ""
            },
            "type": "choropleth"
           }
          ],
          "contour": [
           {
            "colorbar": {
             "outlinewidth": 0,
             "ticks": ""
            },
            "colorscale": [
             [
              0,
              "#0d0887"
             ],
             [
              0.1111111111111111,
              "#46039f"
             ],
             [
              0.2222222222222222,
              "#7201a8"
             ],
             [
              0.3333333333333333,
              "#9c179e"
             ],
             [
              0.4444444444444444,
              "#bd3786"
             ],
             [
              0.5555555555555556,
              "#d8576b"
             ],
             [
              0.6666666666666666,
              "#ed7953"
             ],
             [
              0.7777777777777778,
              "#fb9f3a"
             ],
             [
              0.8888888888888888,
              "#fdca26"
             ],
             [
              1,
              "#f0f921"
             ]
            ],
            "type": "contour"
           }
          ],
          "contourcarpet": [
           {
            "colorbar": {
             "outlinewidth": 0,
             "ticks": ""
            },
            "type": "contourcarpet"
           }
          ],
          "heatmap": [
           {
            "colorbar": {
             "outlinewidth": 0,
             "ticks": ""
            },
            "colorscale": [
             [
              0,
              "#0d0887"
             ],
             [
              0.1111111111111111,
              "#46039f"
             ],
             [
              0.2222222222222222,
              "#7201a8"
             ],
             [
              0.3333333333333333,
              "#9c179e"
             ],
             [
              0.4444444444444444,
              "#bd3786"
             ],
             [
              0.5555555555555556,
              "#d8576b"
             ],
             [
              0.6666666666666666,
              "#ed7953"
             ],
             [
              0.7777777777777778,
              "#fb9f3a"
             ],
             [
              0.8888888888888888,
              "#fdca26"
             ],
             [
              1,
              "#f0f921"
             ]
            ],
            "type": "heatmap"
           }
          ],
          "heatmapgl": [
           {
            "colorbar": {
             "outlinewidth": 0,
             "ticks": ""
            },
            "colorscale": [
             [
              0,
              "#0d0887"
             ],
             [
              0.1111111111111111,
              "#46039f"
             ],
             [
              0.2222222222222222,
              "#7201a8"
             ],
             [
              0.3333333333333333,
              "#9c179e"
             ],
             [
              0.4444444444444444,
              "#bd3786"
             ],
             [
              0.5555555555555556,
              "#d8576b"
             ],
             [
              0.6666666666666666,
              "#ed7953"
             ],
             [
              0.7777777777777778,
              "#fb9f3a"
             ],
             [
              0.8888888888888888,
              "#fdca26"
             ],
             [
              1,
              "#f0f921"
             ]
            ],
            "type": "heatmapgl"
           }
          ],
          "histogram": [
           {
            "marker": {
             "pattern": {
              "fillmode": "overlay",
              "size": 10,
              "solidity": 0.2
             }
            },
            "type": "histogram"
           }
          ],
          "histogram2d": [
           {
            "colorbar": {
             "outlinewidth": 0,
             "ticks": ""
            },
            "colorscale": [
             [
              0,
              "#0d0887"
             ],
             [
              0.1111111111111111,
              "#46039f"
             ],
             [
              0.2222222222222222,
              "#7201a8"
             ],
             [
              0.3333333333333333,
              "#9c179e"
             ],
             [
              0.4444444444444444,
              "#bd3786"
             ],
             [
              0.5555555555555556,
              "#d8576b"
             ],
             [
              0.6666666666666666,
              "#ed7953"
             ],
             [
              0.7777777777777778,
              "#fb9f3a"
             ],
             [
              0.8888888888888888,
              "#fdca26"
             ],
             [
              1,
              "#f0f921"
             ]
            ],
            "type": "histogram2d"
           }
          ],
          "histogram2dcontour": [
           {
            "colorbar": {
             "outlinewidth": 0,
             "ticks": ""
            },
            "colorscale": [
             [
              0,
              "#0d0887"
             ],
             [
              0.1111111111111111,
              "#46039f"
             ],
             [
              0.2222222222222222,
              "#7201a8"
             ],
             [
              0.3333333333333333,
              "#9c179e"
             ],
             [
              0.4444444444444444,
              "#bd3786"
             ],
             [
              0.5555555555555556,
              "#d8576b"
             ],
             [
              0.6666666666666666,
              "#ed7953"
             ],
             [
              0.7777777777777778,
              "#fb9f3a"
             ],
             [
              0.8888888888888888,
              "#fdca26"
             ],
             [
              1,
              "#f0f921"
             ]
            ],
            "type": "histogram2dcontour"
           }
          ],
          "mesh3d": [
           {
            "colorbar": {
             "outlinewidth": 0,
             "ticks": ""
            },
            "type": "mesh3d"
           }
          ],
          "parcoords": [
           {
            "line": {
             "colorbar": {
              "outlinewidth": 0,
              "ticks": ""
             }
            },
            "type": "parcoords"
           }
          ],
          "pie": [
           {
            "automargin": true,
            "type": "pie"
           }
          ],
          "scatter": [
           {
            "fillpattern": {
             "fillmode": "overlay",
             "size": 10,
             "solidity": 0.2
            },
            "type": "scatter"
           }
          ],
          "scatter3d": [
           {
            "line": {
             "colorbar": {
              "outlinewidth": 0,
              "ticks": ""
             }
            },
            "marker": {
             "colorbar": {
              "outlinewidth": 0,
              "ticks": ""
             }
            },
            "type": "scatter3d"
           }
          ],
          "scattercarpet": [
           {
            "marker": {
             "colorbar": {
              "outlinewidth": 0,
              "ticks": ""
             }
            },
            "type": "scattercarpet"
           }
          ],
          "scattergeo": [
           {
            "marker": {
             "colorbar": {
              "outlinewidth": 0,
              "ticks": ""
             }
            },
            "type": "scattergeo"
           }
          ],
          "scattergl": [
           {
            "marker": {
             "colorbar": {
              "outlinewidth": 0,
              "ticks": ""
             }
            },
            "type": "scattergl"
           }
          ],
          "scattermapbox": [
           {
            "marker": {
             "colorbar": {
              "outlinewidth": 0,
              "ticks": ""
             }
            },
            "type": "scattermapbox"
           }
          ],
          "scatterpolar": [
           {
            "marker": {
             "colorbar": {
              "outlinewidth": 0,
              "ticks": ""
             }
            },
            "type": "scatterpolar"
           }
          ],
          "scatterpolargl": [
           {
            "marker": {
             "colorbar": {
              "outlinewidth": 0,
              "ticks": ""
             }
            },
            "type": "scatterpolargl"
           }
          ],
          "scatterternary": [
           {
            "marker": {
             "colorbar": {
              "outlinewidth": 0,
              "ticks": ""
             }
            },
            "type": "scatterternary"
           }
          ],
          "surface": [
           {
            "colorbar": {
             "outlinewidth": 0,
             "ticks": ""
            },
            "colorscale": [
             [
              0,
              "#0d0887"
             ],
             [
              0.1111111111111111,
              "#46039f"
             ],
             [
              0.2222222222222222,
              "#7201a8"
             ],
             [
              0.3333333333333333,
              "#9c179e"
             ],
             [
              0.4444444444444444,
              "#bd3786"
             ],
             [
              0.5555555555555556,
              "#d8576b"
             ],
             [
              0.6666666666666666,
              "#ed7953"
             ],
             [
              0.7777777777777778,
              "#fb9f3a"
             ],
             [
              0.8888888888888888,
              "#fdca26"
             ],
             [
              1,
              "#f0f921"
             ]
            ],
            "type": "surface"
           }
          ],
          "table": [
           {
            "cells": {
             "fill": {
              "color": "#EBF0F8"
             },
             "line": {
              "color": "white"
             }
            },
            "header": {
             "fill": {
              "color": "#C8D4E3"
             },
             "line": {
              "color": "white"
             }
            },
            "type": "table"
           }
          ]
         },
         "layout": {
          "annotationdefaults": {
           "arrowcolor": "#2a3f5f",
           "arrowhead": 0,
           "arrowwidth": 1
          },
          "autotypenumbers": "strict",
          "coloraxis": {
           "colorbar": {
            "outlinewidth": 0,
            "ticks": ""
           }
          },
          "colorscale": {
           "diverging": [
            [
             0,
             "#8e0152"
            ],
            [
             0.1,
             "#c51b7d"
            ],
            [
             0.2,
             "#de77ae"
            ],
            [
             0.3,
             "#f1b6da"
            ],
            [
             0.4,
             "#fde0ef"
            ],
            [
             0.5,
             "#f7f7f7"
            ],
            [
             0.6,
             "#e6f5d0"
            ],
            [
             0.7,
             "#b8e186"
            ],
            [
             0.8,
             "#7fbc41"
            ],
            [
             0.9,
             "#4d9221"
            ],
            [
             1,
             "#276419"
            ]
           ],
           "sequential": [
            [
             0,
             "#0d0887"
            ],
            [
             0.1111111111111111,
             "#46039f"
            ],
            [
             0.2222222222222222,
             "#7201a8"
            ],
            [
             0.3333333333333333,
             "#9c179e"
            ],
            [
             0.4444444444444444,
             "#bd3786"
            ],
            [
             0.5555555555555556,
             "#d8576b"
            ],
            [
             0.6666666666666666,
             "#ed7953"
            ],
            [
             0.7777777777777778,
             "#fb9f3a"
            ],
            [
             0.8888888888888888,
             "#fdca26"
            ],
            [
             1,
             "#f0f921"
            ]
           ],
           "sequentialminus": [
            [
             0,
             "#0d0887"
            ],
            [
             0.1111111111111111,
             "#46039f"
            ],
            [
             0.2222222222222222,
             "#7201a8"
            ],
            [
             0.3333333333333333,
             "#9c179e"
            ],
            [
             0.4444444444444444,
             "#bd3786"
            ],
            [
             0.5555555555555556,
             "#d8576b"
            ],
            [
             0.6666666666666666,
             "#ed7953"
            ],
            [
             0.7777777777777778,
             "#fb9f3a"
            ],
            [
             0.8888888888888888,
             "#fdca26"
            ],
            [
             1,
             "#f0f921"
            ]
           ]
          },
          "colorway": [
           "#636efa",
           "#EF553B",
           "#00cc96",
           "#ab63fa",
           "#FFA15A",
           "#19d3f3",
           "#FF6692",
           "#B6E880",
           "#FF97FF",
           "#FECB52"
          ],
          "font": {
           "color": "#2a3f5f"
          },
          "geo": {
           "bgcolor": "white",
           "lakecolor": "white",
           "landcolor": "#E5ECF6",
           "showlakes": true,
           "showland": true,
           "subunitcolor": "white"
          },
          "hoverlabel": {
           "align": "left"
          },
          "hovermode": "closest",
          "mapbox": {
           "style": "light"
          },
          "paper_bgcolor": "white",
          "plot_bgcolor": "#E5ECF6",
          "polar": {
           "angularaxis": {
            "gridcolor": "white",
            "linecolor": "white",
            "ticks": ""
           },
           "bgcolor": "#E5ECF6",
           "radialaxis": {
            "gridcolor": "white",
            "linecolor": "white",
            "ticks": ""
           }
          },
          "scene": {
           "xaxis": {
            "backgroundcolor": "#E5ECF6",
            "gridcolor": "white",
            "gridwidth": 2,
            "linecolor": "white",
            "showbackground": true,
            "ticks": "",
            "zerolinecolor": "white"
           },
           "yaxis": {
            "backgroundcolor": "#E5ECF6",
            "gridcolor": "white",
            "gridwidth": 2,
            "linecolor": "white",
            "showbackground": true,
            "ticks": "",
            "zerolinecolor": "white"
           },
           "zaxis": {
            "backgroundcolor": "#E5ECF6",
            "gridcolor": "white",
            "gridwidth": 2,
            "linecolor": "white",
            "showbackground": true,
            "ticks": "",
            "zerolinecolor": "white"
           }
          },
          "shapedefaults": {
           "line": {
            "color": "#2a3f5f"
           }
          },
          "ternary": {
           "aaxis": {
            "gridcolor": "white",
            "linecolor": "white",
            "ticks": ""
           },
           "baxis": {
            "gridcolor": "white",
            "linecolor": "white",
            "ticks": ""
           },
           "bgcolor": "#E5ECF6",
           "caxis": {
            "gridcolor": "white",
            "linecolor": "white",
            "ticks": ""
           }
          },
          "title": {
           "x": 0.05
          },
          "xaxis": {
           "automargin": true,
           "gridcolor": "white",
           "linecolor": "white",
           "ticks": "",
           "title": {
            "standoff": 15
           },
           "zerolinecolor": "white",
           "zerolinewidth": 2
          },
          "yaxis": {
           "automargin": true,
           "gridcolor": "white",
           "linecolor": "white",
           "ticks": "",
           "title": {
            "standoff": 15
           },
           "zerolinecolor": "white",
           "zerolinewidth": 2
          }
         }
        },
        "width": 600
       }
      }
     },
     "metadata": {},
     "output_type": "display_data"
    }
   ],
   "source": [
    "fig = px.sunburst(df, path=[px.Constant('All'),'drug0', 'drug1', 'drug2', 'drug3', 'drug4', 'drug5'], values='value', color='drug0', width=600, height=600)\n",
    "#fig.update_layout(hovermode=False)\n",
    "#set marker colors whose labels are \" \" to transparent\n",
    "marker_colors=list(fig.data[0].marker['colors'])\n",
    "marker_labels=list(fig.data[0]['labels'])\n",
    "new_marker_colors=[\"rgba(0,0,0,0)\" if label==\" \" else color for (color, label) in zip(marker_colors, marker_labels)]\n",
    "marker_colors=new_marker_colors\n",
    "fig.data[0].marker['colors'] = marker_colors\n",
    "fig.show()"
   ]
  }
 ],
 "metadata": {
  "kernelspec": {
   "display_name": ".venv",
   "language": "python",
   "name": "python3"
  },
  "language_info": {
   "codemirror_mode": {
    "name": "ipython",
    "version": 3
   },
   "file_extension": ".py",
   "mimetype": "text/x-python",
   "name": "python",
   "nbconvert_exporter": "python",
   "pygments_lexer": "ipython3",
   "version": "3.12.2"
  }
 },
 "nbformat": 4,
 "nbformat_minor": 2
}
