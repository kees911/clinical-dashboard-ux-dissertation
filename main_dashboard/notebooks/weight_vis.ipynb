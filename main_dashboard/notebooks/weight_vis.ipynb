{
 "cells": [
  {
   "cell_type": "code",
   "execution_count": 27,
   "metadata": {},
   "outputs": [],
   "source": [
    "#libraries\n",
    "import pandas as pd\n",
    "import numpy as np\n",
    "import datetime as dt\n",
    "pd.set_option(\"display.max_rows\", None, \"mode.chained_assignment\", None)\n",
    "import numpy as np\n",
    "import matplotlib.pyplot as plt\n",
    "import json\n",
    "from json import loads, dumps\n",
    "import datetime as dt\n",
    "import plotly\n",
    "import plotly.express as px"
   ]
  },
  {
   "cell_type": "code",
   "execution_count": 28,
   "metadata": {},
   "outputs": [],
   "source": [
    "# read csv\n",
    "person = pd.read_csv('../synpuff/person.csv')\n",
    "condition_occurrence = pd.read_csv('../synpuff/condition_occurrence.csv')\n",
    "drug_exposure = pd.read_csv('../synpuff/drug_exposure.csv')\n",
    "concept = pd.read_csv('../synpuff/concept.csv')"
   ]
  },
  {
   "cell_type": "code",
   "execution_count": 29,
   "metadata": {},
   "outputs": [],
   "source": [
    "#concept lookup in concept df\n",
    "concept_lookup = {c.concept_id: c.concept_name for c in concept.itertuples()}"
   ]
  },
  {
   "cell_type": "code",
   "execution_count": 30,
   "metadata": {},
   "outputs": [],
   "source": [
    "#function to make labels\n",
    "def make_labels(df):\n",
    "    for c in df.columns:\n",
    "        if 'concept_id' in c:\n",
    "            df[c.replace('_id', '_label')] = df[c].map(concept_lookup)\n",
    "        if 'concept_id' in c or 'source' in c or len(df[df[c].notna()])==0:\n",
    "            df = df.drop(c, axis=1)\n",
    "    return df"
   ]
  },
  {
   "cell_type": "code",
   "execution_count": 31,
   "metadata": {},
   "outputs": [],
   "source": [
    "#\n",
    "person_labelled = make_labels(person)\n",
    "condition_occurrence_labelled = make_labels(condition_occurrence)\n",
    "drug_exposure_labelled = make_labels(drug_exposure)\n",
    "measurement_labelled = pd.read_csv('../synpuff/measurement.csv')\n",
    "procedure_occurrence_labelled = pd.read_csv('../synpuff/procedure.csv')"
   ]
  },
  {
   "cell_type": "code",
   "execution_count": 32,
   "metadata": {},
   "outputs": [],
   "source": [
    "person_code = 1705545"
   ]
  },
  {
   "cell_type": "code",
   "execution_count": 33,
   "metadata": {},
   "outputs": [],
   "source": [
    "meas_indiv = measurement_labelled.loc[measurement_labelled['person_id']==person_code]"
   ]
  },
  {
   "cell_type": "code",
   "execution_count": 34,
   "metadata": {},
   "outputs": [],
   "source": [
    "### measurements\n",
    "meas_weight = meas_indiv.loc[meas_indiv['measurement_concept_label'].isin(['Body weight','Weight change'])]\n",
    "#Merge weight measurements with weight differences from last measurement\n",
    "meas_weight['value_as_number']=meas_weight['value_as_number'].apply(str)\n",
    "meas_grouped = meas_weight.groupby(['measurement_date'])['value_as_number'].transform(lambda x: ' kg,<br>Weight change: '.join(x))\n",
    "meas_weight['value_as_number'] = meas_grouped\n",
    "meas_weight['content'] = 'Body weight: ' + meas_weight['value_as_number'] + ' kg'\n",
    "#Rename columns\n",
    "meas_weight.rename(columns={'measurement_date':'start'}, inplace=True)\n",
    "meas_weight['group'] = 'measurement'\n",
    "meas_weight['className'] = 'measurements'\n",
    "meas_weight.drop_duplicates(subset=['content', 'start'],keep='last',inplace=True)"
   ]
  },
  {
   "cell_type": "code",
   "execution_count": 35,
   "metadata": {},
   "outputs": [
    {
     "data": {
      "text/html": [
       "<div>\n",
       "<style scoped>\n",
       "    .dataframe tbody tr th:only-of-type {\n",
       "        vertical-align: middle;\n",
       "    }\n",
       "\n",
       "    .dataframe tbody tr th {\n",
       "        vertical-align: top;\n",
       "    }\n",
       "\n",
       "    .dataframe thead th {\n",
       "        text-align: right;\n",
       "    }\n",
       "</style>\n",
       "<table border=\"1\" class=\"dataframe\">\n",
       "  <thead>\n",
       "    <tr style=\"text-align: right;\">\n",
       "      <th></th>\n",
       "      <th>measurement_id</th>\n",
       "      <th>person_id</th>\n",
       "      <th>measurement_date</th>\n",
       "      <th>measurement_datetime</th>\n",
       "      <th>measurement_time</th>\n",
       "      <th>value_as_number</th>\n",
       "      <th>measurement_concept_label</th>\n",
       "      <th>unit_concept_label</th>\n",
       "      <th>measurement_type_concept_label</th>\n",
       "    </tr>\n",
       "  </thead>\n",
       "  <tbody>\n",
       "    <tr>\n",
       "      <th>0</th>\n",
       "      <td>f58d40ef-6d5e-bd81-7ebb-5eedd2c6ed97</td>\n",
       "      <td>1705545</td>\n",
       "      <td>2008-01-27</td>\n",
       "      <td>2008-01-27 16:02:00</td>\n",
       "      <td>16:02:00</td>\n",
       "      <td>162.4</td>\n",
       "      <td>Body height</td>\n",
       "      <td>cm</td>\n",
       "      <td>Vital signs</td>\n",
       "    </tr>\n",
       "    <tr>\n",
       "      <th>1</th>\n",
       "      <td>f58d40ef-6d5e-bd81-7ebb-5eedd2c6ed97</td>\n",
       "      <td>1705545</td>\n",
       "      <td>2008-01-27</td>\n",
       "      <td>2008-01-27 16:02:00</td>\n",
       "      <td>16:02:00</td>\n",
       "      <td>76.3</td>\n",
       "      <td>Body mass index (BMI) [Percentile] Per age and...</td>\n",
       "      <td>%</td>\n",
       "      <td>Vital signs</td>\n",
       "    </tr>\n",
       "    <tr>\n",
       "      <th>2</th>\n",
       "      <td>f58d40ef-6d5e-bd81-7ebb-5eedd2c6ed97</td>\n",
       "      <td>1705545</td>\n",
       "      <td>2008-01-27</td>\n",
       "      <td>2008-01-27 16:02:00</td>\n",
       "      <td>16:02:00</td>\n",
       "      <td>21.2</td>\n",
       "      <td>Body mass index (BMI) [Ratio]</td>\n",
       "      <td>kg-m2</td>\n",
       "      <td>Vital signs</td>\n",
       "    </tr>\n",
       "    <tr>\n",
       "      <th>3</th>\n",
       "      <td>f58d40ef-6d5e-bd81-7ebb-5eedd2c6ed97</td>\n",
       "      <td>1705545</td>\n",
       "      <td>2008-01-27</td>\n",
       "      <td>2008-01-27 16:02:00</td>\n",
       "      <td>16:02:00</td>\n",
       "      <td>55.8</td>\n",
       "      <td>Body weight</td>\n",
       "      <td>kg</td>\n",
       "      <td>Vital signs</td>\n",
       "    </tr>\n",
       "    <tr>\n",
       "      <th>4</th>\n",
       "      <td>f1a24503-271b-a86e-2b33-47bc192d20c0</td>\n",
       "      <td>1705545</td>\n",
       "      <td>2008-04-01</td>\n",
       "      <td>2008-04-01 16:02:00</td>\n",
       "      <td>16:02:00</td>\n",
       "      <td>165.5</td>\n",
       "      <td>Body height</td>\n",
       "      <td>cm</td>\n",
       "      <td>Vital signs</td>\n",
       "    </tr>\n",
       "    <tr>\n",
       "      <th>5</th>\n",
       "      <td>f1a24503-271b-a86e-2b33-47bc192d20c0</td>\n",
       "      <td>1705545</td>\n",
       "      <td>2008-04-01</td>\n",
       "      <td>2008-04-01 16:02:00</td>\n",
       "      <td>16:02:00</td>\n",
       "      <td>73.3</td>\n",
       "      <td>Body mass index (BMI) [Percentile] Per age and...</td>\n",
       "      <td>%</td>\n",
       "      <td>Vital signs</td>\n",
       "    </tr>\n",
       "    <tr>\n",
       "      <th>6</th>\n",
       "      <td>f1a24503-271b-a86e-2b33-47bc192d20c0</td>\n",
       "      <td>1705545</td>\n",
       "      <td>2008-04-01</td>\n",
       "      <td>2008-04-01 16:02:00</td>\n",
       "      <td>16:02:00</td>\n",
       "      <td>21.5</td>\n",
       "      <td>Body mass index (BMI) [Ratio]</td>\n",
       "      <td>kg-m2</td>\n",
       "      <td>Vital signs</td>\n",
       "    </tr>\n",
       "    <tr>\n",
       "      <th>7</th>\n",
       "      <td>f1a24503-271b-a86e-2b33-47bc192d20c0</td>\n",
       "      <td>1705545</td>\n",
       "      <td>2008-04-01</td>\n",
       "      <td>2008-04-01 16:02:00</td>\n",
       "      <td>16:02:00</td>\n",
       "      <td>59.0</td>\n",
       "      <td>Body weight</td>\n",
       "      <td>kg</td>\n",
       "      <td>Vital signs</td>\n",
       "    </tr>\n",
       "    <tr>\n",
       "      <th>8</th>\n",
       "      <td>f1a24503-271b-a86e-2b33-47bc192d20c0</td>\n",
       "      <td>1705545</td>\n",
       "      <td>2008-04-01</td>\n",
       "      <td>2008-04-01 16:02:00</td>\n",
       "      <td>16:02:00</td>\n",
       "      <td>5.7</td>\n",
       "      <td>Weight change</td>\n",
       "      <td>percent</td>\n",
       "      <td>Vital signs</td>\n",
       "    </tr>\n",
       "    <tr>\n",
       "      <th>9</th>\n",
       "      <td>2c88945b-4a7d-9493-74ee-7c5e464430ac</td>\n",
       "      <td>1705545</td>\n",
       "      <td>2008-06-09</td>\n",
       "      <td>2008-06-09 16:02:00</td>\n",
       "      <td>16:02:00</td>\n",
       "      <td>166.8</td>\n",
       "      <td>Body height</td>\n",
       "      <td>cm</td>\n",
       "      <td>Vital signs</td>\n",
       "    </tr>\n",
       "    <tr>\n",
       "      <th>10</th>\n",
       "      <td>2c88945b-4a7d-9493-74ee-7c5e464430ac</td>\n",
       "      <td>1705545</td>\n",
       "      <td>2008-06-09</td>\n",
       "      <td>2008-06-09 16:02:00</td>\n",
       "      <td>16:02:00</td>\n",
       "      <td>69.7</td>\n",
       "      <td>Body mass index (BMI) [Percentile] Per age and...</td>\n",
       "      <td>%</td>\n",
       "      <td>Vital signs</td>\n",
       "    </tr>\n",
       "    <tr>\n",
       "      <th>11</th>\n",
       "      <td>2c88945b-4a7d-9493-74ee-7c5e464430ac</td>\n",
       "      <td>1705545</td>\n",
       "      <td>2008-06-09</td>\n",
       "      <td>2008-06-09 16:02:00</td>\n",
       "      <td>16:02:00</td>\n",
       "      <td>21.7</td>\n",
       "      <td>Body mass index (BMI) [Ratio]</td>\n",
       "      <td>kg-m2</td>\n",
       "      <td>Vital signs</td>\n",
       "    </tr>\n",
       "    <tr>\n",
       "      <th>12</th>\n",
       "      <td>2c88945b-4a7d-9493-74ee-7c5e464430ac</td>\n",
       "      <td>1705545</td>\n",
       "      <td>2008-06-09</td>\n",
       "      <td>2008-06-09 16:02:00</td>\n",
       "      <td>16:02:00</td>\n",
       "      <td>60.5</td>\n",
       "      <td>Body weight</td>\n",
       "      <td>kg</td>\n",
       "      <td>Vital signs</td>\n",
       "    </tr>\n",
       "    <tr>\n",
       "      <th>13</th>\n",
       "      <td>2c88945b-4a7d-9493-74ee-7c5e464430ac</td>\n",
       "      <td>1705545</td>\n",
       "      <td>2008-06-09</td>\n",
       "      <td>2008-06-09 16:02:00</td>\n",
       "      <td>16:02:00</td>\n",
       "      <td>8.4</td>\n",
       "      <td>Weight change</td>\n",
       "      <td>percent</td>\n",
       "      <td>Vital signs</td>\n",
       "    </tr>\n",
       "    <tr>\n",
       "      <th>14</th>\n",
       "      <td>833c9a36-341e-e8ca-b312-a971b8a25ff4</td>\n",
       "      <td>1705545</td>\n",
       "      <td>2008-07-23</td>\n",
       "      <td>2008-07-23 03:02:00</td>\n",
       "      <td>3:02:00</td>\n",
       "      <td>37.5</td>\n",
       "      <td>Body temperature</td>\n",
       "      <td>Cel</td>\n",
       "      <td>Vital signs</td>\n",
       "    </tr>\n",
       "    <tr>\n",
       "      <th>15</th>\n",
       "      <td>bb2943a0-e728-a1d3-4224-b206c53c886c</td>\n",
       "      <td>1705545</td>\n",
       "      <td>2008-08-07</td>\n",
       "      <td>2008-08-07 16:02:00</td>\n",
       "      <td>16:02:00</td>\n",
       "      <td>167.2</td>\n",
       "      <td>Body height</td>\n",
       "      <td>cm</td>\n",
       "      <td>Vital signs</td>\n",
       "    </tr>\n",
       "    <tr>\n",
       "      <th>16</th>\n",
       "      <td>bb2943a0-e728-a1d3-4224-b206c53c886c</td>\n",
       "      <td>1705545</td>\n",
       "      <td>2008-08-07</td>\n",
       "      <td>2008-08-07 16:02:00</td>\n",
       "      <td>16:02:00</td>\n",
       "      <td>70.1</td>\n",
       "      <td>Body mass index (BMI) [Percentile] Per age and...</td>\n",
       "      <td>%</td>\n",
       "      <td>Vital signs</td>\n",
       "    </tr>\n",
       "    <tr>\n",
       "      <th>17</th>\n",
       "      <td>bb2943a0-e728-a1d3-4224-b206c53c886c</td>\n",
       "      <td>1705545</td>\n",
       "      <td>2008-08-07</td>\n",
       "      <td>2008-08-07 16:02:00</td>\n",
       "      <td>16:02:00</td>\n",
       "      <td>22.1</td>\n",
       "      <td>Body mass index (BMI) [Ratio]</td>\n",
       "      <td>kg-m2</td>\n",
       "      <td>Vital signs</td>\n",
       "    </tr>\n",
       "    <tr>\n",
       "      <th>18</th>\n",
       "      <td>bb2943a0-e728-a1d3-4224-b206c53c886c</td>\n",
       "      <td>1705545</td>\n",
       "      <td>2008-08-07</td>\n",
       "      <td>2008-08-07 16:02:00</td>\n",
       "      <td>16:02:00</td>\n",
       "      <td>61.8</td>\n",
       "      <td>Body weight</td>\n",
       "      <td>kg</td>\n",
       "      <td>Vital signs</td>\n",
       "    </tr>\n",
       "    <tr>\n",
       "      <th>19</th>\n",
       "      <td>bb2943a0-e728-a1d3-4224-b206c53c886c</td>\n",
       "      <td>1705545</td>\n",
       "      <td>2008-08-07</td>\n",
       "      <td>2008-08-07 16:02:00</td>\n",
       "      <td>16:02:00</td>\n",
       "      <td>10.8</td>\n",
       "      <td>Weight change</td>\n",
       "      <td>percent</td>\n",
       "      <td>Vital signs</td>\n",
       "    </tr>\n",
       "    <tr>\n",
       "      <th>20</th>\n",
       "      <td>7f443ab8-ebc7-30b2-cb5f-16513ac4be53</td>\n",
       "      <td>1705545</td>\n",
       "      <td>2009-01-06</td>\n",
       "      <td>2009-01-06 16:02:00</td>\n",
       "      <td>16:02:00</td>\n",
       "      <td>167.4</td>\n",
       "      <td>Body height</td>\n",
       "      <td>cm</td>\n",
       "      <td>Vital signs</td>\n",
       "    </tr>\n",
       "    <tr>\n",
       "      <th>21</th>\n",
       "      <td>7f443ab8-ebc7-30b2-cb5f-16513ac4be53</td>\n",
       "      <td>1705545</td>\n",
       "      <td>2009-01-06</td>\n",
       "      <td>2009-01-06 16:02:00</td>\n",
       "      <td>16:02:00</td>\n",
       "      <td>56.5</td>\n",
       "      <td>Body mass index (BMI) [Percentile] Per age and...</td>\n",
       "      <td>%</td>\n",
       "      <td>Vital signs</td>\n",
       "    </tr>\n",
       "    <tr>\n",
       "      <th>22</th>\n",
       "      <td>7f443ab8-ebc7-30b2-cb5f-16513ac4be53</td>\n",
       "      <td>1705545</td>\n",
       "      <td>2009-01-06</td>\n",
       "      <td>2009-01-06 16:02:00</td>\n",
       "      <td>16:02:00</td>\n",
       "      <td>21.0</td>\n",
       "      <td>Body mass index (BMI) [Ratio]</td>\n",
       "      <td>kg-m2</td>\n",
       "      <td>Vital signs</td>\n",
       "    </tr>\n",
       "    <tr>\n",
       "      <th>23</th>\n",
       "      <td>7f443ab8-ebc7-30b2-cb5f-16513ac4be53</td>\n",
       "      <td>1705545</td>\n",
       "      <td>2009-01-06</td>\n",
       "      <td>2009-01-06 16:02:00</td>\n",
       "      <td>16:02:00</td>\n",
       "      <td>58.9</td>\n",
       "      <td>Body weight</td>\n",
       "      <td>kg</td>\n",
       "      <td>Vital signs</td>\n",
       "    </tr>\n",
       "    <tr>\n",
       "      <th>24</th>\n",
       "      <td>7f443ab8-ebc7-30b2-cb5f-16513ac4be53</td>\n",
       "      <td>1705545</td>\n",
       "      <td>2009-01-06</td>\n",
       "      <td>2009-01-06 16:02:00</td>\n",
       "      <td>16:02:00</td>\n",
       "      <td>5.6</td>\n",
       "      <td>Weight change</td>\n",
       "      <td>percent</td>\n",
       "      <td>Vital signs</td>\n",
       "    </tr>\n",
       "    <tr>\n",
       "      <th>25</th>\n",
       "      <td>7a770b35-1ddf-1c26-7164-4d8bcd448eaa</td>\n",
       "      <td>1705545</td>\n",
       "      <td>2009-03-07</td>\n",
       "      <td>2009-03-07 16:02:00</td>\n",
       "      <td>16:02:00</td>\n",
       "      <td>167.7</td>\n",
       "      <td>Body height</td>\n",
       "      <td>cm</td>\n",
       "      <td>Vital signs</td>\n",
       "    </tr>\n",
       "    <tr>\n",
       "      <th>26</th>\n",
       "      <td>7a770b35-1ddf-1c26-7164-4d8bcd448eaa</td>\n",
       "      <td>1705545</td>\n",
       "      <td>2009-03-07</td>\n",
       "      <td>2009-03-07 16:02:00</td>\n",
       "      <td>16:02:00</td>\n",
       "      <td>33.1</td>\n",
       "      <td>Body mass index (BMI) [Percentile] Per age and...</td>\n",
       "      <td>%</td>\n",
       "      <td>Vital signs</td>\n",
       "    </tr>\n",
       "    <tr>\n",
       "      <th>27</th>\n",
       "      <td>7a770b35-1ddf-1c26-7164-4d8bcd448eaa</td>\n",
       "      <td>1705545</td>\n",
       "      <td>2009-03-07</td>\n",
       "      <td>2009-03-07 16:02:00</td>\n",
       "      <td>16:02:00</td>\n",
       "      <td>19.7</td>\n",
       "      <td>Body mass index (BMI) [Ratio]</td>\n",
       "      <td>kg-m2</td>\n",
       "      <td>Vital signs</td>\n",
       "    </tr>\n",
       "    <tr>\n",
       "      <th>28</th>\n",
       "      <td>7a770b35-1ddf-1c26-7164-4d8bcd448eaa</td>\n",
       "      <td>1705545</td>\n",
       "      <td>2009-03-07</td>\n",
       "      <td>2009-03-07 16:02:00</td>\n",
       "      <td>16:02:00</td>\n",
       "      <td>55.5</td>\n",
       "      <td>Body weight</td>\n",
       "      <td>kg</td>\n",
       "      <td>Vital signs</td>\n",
       "    </tr>\n",
       "    <tr>\n",
       "      <th>29</th>\n",
       "      <td>7a770b35-1ddf-1c26-7164-4d8bcd448eaa</td>\n",
       "      <td>1705545</td>\n",
       "      <td>2009-03-07</td>\n",
       "      <td>2009-03-07 16:02:00</td>\n",
       "      <td>16:02:00</td>\n",
       "      <td>-0.5</td>\n",
       "      <td>Weight change</td>\n",
       "      <td>percent</td>\n",
       "      <td>Vital signs</td>\n",
       "    </tr>\n",
       "    <tr>\n",
       "      <th>30</th>\n",
       "      <td>dbde39b4-0e0e-42da-c8ed-6ace23a9e903</td>\n",
       "      <td>1705545</td>\n",
       "      <td>2009-05-06</td>\n",
       "      <td>2009-05-06 01:02:00</td>\n",
       "      <td>1:02:00</td>\n",
       "      <td>37.4</td>\n",
       "      <td>Body temperature</td>\n",
       "      <td>Cel</td>\n",
       "      <td>Vital signs</td>\n",
       "    </tr>\n",
       "    <tr>\n",
       "      <th>31</th>\n",
       "      <td>6d33a77a-4c71-965e-e57b-3c1fe7ecb902</td>\n",
       "      <td>1705545</td>\n",
       "      <td>2009-11-06</td>\n",
       "      <td>2009-11-06 16:02:00</td>\n",
       "      <td>16:02:00</td>\n",
       "      <td>167.9</td>\n",
       "      <td>Body height</td>\n",
       "      <td>cm</td>\n",
       "      <td>Vital signs</td>\n",
       "    </tr>\n",
       "    <tr>\n",
       "      <th>32</th>\n",
       "      <td>6d33a77a-4c71-965e-e57b-3c1fe7ecb902</td>\n",
       "      <td>1705545</td>\n",
       "      <td>2009-11-06</td>\n",
       "      <td>2009-11-06 16:02:00</td>\n",
       "      <td>16:02:00</td>\n",
       "      <td>38.9</td>\n",
       "      <td>Body mass index (BMI) [Percentile] Per age and...</td>\n",
       "      <td>%</td>\n",
       "      <td>Vital signs</td>\n",
       "    </tr>\n",
       "    <tr>\n",
       "      <th>33</th>\n",
       "      <td>6d33a77a-4c71-965e-e57b-3c1fe7ecb902</td>\n",
       "      <td>1705545</td>\n",
       "      <td>2009-11-06</td>\n",
       "      <td>2009-11-06 16:02:00</td>\n",
       "      <td>16:02:00</td>\n",
       "      <td>20.5</td>\n",
       "      <td>Body mass index (BMI) [Ratio]</td>\n",
       "      <td>kg-m2</td>\n",
       "      <td>Vital signs</td>\n",
       "    </tr>\n",
       "    <tr>\n",
       "      <th>34</th>\n",
       "      <td>6d33a77a-4c71-965e-e57b-3c1fe7ecb902</td>\n",
       "      <td>1705545</td>\n",
       "      <td>2009-11-06</td>\n",
       "      <td>2009-11-06 16:02:00</td>\n",
       "      <td>16:02:00</td>\n",
       "      <td>57.7</td>\n",
       "      <td>Body weight</td>\n",
       "      <td>kg</td>\n",
       "      <td>Vital signs</td>\n",
       "    </tr>\n",
       "    <tr>\n",
       "      <th>35</th>\n",
       "      <td>6d33a77a-4c71-965e-e57b-3c1fe7ecb902</td>\n",
       "      <td>1705545</td>\n",
       "      <td>2009-11-06</td>\n",
       "      <td>2009-11-06 16:02:00</td>\n",
       "      <td>16:02:00</td>\n",
       "      <td>3.4</td>\n",
       "      <td>Weight change</td>\n",
       "      <td>percent</td>\n",
       "      <td>Vital signs</td>\n",
       "    </tr>\n",
       "    <tr>\n",
       "      <th>36</th>\n",
       "      <td>576deff1-3c88-17aa-e698-e4291da9fca1</td>\n",
       "      <td>1705545</td>\n",
       "      <td>2010-03-02</td>\n",
       "      <td>2010-03-02 16:02:00</td>\n",
       "      <td>16:02:00</td>\n",
       "      <td>168.0</td>\n",
       "      <td>Body height</td>\n",
       "      <td>cm</td>\n",
       "      <td>Vital signs</td>\n",
       "    </tr>\n",
       "    <tr>\n",
       "      <th>37</th>\n",
       "      <td>576deff1-3c88-17aa-e698-e4291da9fca1</td>\n",
       "      <td>1705545</td>\n",
       "      <td>2010-03-02</td>\n",
       "      <td>2010-03-02 16:02:00</td>\n",
       "      <td>16:02:00</td>\n",
       "      <td>43.4</td>\n",
       "      <td>Body mass index (BMI) [Percentile] Per age and...</td>\n",
       "      <td>%</td>\n",
       "      <td>Vital signs</td>\n",
       "    </tr>\n",
       "    <tr>\n",
       "      <th>38</th>\n",
       "      <td>576deff1-3c88-17aa-e698-e4291da9fca1</td>\n",
       "      <td>1705545</td>\n",
       "      <td>2010-03-02</td>\n",
       "      <td>2010-03-02 16:02:00</td>\n",
       "      <td>16:02:00</td>\n",
       "      <td>21.1</td>\n",
       "      <td>Body mass index (BMI) [Ratio]</td>\n",
       "      <td>kg-m2</td>\n",
       "      <td>Vital signs</td>\n",
       "    </tr>\n",
       "    <tr>\n",
       "      <th>39</th>\n",
       "      <td>576deff1-3c88-17aa-e698-e4291da9fca1</td>\n",
       "      <td>1705545</td>\n",
       "      <td>2010-03-02</td>\n",
       "      <td>2010-03-02 16:02:00</td>\n",
       "      <td>16:02:00</td>\n",
       "      <td>59.5</td>\n",
       "      <td>Body weight</td>\n",
       "      <td>kg</td>\n",
       "      <td>Vital signs</td>\n",
       "    </tr>\n",
       "    <tr>\n",
       "      <th>40</th>\n",
       "      <td>576deff1-3c88-17aa-e698-e4291da9fca1</td>\n",
       "      <td>1705545</td>\n",
       "      <td>2010-03-02</td>\n",
       "      <td>2010-03-02 16:02:00</td>\n",
       "      <td>16:02:00</td>\n",
       "      <td>6.6</td>\n",
       "      <td>Weight change</td>\n",
       "      <td>percent</td>\n",
       "      <td>Vital signs</td>\n",
       "    </tr>\n",
       "    <tr>\n",
       "      <th>41</th>\n",
       "      <td>ab6d8183-2807-2b5a-59ee-095ee5b655cd</td>\n",
       "      <td>1705545</td>\n",
       "      <td>2010-09-23</td>\n",
       "      <td>2010-09-23 16:02:00</td>\n",
       "      <td>16:02:00</td>\n",
       "      <td>168.1</td>\n",
       "      <td>Body height</td>\n",
       "      <td>cm</td>\n",
       "      <td>Vital signs</td>\n",
       "    </tr>\n",
       "    <tr>\n",
       "      <th>42</th>\n",
       "      <td>ab6d8183-2807-2b5a-59ee-095ee5b655cd</td>\n",
       "      <td>1705545</td>\n",
       "      <td>2010-09-23</td>\n",
       "      <td>2010-09-23 16:02:00</td>\n",
       "      <td>16:02:00</td>\n",
       "      <td>22.5</td>\n",
       "      <td>Body mass index (BMI) [Ratio]</td>\n",
       "      <td>kg-m2</td>\n",
       "      <td>Vital signs</td>\n",
       "    </tr>\n",
       "    <tr>\n",
       "      <th>43</th>\n",
       "      <td>ab6d8183-2807-2b5a-59ee-095ee5b655cd</td>\n",
       "      <td>1705545</td>\n",
       "      <td>2010-09-23</td>\n",
       "      <td>2010-09-23 16:02:00</td>\n",
       "      <td>16:02:00</td>\n",
       "      <td>63.6</td>\n",
       "      <td>Body weight</td>\n",
       "      <td>kg</td>\n",
       "      <td>Vital signs</td>\n",
       "    </tr>\n",
       "    <tr>\n",
       "      <th>44</th>\n",
       "      <td>ab6d8183-2807-2b5a-59ee-095ee5b655cd</td>\n",
       "      <td>1705545</td>\n",
       "      <td>2010-09-23</td>\n",
       "      <td>2010-09-23 16:02:00</td>\n",
       "      <td>16:02:00</td>\n",
       "      <td>14.0</td>\n",
       "      <td>Weight change</td>\n",
       "      <td>percent</td>\n",
       "      <td>Vital signs</td>\n",
       "    </tr>\n",
       "  </tbody>\n",
       "</table>\n",
       "</div>"
      ],
      "text/plain": [
       "                          measurement_id  person_id measurement_date  \\\n",
       "0   f58d40ef-6d5e-bd81-7ebb-5eedd2c6ed97    1705545       2008-01-27   \n",
       "1   f58d40ef-6d5e-bd81-7ebb-5eedd2c6ed97    1705545       2008-01-27   \n",
       "2   f58d40ef-6d5e-bd81-7ebb-5eedd2c6ed97    1705545       2008-01-27   \n",
       "3   f58d40ef-6d5e-bd81-7ebb-5eedd2c6ed97    1705545       2008-01-27   \n",
       "4   f1a24503-271b-a86e-2b33-47bc192d20c0    1705545       2008-04-01   \n",
       "5   f1a24503-271b-a86e-2b33-47bc192d20c0    1705545       2008-04-01   \n",
       "6   f1a24503-271b-a86e-2b33-47bc192d20c0    1705545       2008-04-01   \n",
       "7   f1a24503-271b-a86e-2b33-47bc192d20c0    1705545       2008-04-01   \n",
       "8   f1a24503-271b-a86e-2b33-47bc192d20c0    1705545       2008-04-01   \n",
       "9   2c88945b-4a7d-9493-74ee-7c5e464430ac    1705545       2008-06-09   \n",
       "10  2c88945b-4a7d-9493-74ee-7c5e464430ac    1705545       2008-06-09   \n",
       "11  2c88945b-4a7d-9493-74ee-7c5e464430ac    1705545       2008-06-09   \n",
       "12  2c88945b-4a7d-9493-74ee-7c5e464430ac    1705545       2008-06-09   \n",
       "13  2c88945b-4a7d-9493-74ee-7c5e464430ac    1705545       2008-06-09   \n",
       "14  833c9a36-341e-e8ca-b312-a971b8a25ff4    1705545       2008-07-23   \n",
       "15  bb2943a0-e728-a1d3-4224-b206c53c886c    1705545       2008-08-07   \n",
       "16  bb2943a0-e728-a1d3-4224-b206c53c886c    1705545       2008-08-07   \n",
       "17  bb2943a0-e728-a1d3-4224-b206c53c886c    1705545       2008-08-07   \n",
       "18  bb2943a0-e728-a1d3-4224-b206c53c886c    1705545       2008-08-07   \n",
       "19  bb2943a0-e728-a1d3-4224-b206c53c886c    1705545       2008-08-07   \n",
       "20  7f443ab8-ebc7-30b2-cb5f-16513ac4be53    1705545       2009-01-06   \n",
       "21  7f443ab8-ebc7-30b2-cb5f-16513ac4be53    1705545       2009-01-06   \n",
       "22  7f443ab8-ebc7-30b2-cb5f-16513ac4be53    1705545       2009-01-06   \n",
       "23  7f443ab8-ebc7-30b2-cb5f-16513ac4be53    1705545       2009-01-06   \n",
       "24  7f443ab8-ebc7-30b2-cb5f-16513ac4be53    1705545       2009-01-06   \n",
       "25  7a770b35-1ddf-1c26-7164-4d8bcd448eaa    1705545       2009-03-07   \n",
       "26  7a770b35-1ddf-1c26-7164-4d8bcd448eaa    1705545       2009-03-07   \n",
       "27  7a770b35-1ddf-1c26-7164-4d8bcd448eaa    1705545       2009-03-07   \n",
       "28  7a770b35-1ddf-1c26-7164-4d8bcd448eaa    1705545       2009-03-07   \n",
       "29  7a770b35-1ddf-1c26-7164-4d8bcd448eaa    1705545       2009-03-07   \n",
       "30  dbde39b4-0e0e-42da-c8ed-6ace23a9e903    1705545       2009-05-06   \n",
       "31  6d33a77a-4c71-965e-e57b-3c1fe7ecb902    1705545       2009-11-06   \n",
       "32  6d33a77a-4c71-965e-e57b-3c1fe7ecb902    1705545       2009-11-06   \n",
       "33  6d33a77a-4c71-965e-e57b-3c1fe7ecb902    1705545       2009-11-06   \n",
       "34  6d33a77a-4c71-965e-e57b-3c1fe7ecb902    1705545       2009-11-06   \n",
       "35  6d33a77a-4c71-965e-e57b-3c1fe7ecb902    1705545       2009-11-06   \n",
       "36  576deff1-3c88-17aa-e698-e4291da9fca1    1705545       2010-03-02   \n",
       "37  576deff1-3c88-17aa-e698-e4291da9fca1    1705545       2010-03-02   \n",
       "38  576deff1-3c88-17aa-e698-e4291da9fca1    1705545       2010-03-02   \n",
       "39  576deff1-3c88-17aa-e698-e4291da9fca1    1705545       2010-03-02   \n",
       "40  576deff1-3c88-17aa-e698-e4291da9fca1    1705545       2010-03-02   \n",
       "41  ab6d8183-2807-2b5a-59ee-095ee5b655cd    1705545       2010-09-23   \n",
       "42  ab6d8183-2807-2b5a-59ee-095ee5b655cd    1705545       2010-09-23   \n",
       "43  ab6d8183-2807-2b5a-59ee-095ee5b655cd    1705545       2010-09-23   \n",
       "44  ab6d8183-2807-2b5a-59ee-095ee5b655cd    1705545       2010-09-23   \n",
       "\n",
       "   measurement_datetime measurement_time  value_as_number  \\\n",
       "0   2008-01-27 16:02:00         16:02:00            162.4   \n",
       "1   2008-01-27 16:02:00         16:02:00             76.3   \n",
       "2   2008-01-27 16:02:00         16:02:00             21.2   \n",
       "3   2008-01-27 16:02:00         16:02:00             55.8   \n",
       "4   2008-04-01 16:02:00         16:02:00            165.5   \n",
       "5   2008-04-01 16:02:00         16:02:00             73.3   \n",
       "6   2008-04-01 16:02:00         16:02:00             21.5   \n",
       "7   2008-04-01 16:02:00         16:02:00             59.0   \n",
       "8   2008-04-01 16:02:00         16:02:00              5.7   \n",
       "9   2008-06-09 16:02:00         16:02:00            166.8   \n",
       "10  2008-06-09 16:02:00         16:02:00             69.7   \n",
       "11  2008-06-09 16:02:00         16:02:00             21.7   \n",
       "12  2008-06-09 16:02:00         16:02:00             60.5   \n",
       "13  2008-06-09 16:02:00         16:02:00              8.4   \n",
       "14  2008-07-23 03:02:00          3:02:00             37.5   \n",
       "15  2008-08-07 16:02:00         16:02:00            167.2   \n",
       "16  2008-08-07 16:02:00         16:02:00             70.1   \n",
       "17  2008-08-07 16:02:00         16:02:00             22.1   \n",
       "18  2008-08-07 16:02:00         16:02:00             61.8   \n",
       "19  2008-08-07 16:02:00         16:02:00             10.8   \n",
       "20  2009-01-06 16:02:00         16:02:00            167.4   \n",
       "21  2009-01-06 16:02:00         16:02:00             56.5   \n",
       "22  2009-01-06 16:02:00         16:02:00             21.0   \n",
       "23  2009-01-06 16:02:00         16:02:00             58.9   \n",
       "24  2009-01-06 16:02:00         16:02:00              5.6   \n",
       "25  2009-03-07 16:02:00         16:02:00            167.7   \n",
       "26  2009-03-07 16:02:00         16:02:00             33.1   \n",
       "27  2009-03-07 16:02:00         16:02:00             19.7   \n",
       "28  2009-03-07 16:02:00         16:02:00             55.5   \n",
       "29  2009-03-07 16:02:00         16:02:00             -0.5   \n",
       "30  2009-05-06 01:02:00          1:02:00             37.4   \n",
       "31  2009-11-06 16:02:00         16:02:00            167.9   \n",
       "32  2009-11-06 16:02:00         16:02:00             38.9   \n",
       "33  2009-11-06 16:02:00         16:02:00             20.5   \n",
       "34  2009-11-06 16:02:00         16:02:00             57.7   \n",
       "35  2009-11-06 16:02:00         16:02:00              3.4   \n",
       "36  2010-03-02 16:02:00         16:02:00            168.0   \n",
       "37  2010-03-02 16:02:00         16:02:00             43.4   \n",
       "38  2010-03-02 16:02:00         16:02:00             21.1   \n",
       "39  2010-03-02 16:02:00         16:02:00             59.5   \n",
       "40  2010-03-02 16:02:00         16:02:00              6.6   \n",
       "41  2010-09-23 16:02:00         16:02:00            168.1   \n",
       "42  2010-09-23 16:02:00         16:02:00             22.5   \n",
       "43  2010-09-23 16:02:00         16:02:00             63.6   \n",
       "44  2010-09-23 16:02:00         16:02:00             14.0   \n",
       "\n",
       "                            measurement_concept_label unit_concept_label  \\\n",
       "0                                         Body height                 cm   \n",
       "1   Body mass index (BMI) [Percentile] Per age and...                  %   \n",
       "2                       Body mass index (BMI) [Ratio]              kg-m2   \n",
       "3                                         Body weight                 kg   \n",
       "4                                         Body height                 cm   \n",
       "5   Body mass index (BMI) [Percentile] Per age and...                  %   \n",
       "6                       Body mass index (BMI) [Ratio]              kg-m2   \n",
       "7                                         Body weight                 kg   \n",
       "8                                       Weight change            percent   \n",
       "9                                         Body height                 cm   \n",
       "10  Body mass index (BMI) [Percentile] Per age and...                  %   \n",
       "11                      Body mass index (BMI) [Ratio]              kg-m2   \n",
       "12                                        Body weight                 kg   \n",
       "13                                      Weight change            percent   \n",
       "14                                   Body temperature                Cel   \n",
       "15                                        Body height                 cm   \n",
       "16  Body mass index (BMI) [Percentile] Per age and...                  %   \n",
       "17                      Body mass index (BMI) [Ratio]              kg-m2   \n",
       "18                                        Body weight                 kg   \n",
       "19                                      Weight change            percent   \n",
       "20                                        Body height                 cm   \n",
       "21  Body mass index (BMI) [Percentile] Per age and...                  %   \n",
       "22                      Body mass index (BMI) [Ratio]              kg-m2   \n",
       "23                                        Body weight                 kg   \n",
       "24                                      Weight change            percent   \n",
       "25                                        Body height                 cm   \n",
       "26  Body mass index (BMI) [Percentile] Per age and...                  %   \n",
       "27                      Body mass index (BMI) [Ratio]              kg-m2   \n",
       "28                                        Body weight                 kg   \n",
       "29                                      Weight change            percent   \n",
       "30                                   Body temperature                Cel   \n",
       "31                                        Body height                 cm   \n",
       "32  Body mass index (BMI) [Percentile] Per age and...                  %   \n",
       "33                      Body mass index (BMI) [Ratio]              kg-m2   \n",
       "34                                        Body weight                 kg   \n",
       "35                                      Weight change            percent   \n",
       "36                                        Body height                 cm   \n",
       "37  Body mass index (BMI) [Percentile] Per age and...                  %   \n",
       "38                      Body mass index (BMI) [Ratio]              kg-m2   \n",
       "39                                        Body weight                 kg   \n",
       "40                                      Weight change            percent   \n",
       "41                                        Body height                 cm   \n",
       "42                      Body mass index (BMI) [Ratio]              kg-m2   \n",
       "43                                        Body weight                 kg   \n",
       "44                                      Weight change            percent   \n",
       "\n",
       "   measurement_type_concept_label  \n",
       "0                     Vital signs  \n",
       "1                     Vital signs  \n",
       "2                     Vital signs  \n",
       "3                     Vital signs  \n",
       "4                     Vital signs  \n",
       "5                     Vital signs  \n",
       "6                     Vital signs  \n",
       "7                     Vital signs  \n",
       "8                     Vital signs  \n",
       "9                     Vital signs  \n",
       "10                    Vital signs  \n",
       "11                    Vital signs  \n",
       "12                    Vital signs  \n",
       "13                    Vital signs  \n",
       "14                    Vital signs  \n",
       "15                    Vital signs  \n",
       "16                    Vital signs  \n",
       "17                    Vital signs  \n",
       "18                    Vital signs  \n",
       "19                    Vital signs  \n",
       "20                    Vital signs  \n",
       "21                    Vital signs  \n",
       "22                    Vital signs  \n",
       "23                    Vital signs  \n",
       "24                    Vital signs  \n",
       "25                    Vital signs  \n",
       "26                    Vital signs  \n",
       "27                    Vital signs  \n",
       "28                    Vital signs  \n",
       "29                    Vital signs  \n",
       "30                    Vital signs  \n",
       "31                    Vital signs  \n",
       "32                    Vital signs  \n",
       "33                    Vital signs  \n",
       "34                    Vital signs  \n",
       "35                    Vital signs  \n",
       "36                    Vital signs  \n",
       "37                    Vital signs  \n",
       "38                    Vital signs  \n",
       "39                    Vital signs  \n",
       "40                    Vital signs  \n",
       "41                    Vital signs  \n",
       "42                    Vital signs  \n",
       "43                    Vital signs  \n",
       "44                    Vital signs  "
      ]
     },
     "execution_count": 35,
     "metadata": {},
     "output_type": "execute_result"
    }
   ],
   "source": [
    "meas_indiv"
   ]
  },
  {
   "cell_type": "code",
   "execution_count": 36,
   "metadata": {},
   "outputs": [
    {
     "data": {
      "text/html": [
       "<div>\n",
       "<style scoped>\n",
       "    .dataframe tbody tr th:only-of-type {\n",
       "        vertical-align: middle;\n",
       "    }\n",
       "\n",
       "    .dataframe tbody tr th {\n",
       "        vertical-align: top;\n",
       "    }\n",
       "\n",
       "    .dataframe thead th {\n",
       "        text-align: right;\n",
       "    }\n",
       "</style>\n",
       "<table border=\"1\" class=\"dataframe\">\n",
       "  <thead>\n",
       "    <tr style=\"text-align: right;\">\n",
       "      <th></th>\n",
       "      <th>measurement_id</th>\n",
       "      <th>person_id</th>\n",
       "      <th>measurement_date</th>\n",
       "      <th>measurement_datetime</th>\n",
       "      <th>measurement_time</th>\n",
       "      <th>value_as_number</th>\n",
       "      <th>measurement_concept_label</th>\n",
       "      <th>unit_concept_label</th>\n",
       "      <th>measurement_type_concept_label</th>\n",
       "    </tr>\n",
       "  </thead>\n",
       "  <tbody>\n",
       "    <tr>\n",
       "      <th>0</th>\n",
       "      <td>f58d40ef-6d5e-bd81-7ebb-5eedd2c6ed97</td>\n",
       "      <td>1705545</td>\n",
       "      <td>2008-01-27</td>\n",
       "      <td>2008-01-27 16:02:00</td>\n",
       "      <td>16:02:00</td>\n",
       "      <td>162.4</td>\n",
       "      <td>Body height</td>\n",
       "      <td>cm</td>\n",
       "      <td>Vital signs</td>\n",
       "    </tr>\n",
       "    <tr>\n",
       "      <th>2</th>\n",
       "      <td>f58d40ef-6d5e-bd81-7ebb-5eedd2c6ed97</td>\n",
       "      <td>1705545</td>\n",
       "      <td>2008-01-27</td>\n",
       "      <td>2008-01-27 16:02:00</td>\n",
       "      <td>16:02:00</td>\n",
       "      <td>21.2</td>\n",
       "      <td>Body mass index (BMI) [Ratio]</td>\n",
       "      <td>kg-m2</td>\n",
       "      <td>Vital signs</td>\n",
       "    </tr>\n",
       "    <tr>\n",
       "      <th>3</th>\n",
       "      <td>f58d40ef-6d5e-bd81-7ebb-5eedd2c6ed97</td>\n",
       "      <td>1705545</td>\n",
       "      <td>2008-01-27</td>\n",
       "      <td>2008-01-27 16:02:00</td>\n",
       "      <td>16:02:00</td>\n",
       "      <td>55.8</td>\n",
       "      <td>Body weight</td>\n",
       "      <td>kg</td>\n",
       "      <td>Vital signs</td>\n",
       "    </tr>\n",
       "    <tr>\n",
       "      <th>4</th>\n",
       "      <td>f1a24503-271b-a86e-2b33-47bc192d20c0</td>\n",
       "      <td>1705545</td>\n",
       "      <td>2008-04-01</td>\n",
       "      <td>2008-04-01 16:02:00</td>\n",
       "      <td>16:02:00</td>\n",
       "      <td>165.5</td>\n",
       "      <td>Body height</td>\n",
       "      <td>cm</td>\n",
       "      <td>Vital signs</td>\n",
       "    </tr>\n",
       "    <tr>\n",
       "      <th>6</th>\n",
       "      <td>f1a24503-271b-a86e-2b33-47bc192d20c0</td>\n",
       "      <td>1705545</td>\n",
       "      <td>2008-04-01</td>\n",
       "      <td>2008-04-01 16:02:00</td>\n",
       "      <td>16:02:00</td>\n",
       "      <td>21.5</td>\n",
       "      <td>Body mass index (BMI) [Ratio]</td>\n",
       "      <td>kg-m2</td>\n",
       "      <td>Vital signs</td>\n",
       "    </tr>\n",
       "    <tr>\n",
       "      <th>7</th>\n",
       "      <td>f1a24503-271b-a86e-2b33-47bc192d20c0</td>\n",
       "      <td>1705545</td>\n",
       "      <td>2008-04-01</td>\n",
       "      <td>2008-04-01 16:02:00</td>\n",
       "      <td>16:02:00</td>\n",
       "      <td>59.0</td>\n",
       "      <td>Body weight</td>\n",
       "      <td>kg</td>\n",
       "      <td>Vital signs</td>\n",
       "    </tr>\n",
       "    <tr>\n",
       "      <th>8</th>\n",
       "      <td>f1a24503-271b-a86e-2b33-47bc192d20c0</td>\n",
       "      <td>1705545</td>\n",
       "      <td>2008-04-01</td>\n",
       "      <td>2008-04-01 16:02:00</td>\n",
       "      <td>16:02:00</td>\n",
       "      <td>5.7</td>\n",
       "      <td>Weight change</td>\n",
       "      <td>percent</td>\n",
       "      <td>Vital signs</td>\n",
       "    </tr>\n",
       "    <tr>\n",
       "      <th>9</th>\n",
       "      <td>2c88945b-4a7d-9493-74ee-7c5e464430ac</td>\n",
       "      <td>1705545</td>\n",
       "      <td>2008-06-09</td>\n",
       "      <td>2008-06-09 16:02:00</td>\n",
       "      <td>16:02:00</td>\n",
       "      <td>166.8</td>\n",
       "      <td>Body height</td>\n",
       "      <td>cm</td>\n",
       "      <td>Vital signs</td>\n",
       "    </tr>\n",
       "    <tr>\n",
       "      <th>11</th>\n",
       "      <td>2c88945b-4a7d-9493-74ee-7c5e464430ac</td>\n",
       "      <td>1705545</td>\n",
       "      <td>2008-06-09</td>\n",
       "      <td>2008-06-09 16:02:00</td>\n",
       "      <td>16:02:00</td>\n",
       "      <td>21.7</td>\n",
       "      <td>Body mass index (BMI) [Ratio]</td>\n",
       "      <td>kg-m2</td>\n",
       "      <td>Vital signs</td>\n",
       "    </tr>\n",
       "    <tr>\n",
       "      <th>12</th>\n",
       "      <td>2c88945b-4a7d-9493-74ee-7c5e464430ac</td>\n",
       "      <td>1705545</td>\n",
       "      <td>2008-06-09</td>\n",
       "      <td>2008-06-09 16:02:00</td>\n",
       "      <td>16:02:00</td>\n",
       "      <td>60.5</td>\n",
       "      <td>Body weight</td>\n",
       "      <td>kg</td>\n",
       "      <td>Vital signs</td>\n",
       "    </tr>\n",
       "    <tr>\n",
       "      <th>13</th>\n",
       "      <td>2c88945b-4a7d-9493-74ee-7c5e464430ac</td>\n",
       "      <td>1705545</td>\n",
       "      <td>2008-06-09</td>\n",
       "      <td>2008-06-09 16:02:00</td>\n",
       "      <td>16:02:00</td>\n",
       "      <td>8.4</td>\n",
       "      <td>Weight change</td>\n",
       "      <td>percent</td>\n",
       "      <td>Vital signs</td>\n",
       "    </tr>\n",
       "    <tr>\n",
       "      <th>15</th>\n",
       "      <td>bb2943a0-e728-a1d3-4224-b206c53c886c</td>\n",
       "      <td>1705545</td>\n",
       "      <td>2008-08-07</td>\n",
       "      <td>2008-08-07 16:02:00</td>\n",
       "      <td>16:02:00</td>\n",
       "      <td>167.2</td>\n",
       "      <td>Body height</td>\n",
       "      <td>cm</td>\n",
       "      <td>Vital signs</td>\n",
       "    </tr>\n",
       "    <tr>\n",
       "      <th>17</th>\n",
       "      <td>bb2943a0-e728-a1d3-4224-b206c53c886c</td>\n",
       "      <td>1705545</td>\n",
       "      <td>2008-08-07</td>\n",
       "      <td>2008-08-07 16:02:00</td>\n",
       "      <td>16:02:00</td>\n",
       "      <td>22.1</td>\n",
       "      <td>Body mass index (BMI) [Ratio]</td>\n",
       "      <td>kg-m2</td>\n",
       "      <td>Vital signs</td>\n",
       "    </tr>\n",
       "    <tr>\n",
       "      <th>18</th>\n",
       "      <td>bb2943a0-e728-a1d3-4224-b206c53c886c</td>\n",
       "      <td>1705545</td>\n",
       "      <td>2008-08-07</td>\n",
       "      <td>2008-08-07 16:02:00</td>\n",
       "      <td>16:02:00</td>\n",
       "      <td>61.8</td>\n",
       "      <td>Body weight</td>\n",
       "      <td>kg</td>\n",
       "      <td>Vital signs</td>\n",
       "    </tr>\n",
       "    <tr>\n",
       "      <th>19</th>\n",
       "      <td>bb2943a0-e728-a1d3-4224-b206c53c886c</td>\n",
       "      <td>1705545</td>\n",
       "      <td>2008-08-07</td>\n",
       "      <td>2008-08-07 16:02:00</td>\n",
       "      <td>16:02:00</td>\n",
       "      <td>10.8</td>\n",
       "      <td>Weight change</td>\n",
       "      <td>percent</td>\n",
       "      <td>Vital signs</td>\n",
       "    </tr>\n",
       "    <tr>\n",
       "      <th>20</th>\n",
       "      <td>7f443ab8-ebc7-30b2-cb5f-16513ac4be53</td>\n",
       "      <td>1705545</td>\n",
       "      <td>2009-01-06</td>\n",
       "      <td>2009-01-06 16:02:00</td>\n",
       "      <td>16:02:00</td>\n",
       "      <td>167.4</td>\n",
       "      <td>Body height</td>\n",
       "      <td>cm</td>\n",
       "      <td>Vital signs</td>\n",
       "    </tr>\n",
       "    <tr>\n",
       "      <th>22</th>\n",
       "      <td>7f443ab8-ebc7-30b2-cb5f-16513ac4be53</td>\n",
       "      <td>1705545</td>\n",
       "      <td>2009-01-06</td>\n",
       "      <td>2009-01-06 16:02:00</td>\n",
       "      <td>16:02:00</td>\n",
       "      <td>21.0</td>\n",
       "      <td>Body mass index (BMI) [Ratio]</td>\n",
       "      <td>kg-m2</td>\n",
       "      <td>Vital signs</td>\n",
       "    </tr>\n",
       "    <tr>\n",
       "      <th>23</th>\n",
       "      <td>7f443ab8-ebc7-30b2-cb5f-16513ac4be53</td>\n",
       "      <td>1705545</td>\n",
       "      <td>2009-01-06</td>\n",
       "      <td>2009-01-06 16:02:00</td>\n",
       "      <td>16:02:00</td>\n",
       "      <td>58.9</td>\n",
       "      <td>Body weight</td>\n",
       "      <td>kg</td>\n",
       "      <td>Vital signs</td>\n",
       "    </tr>\n",
       "    <tr>\n",
       "      <th>24</th>\n",
       "      <td>7f443ab8-ebc7-30b2-cb5f-16513ac4be53</td>\n",
       "      <td>1705545</td>\n",
       "      <td>2009-01-06</td>\n",
       "      <td>2009-01-06 16:02:00</td>\n",
       "      <td>16:02:00</td>\n",
       "      <td>5.6</td>\n",
       "      <td>Weight change</td>\n",
       "      <td>percent</td>\n",
       "      <td>Vital signs</td>\n",
       "    </tr>\n",
       "    <tr>\n",
       "      <th>25</th>\n",
       "      <td>7a770b35-1ddf-1c26-7164-4d8bcd448eaa</td>\n",
       "      <td>1705545</td>\n",
       "      <td>2009-03-07</td>\n",
       "      <td>2009-03-07 16:02:00</td>\n",
       "      <td>16:02:00</td>\n",
       "      <td>167.7</td>\n",
       "      <td>Body height</td>\n",
       "      <td>cm</td>\n",
       "      <td>Vital signs</td>\n",
       "    </tr>\n",
       "    <tr>\n",
       "      <th>27</th>\n",
       "      <td>7a770b35-1ddf-1c26-7164-4d8bcd448eaa</td>\n",
       "      <td>1705545</td>\n",
       "      <td>2009-03-07</td>\n",
       "      <td>2009-03-07 16:02:00</td>\n",
       "      <td>16:02:00</td>\n",
       "      <td>19.7</td>\n",
       "      <td>Body mass index (BMI) [Ratio]</td>\n",
       "      <td>kg-m2</td>\n",
       "      <td>Vital signs</td>\n",
       "    </tr>\n",
       "    <tr>\n",
       "      <th>28</th>\n",
       "      <td>7a770b35-1ddf-1c26-7164-4d8bcd448eaa</td>\n",
       "      <td>1705545</td>\n",
       "      <td>2009-03-07</td>\n",
       "      <td>2009-03-07 16:02:00</td>\n",
       "      <td>16:02:00</td>\n",
       "      <td>55.5</td>\n",
       "      <td>Body weight</td>\n",
       "      <td>kg</td>\n",
       "      <td>Vital signs</td>\n",
       "    </tr>\n",
       "    <tr>\n",
       "      <th>29</th>\n",
       "      <td>7a770b35-1ddf-1c26-7164-4d8bcd448eaa</td>\n",
       "      <td>1705545</td>\n",
       "      <td>2009-03-07</td>\n",
       "      <td>2009-03-07 16:02:00</td>\n",
       "      <td>16:02:00</td>\n",
       "      <td>-0.5</td>\n",
       "      <td>Weight change</td>\n",
       "      <td>percent</td>\n",
       "      <td>Vital signs</td>\n",
       "    </tr>\n",
       "    <tr>\n",
       "      <th>31</th>\n",
       "      <td>6d33a77a-4c71-965e-e57b-3c1fe7ecb902</td>\n",
       "      <td>1705545</td>\n",
       "      <td>2009-11-06</td>\n",
       "      <td>2009-11-06 16:02:00</td>\n",
       "      <td>16:02:00</td>\n",
       "      <td>167.9</td>\n",
       "      <td>Body height</td>\n",
       "      <td>cm</td>\n",
       "      <td>Vital signs</td>\n",
       "    </tr>\n",
       "    <tr>\n",
       "      <th>33</th>\n",
       "      <td>6d33a77a-4c71-965e-e57b-3c1fe7ecb902</td>\n",
       "      <td>1705545</td>\n",
       "      <td>2009-11-06</td>\n",
       "      <td>2009-11-06 16:02:00</td>\n",
       "      <td>16:02:00</td>\n",
       "      <td>20.5</td>\n",
       "      <td>Body mass index (BMI) [Ratio]</td>\n",
       "      <td>kg-m2</td>\n",
       "      <td>Vital signs</td>\n",
       "    </tr>\n",
       "    <tr>\n",
       "      <th>34</th>\n",
       "      <td>6d33a77a-4c71-965e-e57b-3c1fe7ecb902</td>\n",
       "      <td>1705545</td>\n",
       "      <td>2009-11-06</td>\n",
       "      <td>2009-11-06 16:02:00</td>\n",
       "      <td>16:02:00</td>\n",
       "      <td>57.7</td>\n",
       "      <td>Body weight</td>\n",
       "      <td>kg</td>\n",
       "      <td>Vital signs</td>\n",
       "    </tr>\n",
       "    <tr>\n",
       "      <th>35</th>\n",
       "      <td>6d33a77a-4c71-965e-e57b-3c1fe7ecb902</td>\n",
       "      <td>1705545</td>\n",
       "      <td>2009-11-06</td>\n",
       "      <td>2009-11-06 16:02:00</td>\n",
       "      <td>16:02:00</td>\n",
       "      <td>3.4</td>\n",
       "      <td>Weight change</td>\n",
       "      <td>percent</td>\n",
       "      <td>Vital signs</td>\n",
       "    </tr>\n",
       "    <tr>\n",
       "      <th>36</th>\n",
       "      <td>576deff1-3c88-17aa-e698-e4291da9fca1</td>\n",
       "      <td>1705545</td>\n",
       "      <td>2010-03-02</td>\n",
       "      <td>2010-03-02 16:02:00</td>\n",
       "      <td>16:02:00</td>\n",
       "      <td>168.0</td>\n",
       "      <td>Body height</td>\n",
       "      <td>cm</td>\n",
       "      <td>Vital signs</td>\n",
       "    </tr>\n",
       "    <tr>\n",
       "      <th>38</th>\n",
       "      <td>576deff1-3c88-17aa-e698-e4291da9fca1</td>\n",
       "      <td>1705545</td>\n",
       "      <td>2010-03-02</td>\n",
       "      <td>2010-03-02 16:02:00</td>\n",
       "      <td>16:02:00</td>\n",
       "      <td>21.1</td>\n",
       "      <td>Body mass index (BMI) [Ratio]</td>\n",
       "      <td>kg-m2</td>\n",
       "      <td>Vital signs</td>\n",
       "    </tr>\n",
       "    <tr>\n",
       "      <th>39</th>\n",
       "      <td>576deff1-3c88-17aa-e698-e4291da9fca1</td>\n",
       "      <td>1705545</td>\n",
       "      <td>2010-03-02</td>\n",
       "      <td>2010-03-02 16:02:00</td>\n",
       "      <td>16:02:00</td>\n",
       "      <td>59.5</td>\n",
       "      <td>Body weight</td>\n",
       "      <td>kg</td>\n",
       "      <td>Vital signs</td>\n",
       "    </tr>\n",
       "    <tr>\n",
       "      <th>40</th>\n",
       "      <td>576deff1-3c88-17aa-e698-e4291da9fca1</td>\n",
       "      <td>1705545</td>\n",
       "      <td>2010-03-02</td>\n",
       "      <td>2010-03-02 16:02:00</td>\n",
       "      <td>16:02:00</td>\n",
       "      <td>6.6</td>\n",
       "      <td>Weight change</td>\n",
       "      <td>percent</td>\n",
       "      <td>Vital signs</td>\n",
       "    </tr>\n",
       "    <tr>\n",
       "      <th>41</th>\n",
       "      <td>ab6d8183-2807-2b5a-59ee-095ee5b655cd</td>\n",
       "      <td>1705545</td>\n",
       "      <td>2010-09-23</td>\n",
       "      <td>2010-09-23 16:02:00</td>\n",
       "      <td>16:02:00</td>\n",
       "      <td>168.1</td>\n",
       "      <td>Body height</td>\n",
       "      <td>cm</td>\n",
       "      <td>Vital signs</td>\n",
       "    </tr>\n",
       "    <tr>\n",
       "      <th>42</th>\n",
       "      <td>ab6d8183-2807-2b5a-59ee-095ee5b655cd</td>\n",
       "      <td>1705545</td>\n",
       "      <td>2010-09-23</td>\n",
       "      <td>2010-09-23 16:02:00</td>\n",
       "      <td>16:02:00</td>\n",
       "      <td>22.5</td>\n",
       "      <td>Body mass index (BMI) [Ratio]</td>\n",
       "      <td>kg-m2</td>\n",
       "      <td>Vital signs</td>\n",
       "    </tr>\n",
       "    <tr>\n",
       "      <th>43</th>\n",
       "      <td>ab6d8183-2807-2b5a-59ee-095ee5b655cd</td>\n",
       "      <td>1705545</td>\n",
       "      <td>2010-09-23</td>\n",
       "      <td>2010-09-23 16:02:00</td>\n",
       "      <td>16:02:00</td>\n",
       "      <td>63.6</td>\n",
       "      <td>Body weight</td>\n",
       "      <td>kg</td>\n",
       "      <td>Vital signs</td>\n",
       "    </tr>\n",
       "    <tr>\n",
       "      <th>44</th>\n",
       "      <td>ab6d8183-2807-2b5a-59ee-095ee5b655cd</td>\n",
       "      <td>1705545</td>\n",
       "      <td>2010-09-23</td>\n",
       "      <td>2010-09-23 16:02:00</td>\n",
       "      <td>16:02:00</td>\n",
       "      <td>14.0</td>\n",
       "      <td>Weight change</td>\n",
       "      <td>percent</td>\n",
       "      <td>Vital signs</td>\n",
       "    </tr>\n",
       "  </tbody>\n",
       "</table>\n",
       "</div>"
      ],
      "text/plain": [
       "                          measurement_id  person_id measurement_date  \\\n",
       "0   f58d40ef-6d5e-bd81-7ebb-5eedd2c6ed97    1705545       2008-01-27   \n",
       "2   f58d40ef-6d5e-bd81-7ebb-5eedd2c6ed97    1705545       2008-01-27   \n",
       "3   f58d40ef-6d5e-bd81-7ebb-5eedd2c6ed97    1705545       2008-01-27   \n",
       "4   f1a24503-271b-a86e-2b33-47bc192d20c0    1705545       2008-04-01   \n",
       "6   f1a24503-271b-a86e-2b33-47bc192d20c0    1705545       2008-04-01   \n",
       "7   f1a24503-271b-a86e-2b33-47bc192d20c0    1705545       2008-04-01   \n",
       "8   f1a24503-271b-a86e-2b33-47bc192d20c0    1705545       2008-04-01   \n",
       "9   2c88945b-4a7d-9493-74ee-7c5e464430ac    1705545       2008-06-09   \n",
       "11  2c88945b-4a7d-9493-74ee-7c5e464430ac    1705545       2008-06-09   \n",
       "12  2c88945b-4a7d-9493-74ee-7c5e464430ac    1705545       2008-06-09   \n",
       "13  2c88945b-4a7d-9493-74ee-7c5e464430ac    1705545       2008-06-09   \n",
       "15  bb2943a0-e728-a1d3-4224-b206c53c886c    1705545       2008-08-07   \n",
       "17  bb2943a0-e728-a1d3-4224-b206c53c886c    1705545       2008-08-07   \n",
       "18  bb2943a0-e728-a1d3-4224-b206c53c886c    1705545       2008-08-07   \n",
       "19  bb2943a0-e728-a1d3-4224-b206c53c886c    1705545       2008-08-07   \n",
       "20  7f443ab8-ebc7-30b2-cb5f-16513ac4be53    1705545       2009-01-06   \n",
       "22  7f443ab8-ebc7-30b2-cb5f-16513ac4be53    1705545       2009-01-06   \n",
       "23  7f443ab8-ebc7-30b2-cb5f-16513ac4be53    1705545       2009-01-06   \n",
       "24  7f443ab8-ebc7-30b2-cb5f-16513ac4be53    1705545       2009-01-06   \n",
       "25  7a770b35-1ddf-1c26-7164-4d8bcd448eaa    1705545       2009-03-07   \n",
       "27  7a770b35-1ddf-1c26-7164-4d8bcd448eaa    1705545       2009-03-07   \n",
       "28  7a770b35-1ddf-1c26-7164-4d8bcd448eaa    1705545       2009-03-07   \n",
       "29  7a770b35-1ddf-1c26-7164-4d8bcd448eaa    1705545       2009-03-07   \n",
       "31  6d33a77a-4c71-965e-e57b-3c1fe7ecb902    1705545       2009-11-06   \n",
       "33  6d33a77a-4c71-965e-e57b-3c1fe7ecb902    1705545       2009-11-06   \n",
       "34  6d33a77a-4c71-965e-e57b-3c1fe7ecb902    1705545       2009-11-06   \n",
       "35  6d33a77a-4c71-965e-e57b-3c1fe7ecb902    1705545       2009-11-06   \n",
       "36  576deff1-3c88-17aa-e698-e4291da9fca1    1705545       2010-03-02   \n",
       "38  576deff1-3c88-17aa-e698-e4291da9fca1    1705545       2010-03-02   \n",
       "39  576deff1-3c88-17aa-e698-e4291da9fca1    1705545       2010-03-02   \n",
       "40  576deff1-3c88-17aa-e698-e4291da9fca1    1705545       2010-03-02   \n",
       "41  ab6d8183-2807-2b5a-59ee-095ee5b655cd    1705545       2010-09-23   \n",
       "42  ab6d8183-2807-2b5a-59ee-095ee5b655cd    1705545       2010-09-23   \n",
       "43  ab6d8183-2807-2b5a-59ee-095ee5b655cd    1705545       2010-09-23   \n",
       "44  ab6d8183-2807-2b5a-59ee-095ee5b655cd    1705545       2010-09-23   \n",
       "\n",
       "   measurement_datetime measurement_time  value_as_number  \\\n",
       "0   2008-01-27 16:02:00         16:02:00            162.4   \n",
       "2   2008-01-27 16:02:00         16:02:00             21.2   \n",
       "3   2008-01-27 16:02:00         16:02:00             55.8   \n",
       "4   2008-04-01 16:02:00         16:02:00            165.5   \n",
       "6   2008-04-01 16:02:00         16:02:00             21.5   \n",
       "7   2008-04-01 16:02:00         16:02:00             59.0   \n",
       "8   2008-04-01 16:02:00         16:02:00              5.7   \n",
       "9   2008-06-09 16:02:00         16:02:00            166.8   \n",
       "11  2008-06-09 16:02:00         16:02:00             21.7   \n",
       "12  2008-06-09 16:02:00         16:02:00             60.5   \n",
       "13  2008-06-09 16:02:00         16:02:00              8.4   \n",
       "15  2008-08-07 16:02:00         16:02:00            167.2   \n",
       "17  2008-08-07 16:02:00         16:02:00             22.1   \n",
       "18  2008-08-07 16:02:00         16:02:00             61.8   \n",
       "19  2008-08-07 16:02:00         16:02:00             10.8   \n",
       "20  2009-01-06 16:02:00         16:02:00            167.4   \n",
       "22  2009-01-06 16:02:00         16:02:00             21.0   \n",
       "23  2009-01-06 16:02:00         16:02:00             58.9   \n",
       "24  2009-01-06 16:02:00         16:02:00              5.6   \n",
       "25  2009-03-07 16:02:00         16:02:00            167.7   \n",
       "27  2009-03-07 16:02:00         16:02:00             19.7   \n",
       "28  2009-03-07 16:02:00         16:02:00             55.5   \n",
       "29  2009-03-07 16:02:00         16:02:00             -0.5   \n",
       "31  2009-11-06 16:02:00         16:02:00            167.9   \n",
       "33  2009-11-06 16:02:00         16:02:00             20.5   \n",
       "34  2009-11-06 16:02:00         16:02:00             57.7   \n",
       "35  2009-11-06 16:02:00         16:02:00              3.4   \n",
       "36  2010-03-02 16:02:00         16:02:00            168.0   \n",
       "38  2010-03-02 16:02:00         16:02:00             21.1   \n",
       "39  2010-03-02 16:02:00         16:02:00             59.5   \n",
       "40  2010-03-02 16:02:00         16:02:00              6.6   \n",
       "41  2010-09-23 16:02:00         16:02:00            168.1   \n",
       "42  2010-09-23 16:02:00         16:02:00             22.5   \n",
       "43  2010-09-23 16:02:00         16:02:00             63.6   \n",
       "44  2010-09-23 16:02:00         16:02:00             14.0   \n",
       "\n",
       "        measurement_concept_label unit_concept_label  \\\n",
       "0                     Body height                 cm   \n",
       "2   Body mass index (BMI) [Ratio]              kg-m2   \n",
       "3                     Body weight                 kg   \n",
       "4                     Body height                 cm   \n",
       "6   Body mass index (BMI) [Ratio]              kg-m2   \n",
       "7                     Body weight                 kg   \n",
       "8                   Weight change            percent   \n",
       "9                     Body height                 cm   \n",
       "11  Body mass index (BMI) [Ratio]              kg-m2   \n",
       "12                    Body weight                 kg   \n",
       "13                  Weight change            percent   \n",
       "15                    Body height                 cm   \n",
       "17  Body mass index (BMI) [Ratio]              kg-m2   \n",
       "18                    Body weight                 kg   \n",
       "19                  Weight change            percent   \n",
       "20                    Body height                 cm   \n",
       "22  Body mass index (BMI) [Ratio]              kg-m2   \n",
       "23                    Body weight                 kg   \n",
       "24                  Weight change            percent   \n",
       "25                    Body height                 cm   \n",
       "27  Body mass index (BMI) [Ratio]              kg-m2   \n",
       "28                    Body weight                 kg   \n",
       "29                  Weight change            percent   \n",
       "31                    Body height                 cm   \n",
       "33  Body mass index (BMI) [Ratio]              kg-m2   \n",
       "34                    Body weight                 kg   \n",
       "35                  Weight change            percent   \n",
       "36                    Body height                 cm   \n",
       "38  Body mass index (BMI) [Ratio]              kg-m2   \n",
       "39                    Body weight                 kg   \n",
       "40                  Weight change            percent   \n",
       "41                    Body height                 cm   \n",
       "42  Body mass index (BMI) [Ratio]              kg-m2   \n",
       "43                    Body weight                 kg   \n",
       "44                  Weight change            percent   \n",
       "\n",
       "   measurement_type_concept_label  \n",
       "0                     Vital signs  \n",
       "2                     Vital signs  \n",
       "3                     Vital signs  \n",
       "4                     Vital signs  \n",
       "6                     Vital signs  \n",
       "7                     Vital signs  \n",
       "8                     Vital signs  \n",
       "9                     Vital signs  \n",
       "11                    Vital signs  \n",
       "12                    Vital signs  \n",
       "13                    Vital signs  \n",
       "15                    Vital signs  \n",
       "17                    Vital signs  \n",
       "18                    Vital signs  \n",
       "19                    Vital signs  \n",
       "20                    Vital signs  \n",
       "22                    Vital signs  \n",
       "23                    Vital signs  \n",
       "24                    Vital signs  \n",
       "25                    Vital signs  \n",
       "27                    Vital signs  \n",
       "28                    Vital signs  \n",
       "29                    Vital signs  \n",
       "31                    Vital signs  \n",
       "33                    Vital signs  \n",
       "34                    Vital signs  \n",
       "35                    Vital signs  \n",
       "36                    Vital signs  \n",
       "38                    Vital signs  \n",
       "39                    Vital signs  \n",
       "40                    Vital signs  \n",
       "41                    Vital signs  \n",
       "42                    Vital signs  \n",
       "43                    Vital signs  \n",
       "44                    Vital signs  "
      ]
     },
     "execution_count": 36,
     "metadata": {},
     "output_type": "execute_result"
    }
   ],
   "source": [
    "meas_graphs = meas_indiv.loc[meas_indiv['measurement_concept_label'].isin(['Body mass index (BMI) [Ratio]', 'Body height', 'Body weight', 'Weight change'])]\n",
    "meas_graphs"
   ]
  },
  {
   "cell_type": "code",
   "execution_count": 37,
   "metadata": {},
   "outputs": [],
   "source": [
    "meas_graphs['measurement_concept_label']=meas_graphs['measurement_concept_label'].replace({\n",
    "    'Body weight':'Body weight (kg)', \n",
    "    'Weight change':'Weight change (%)',\n",
    "    'Body height': 'Body height (cm)',\n",
    "    'Body mass index (BMI) [Ratio]': 'BMI (kg/m\\u00B2)'})"
   ]
  },
  {
   "cell_type": "code",
   "execution_count": 39,
   "metadata": {},
   "outputs": [
    {
     "data": {
      "application/vnd.plotly.v1+json": {
       "config": {
        "plotlyServerURL": "https://plot.ly"
       },
       "data": [
        {
         "hovertemplate": "measurement_concept_label=Body height (cm)<br>measurement_date=%{x}<br>value_as_number=%{y}<extra></extra>",
         "legendgroup": "",
         "marker": {
          "color": "#636efa",
          "symbol": "circle"
         },
         "mode": "markers",
         "name": "",
         "orientation": "v",
         "showlegend": false,
         "type": "scatter",
         "x": [
          "2008-01-27",
          "2008-04-01",
          "2008-06-09",
          "2008-08-07",
          "2009-01-06",
          "2009-03-07",
          "2009-11-06",
          "2010-03-02",
          "2010-09-23"
         ],
         "xaxis": "x3",
         "y": [
          162.4,
          165.5,
          166.8,
          167.2,
          167.4,
          167.7,
          167.9,
          168,
          168.1
         ],
         "yaxis": "y3"
        },
        {
         "hovertemplate": "measurement_concept_label=BMI (kg/m²)<br>measurement_date=%{x}<br>value_as_number=%{y}<extra></extra>",
         "legendgroup": "",
         "marker": {
          "color": "#636efa",
          "symbol": "circle"
         },
         "mode": "markers",
         "name": "",
         "orientation": "v",
         "showlegend": false,
         "type": "scatter",
         "x": [
          "2008-01-27",
          "2008-04-01",
          "2008-06-09",
          "2008-08-07",
          "2009-01-06",
          "2009-03-07",
          "2009-11-06",
          "2010-03-02",
          "2010-09-23"
         ],
         "xaxis": "x4",
         "y": [
          21.2,
          21.5,
          21.7,
          22.1,
          21,
          19.7,
          20.5,
          21.1,
          22.5
         ],
         "yaxis": "y4"
        },
        {
         "hovertemplate": "measurement_concept_label=Body weight (kg)<br>measurement_date=%{x}<br>value_as_number=%{y}<extra></extra>",
         "legendgroup": "",
         "marker": {
          "color": "#636efa",
          "symbol": "circle"
         },
         "mode": "markers",
         "name": "",
         "orientation": "v",
         "showlegend": false,
         "type": "scatter",
         "x": [
          "2008-01-27",
          "2008-04-01",
          "2008-06-09",
          "2008-08-07",
          "2009-01-06",
          "2009-03-07",
          "2009-11-06",
          "2010-03-02",
          "2010-09-23"
         ],
         "xaxis": "x",
         "y": [
          55.8,
          59,
          60.5,
          61.8,
          58.9,
          55.5,
          57.7,
          59.5,
          63.6
         ],
         "yaxis": "y"
        },
        {
         "hovertemplate": "measurement_concept_label=Weight change (%)<br>measurement_date=%{x}<br>value_as_number=%{y}<extra></extra>",
         "legendgroup": "",
         "marker": {
          "color": "#636efa",
          "symbol": "circle"
         },
         "mode": "markers",
         "name": "",
         "orientation": "v",
         "showlegend": false,
         "type": "scatter",
         "x": [
          "2008-04-01",
          "2008-06-09",
          "2008-08-07",
          "2009-01-06",
          "2009-03-07",
          "2009-11-06",
          "2010-03-02",
          "2010-09-23"
         ],
         "xaxis": "x2",
         "y": [
          5.7,
          8.4,
          10.8,
          5.6,
          -0.5,
          3.4,
          6.6,
          14
         ],
         "yaxis": "y2"
        }
       ],
       "layout": {
        "annotations": [
         {
          "font": {},
          "showarrow": false,
          "text": "Body weight (kg)",
          "x": 0.2375,
          "xanchor": "center",
          "xref": "paper",
          "y": 0.45,
          "yanchor": "bottom",
          "yref": "paper"
         },
         {
          "font": {},
          "showarrow": false,
          "text": "Weight change (%)",
          "x": 0.7625,
          "xanchor": "center",
          "xref": "paper",
          "y": 0.45,
          "yanchor": "bottom",
          "yref": "paper"
         },
         {
          "font": {},
          "showarrow": false,
          "text": "Body height (cm)",
          "x": 0.2375,
          "xanchor": "center",
          "xref": "paper",
          "y": 1,
          "yanchor": "bottom",
          "yref": "paper"
         },
         {
          "font": {},
          "showarrow": false,
          "text": "BMI (kg/m²)",
          "x": 0.7625,
          "xanchor": "center",
          "xref": "paper",
          "y": 1,
          "yanchor": "bottom",
          "yref": "paper"
         }
        ],
        "legend": {
         "tracegroupgap": 0
        },
        "margin": {
         "b": 10,
         "l": 0,
         "r": 10,
         "t": 20
        },
        "template": {
         "data": {
          "bar": [
           {
            "error_x": {
             "color": "#2a3f5f"
            },
            "error_y": {
             "color": "#2a3f5f"
            },
            "marker": {
             "line": {
              "color": "#E5ECF6",
              "width": 0.5
             },
             "pattern": {
              "fillmode": "overlay",
              "size": 10,
              "solidity": 0.2
             }
            },
            "type": "bar"
           }
          ],
          "barpolar": [
           {
            "marker": {
             "line": {
              "color": "#E5ECF6",
              "width": 0.5
             },
             "pattern": {
              "fillmode": "overlay",
              "size": 10,
              "solidity": 0.2
             }
            },
            "type": "barpolar"
           }
          ],
          "carpet": [
           {
            "aaxis": {
             "endlinecolor": "#2a3f5f",
             "gridcolor": "white",
             "linecolor": "white",
             "minorgridcolor": "white",
             "startlinecolor": "#2a3f5f"
            },
            "baxis": {
             "endlinecolor": "#2a3f5f",
             "gridcolor": "white",
             "linecolor": "white",
             "minorgridcolor": "white",
             "startlinecolor": "#2a3f5f"
            },
            "type": "carpet"
           }
          ],
          "choropleth": [
           {
            "colorbar": {
             "outlinewidth": 0,
             "ticks": ""
            },
            "type": "choropleth"
           }
          ],
          "contour": [
           {
            "colorbar": {
             "outlinewidth": 0,
             "ticks": ""
            },
            "colorscale": [
             [
              0,
              "#0d0887"
             ],
             [
              0.1111111111111111,
              "#46039f"
             ],
             [
              0.2222222222222222,
              "#7201a8"
             ],
             [
              0.3333333333333333,
              "#9c179e"
             ],
             [
              0.4444444444444444,
              "#bd3786"
             ],
             [
              0.5555555555555556,
              "#d8576b"
             ],
             [
              0.6666666666666666,
              "#ed7953"
             ],
             [
              0.7777777777777778,
              "#fb9f3a"
             ],
             [
              0.8888888888888888,
              "#fdca26"
             ],
             [
              1,
              "#f0f921"
             ]
            ],
            "type": "contour"
           }
          ],
          "contourcarpet": [
           {
            "colorbar": {
             "outlinewidth": 0,
             "ticks": ""
            },
            "type": "contourcarpet"
           }
          ],
          "heatmap": [
           {
            "colorbar": {
             "outlinewidth": 0,
             "ticks": ""
            },
            "colorscale": [
             [
              0,
              "#0d0887"
             ],
             [
              0.1111111111111111,
              "#46039f"
             ],
             [
              0.2222222222222222,
              "#7201a8"
             ],
             [
              0.3333333333333333,
              "#9c179e"
             ],
             [
              0.4444444444444444,
              "#bd3786"
             ],
             [
              0.5555555555555556,
              "#d8576b"
             ],
             [
              0.6666666666666666,
              "#ed7953"
             ],
             [
              0.7777777777777778,
              "#fb9f3a"
             ],
             [
              0.8888888888888888,
              "#fdca26"
             ],
             [
              1,
              "#f0f921"
             ]
            ],
            "type": "heatmap"
           }
          ],
          "heatmapgl": [
           {
            "colorbar": {
             "outlinewidth": 0,
             "ticks": ""
            },
            "colorscale": [
             [
              0,
              "#0d0887"
             ],
             [
              0.1111111111111111,
              "#46039f"
             ],
             [
              0.2222222222222222,
              "#7201a8"
             ],
             [
              0.3333333333333333,
              "#9c179e"
             ],
             [
              0.4444444444444444,
              "#bd3786"
             ],
             [
              0.5555555555555556,
              "#d8576b"
             ],
             [
              0.6666666666666666,
              "#ed7953"
             ],
             [
              0.7777777777777778,
              "#fb9f3a"
             ],
             [
              0.8888888888888888,
              "#fdca26"
             ],
             [
              1,
              "#f0f921"
             ]
            ],
            "type": "heatmapgl"
           }
          ],
          "histogram": [
           {
            "marker": {
             "pattern": {
              "fillmode": "overlay",
              "size": 10,
              "solidity": 0.2
             }
            },
            "type": "histogram"
           }
          ],
          "histogram2d": [
           {
            "colorbar": {
             "outlinewidth": 0,
             "ticks": ""
            },
            "colorscale": [
             [
              0,
              "#0d0887"
             ],
             [
              0.1111111111111111,
              "#46039f"
             ],
             [
              0.2222222222222222,
              "#7201a8"
             ],
             [
              0.3333333333333333,
              "#9c179e"
             ],
             [
              0.4444444444444444,
              "#bd3786"
             ],
             [
              0.5555555555555556,
              "#d8576b"
             ],
             [
              0.6666666666666666,
              "#ed7953"
             ],
             [
              0.7777777777777778,
              "#fb9f3a"
             ],
             [
              0.8888888888888888,
              "#fdca26"
             ],
             [
              1,
              "#f0f921"
             ]
            ],
            "type": "histogram2d"
           }
          ],
          "histogram2dcontour": [
           {
            "colorbar": {
             "outlinewidth": 0,
             "ticks": ""
            },
            "colorscale": [
             [
              0,
              "#0d0887"
             ],
             [
              0.1111111111111111,
              "#46039f"
             ],
             [
              0.2222222222222222,
              "#7201a8"
             ],
             [
              0.3333333333333333,
              "#9c179e"
             ],
             [
              0.4444444444444444,
              "#bd3786"
             ],
             [
              0.5555555555555556,
              "#d8576b"
             ],
             [
              0.6666666666666666,
              "#ed7953"
             ],
             [
              0.7777777777777778,
              "#fb9f3a"
             ],
             [
              0.8888888888888888,
              "#fdca26"
             ],
             [
              1,
              "#f0f921"
             ]
            ],
            "type": "histogram2dcontour"
           }
          ],
          "mesh3d": [
           {
            "colorbar": {
             "outlinewidth": 0,
             "ticks": ""
            },
            "type": "mesh3d"
           }
          ],
          "parcoords": [
           {
            "line": {
             "colorbar": {
              "outlinewidth": 0,
              "ticks": ""
             }
            },
            "type": "parcoords"
           }
          ],
          "pie": [
           {
            "automargin": true,
            "type": "pie"
           }
          ],
          "scatter": [
           {
            "fillpattern": {
             "fillmode": "overlay",
             "size": 10,
             "solidity": 0.2
            },
            "type": "scatter"
           }
          ],
          "scatter3d": [
           {
            "line": {
             "colorbar": {
              "outlinewidth": 0,
              "ticks": ""
             }
            },
            "marker": {
             "colorbar": {
              "outlinewidth": 0,
              "ticks": ""
             }
            },
            "type": "scatter3d"
           }
          ],
          "scattercarpet": [
           {
            "marker": {
             "colorbar": {
              "outlinewidth": 0,
              "ticks": ""
             }
            },
            "type": "scattercarpet"
           }
          ],
          "scattergeo": [
           {
            "marker": {
             "colorbar": {
              "outlinewidth": 0,
              "ticks": ""
             }
            },
            "type": "scattergeo"
           }
          ],
          "scattergl": [
           {
            "marker": {
             "colorbar": {
              "outlinewidth": 0,
              "ticks": ""
             }
            },
            "type": "scattergl"
           }
          ],
          "scattermapbox": [
           {
            "marker": {
             "colorbar": {
              "outlinewidth": 0,
              "ticks": ""
             }
            },
            "type": "scattermapbox"
           }
          ],
          "scatterpolar": [
           {
            "marker": {
             "colorbar": {
              "outlinewidth": 0,
              "ticks": ""
             }
            },
            "type": "scatterpolar"
           }
          ],
          "scatterpolargl": [
           {
            "marker": {
             "colorbar": {
              "outlinewidth": 0,
              "ticks": ""
             }
            },
            "type": "scatterpolargl"
           }
          ],
          "scatterternary": [
           {
            "marker": {
             "colorbar": {
              "outlinewidth": 0,
              "ticks": ""
             }
            },
            "type": "scatterternary"
           }
          ],
          "surface": [
           {
            "colorbar": {
             "outlinewidth": 0,
             "ticks": ""
            },
            "colorscale": [
             [
              0,
              "#0d0887"
             ],
             [
              0.1111111111111111,
              "#46039f"
             ],
             [
              0.2222222222222222,
              "#7201a8"
             ],
             [
              0.3333333333333333,
              "#9c179e"
             ],
             [
              0.4444444444444444,
              "#bd3786"
             ],
             [
              0.5555555555555556,
              "#d8576b"
             ],
             [
              0.6666666666666666,
              "#ed7953"
             ],
             [
              0.7777777777777778,
              "#fb9f3a"
             ],
             [
              0.8888888888888888,
              "#fdca26"
             ],
             [
              1,
              "#f0f921"
             ]
            ],
            "type": "surface"
           }
          ],
          "table": [
           {
            "cells": {
             "fill": {
              "color": "#EBF0F8"
             },
             "line": {
              "color": "white"
             }
            },
            "header": {
             "fill": {
              "color": "#C8D4E3"
             },
             "line": {
              "color": "white"
             }
            },
            "type": "table"
           }
          ]
         },
         "layout": {
          "annotationdefaults": {
           "arrowcolor": "#2a3f5f",
           "arrowhead": 0,
           "arrowwidth": 1
          },
          "autotypenumbers": "strict",
          "coloraxis": {
           "colorbar": {
            "outlinewidth": 0,
            "ticks": ""
           }
          },
          "colorscale": {
           "diverging": [
            [
             0,
             "#8e0152"
            ],
            [
             0.1,
             "#c51b7d"
            ],
            [
             0.2,
             "#de77ae"
            ],
            [
             0.3,
             "#f1b6da"
            ],
            [
             0.4,
             "#fde0ef"
            ],
            [
             0.5,
             "#f7f7f7"
            ],
            [
             0.6,
             "#e6f5d0"
            ],
            [
             0.7,
             "#b8e186"
            ],
            [
             0.8,
             "#7fbc41"
            ],
            [
             0.9,
             "#4d9221"
            ],
            [
             1,
             "#276419"
            ]
           ],
           "sequential": [
            [
             0,
             "#0d0887"
            ],
            [
             0.1111111111111111,
             "#46039f"
            ],
            [
             0.2222222222222222,
             "#7201a8"
            ],
            [
             0.3333333333333333,
             "#9c179e"
            ],
            [
             0.4444444444444444,
             "#bd3786"
            ],
            [
             0.5555555555555556,
             "#d8576b"
            ],
            [
             0.6666666666666666,
             "#ed7953"
            ],
            [
             0.7777777777777778,
             "#fb9f3a"
            ],
            [
             0.8888888888888888,
             "#fdca26"
            ],
            [
             1,
             "#f0f921"
            ]
           ],
           "sequentialminus": [
            [
             0,
             "#0d0887"
            ],
            [
             0.1111111111111111,
             "#46039f"
            ],
            [
             0.2222222222222222,
             "#7201a8"
            ],
            [
             0.3333333333333333,
             "#9c179e"
            ],
            [
             0.4444444444444444,
             "#bd3786"
            ],
            [
             0.5555555555555556,
             "#d8576b"
            ],
            [
             0.6666666666666666,
             "#ed7953"
            ],
            [
             0.7777777777777778,
             "#fb9f3a"
            ],
            [
             0.8888888888888888,
             "#fdca26"
            ],
            [
             1,
             "#f0f921"
            ]
           ]
          },
          "colorway": [
           "#636efa",
           "#EF553B",
           "#00cc96",
           "#ab63fa",
           "#FFA15A",
           "#19d3f3",
           "#FF6692",
           "#B6E880",
           "#FF97FF",
           "#FECB52"
          ],
          "font": {
           "color": "#2a3f5f"
          },
          "geo": {
           "bgcolor": "white",
           "lakecolor": "white",
           "landcolor": "#E5ECF6",
           "showlakes": true,
           "showland": true,
           "subunitcolor": "white"
          },
          "hoverlabel": {
           "align": "left"
          },
          "hovermode": "closest",
          "mapbox": {
           "style": "light"
          },
          "paper_bgcolor": "white",
          "plot_bgcolor": "#E5ECF6",
          "polar": {
           "angularaxis": {
            "gridcolor": "white",
            "linecolor": "white",
            "ticks": ""
           },
           "bgcolor": "#E5ECF6",
           "radialaxis": {
            "gridcolor": "white",
            "linecolor": "white",
            "ticks": ""
           }
          },
          "scene": {
           "xaxis": {
            "backgroundcolor": "#E5ECF6",
            "gridcolor": "white",
            "gridwidth": 2,
            "linecolor": "white",
            "showbackground": true,
            "ticks": "",
            "zerolinecolor": "white"
           },
           "yaxis": {
            "backgroundcolor": "#E5ECF6",
            "gridcolor": "white",
            "gridwidth": 2,
            "linecolor": "white",
            "showbackground": true,
            "ticks": "",
            "zerolinecolor": "white"
           },
           "zaxis": {
            "backgroundcolor": "#E5ECF6",
            "gridcolor": "white",
            "gridwidth": 2,
            "linecolor": "white",
            "showbackground": true,
            "ticks": "",
            "zerolinecolor": "white"
           }
          },
          "shapedefaults": {
           "line": {
            "color": "#2a3f5f"
           }
          },
          "ternary": {
           "aaxis": {
            "gridcolor": "white",
            "linecolor": "white",
            "ticks": ""
           },
           "baxis": {
            "gridcolor": "white",
            "linecolor": "white",
            "ticks": ""
           },
           "bgcolor": "#E5ECF6",
           "caxis": {
            "gridcolor": "white",
            "linecolor": "white",
            "ticks": ""
           }
          },
          "title": {
           "x": 0.05
          },
          "xaxis": {
           "automargin": true,
           "gridcolor": "white",
           "linecolor": "white",
           "ticks": "",
           "title": {
            "standoff": 15
           },
           "zerolinecolor": "white",
           "zerolinewidth": 2
          },
          "yaxis": {
           "automargin": true,
           "gridcolor": "white",
           "linecolor": "white",
           "ticks": "",
           "title": {
            "standoff": 15
           },
           "zerolinecolor": "white",
           "zerolinewidth": 2
          }
         }
        },
        "xaxis": {
         "anchor": "y",
         "domain": [
          0,
          0.475
         ],
         "title": {
          "text": ""
         }
        },
        "xaxis2": {
         "anchor": "y2",
         "domain": [
          0.525,
          1
         ],
         "matches": "x",
         "title": {
          "text": ""
         }
        },
        "xaxis3": {
         "anchor": "y3",
         "domain": [
          0,
          0.475
         ],
         "matches": "x",
         "showticklabels": false,
         "title": {
          "text": ""
         }
        },
        "xaxis4": {
         "anchor": "y4",
         "domain": [
          0.525,
          1
         ],
         "matches": "x",
         "showticklabels": false,
         "title": {
          "text": ""
         }
        },
        "yaxis": {
         "anchor": "x",
         "domain": [
          0,
          0.45
         ],
         "showticklabels": true,
         "title": {
          "text": ""
         }
        },
        "yaxis2": {
         "anchor": "x2",
         "domain": [
          0,
          0.45
         ],
         "showticklabels": true,
         "title": {
          "text": ""
         }
        },
        "yaxis3": {
         "anchor": "x3",
         "domain": [
          0.55,
          1
         ],
         "showticklabels": true,
         "title": {
          "text": ""
         }
        },
        "yaxis4": {
         "anchor": "x4",
         "domain": [
          0.55,
          1
         ],
         "showticklabels": true,
         "title": {
          "text": ""
         }
        }
       }
      }
     },
     "metadata": {},
     "output_type": "display_data"
    }
   ],
   "source": [
    "weight_fig = px.scatter(meas_graphs, x=\"measurement_date\", y=\"value_as_number\", \n",
    "facet_col=\"measurement_concept_label\", facet_col_wrap=2,\n",
    "facet_row_spacing=0.1, facet_col_spacing=0.05)\n",
    "weight_fig.update_yaxes(matches=None, showticklabels=True, title=\"\")\n",
    "weight_fig.update_xaxes(title=\"\")\n",
    "weight_fig.for_each_annotation(lambda a: a.update(text=a.text.split(\"=\")[-1]))\n",
    "weight_fig.update_layout(margin=dict(l=0, r=10, t=20, b=10))\n",
    "weight_fig.show()\n",
    "weight_fig.write_html(\"weight-plot.html\", full_html=False, include_plotlyjs=False)"
   ]
  }
 ],
 "metadata": {
  "kernelspec": {
   "display_name": ".venv",
   "language": "python",
   "name": "python3"
  },
  "language_info": {
   "codemirror_mode": {
    "name": "ipython",
    "version": 3
   },
   "file_extension": ".py",
   "mimetype": "text/x-python",
   "name": "python",
   "nbconvert_exporter": "python",
   "pygments_lexer": "ipython3",
   "version": "3.12.2"
  }
 },
 "nbformat": 4,
 "nbformat_minor": 2
}
