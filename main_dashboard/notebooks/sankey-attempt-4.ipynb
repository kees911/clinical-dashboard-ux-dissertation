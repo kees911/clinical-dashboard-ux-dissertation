{
 "cells": [
  {
   "cell_type": "code",
   "execution_count": null,
   "metadata": {},
   "outputs": [],
   "source": [
    "#libraries\n",
    "import pandas as pd\n",
    "import numpy as np\n",
    "import datetime as dt\n",
    "pd.set_option(\"display.max_rows\", None)\n",
    "import plotly.express as px\n",
    "import plotly\n",
    "import plotly.offline\n",
    "import plotly.graph_objs as go\n",
    "import nbformat\n",
    "#wrap text:\n",
    "import textwrap\n",
    "import random"
   ]
  },
  {
   "cell_type": "code",
   "execution_count": null,
   "metadata": {},
   "outputs": [],
   "source": [
    "#read csv\n",
    "concept = pd.read_csv('../datasets/CONCEPT.csv')\n",
    "condition_occurrence = pd.read_csv('../datasets/CONDITION_OCCURRENCE.csv')\n",
    "drug_exposure = pd.read_csv('../datasets/DRUG_EXPOSURE.csv')\n",
    "person = pd.read_csv('../datasets/PERSON.csv')\n",
    "hierarchy = pd.read_csv('../datasets/hierarchy.csv')\n",
    "props = pd.read_csv('../datasets/hemonc_component_properties.csv')"
   ]
  },
  {
   "cell_type": "code",
   "execution_count": null,
   "metadata": {},
   "outputs": [],
   "source": [
    "#list of valid drug categories from Ivy from RxNorm/HemOnc\n",
    "sact=['Alkylating agent', 'Anti-CD38 antibody', 'Anti-CTLA-4 antibody', 'Anti-TACSTD2 antibody-drug conjugate', 'Anthracycline', 'Antiandrogen', 'Antifolate',\n",
    "'Antimetabolite', 'Antitumor antibiotic', 'Anti-CD52 antibody', 'Anti-CD20 antibody', 'Anti-EGFR antibody', 'Anti-HER2 antibody', 'Anti-CD38 antibody', 'Anti-PD-1 antibody',\n",
    "'Anti-PD-L1 antibody', 'Anti-RANKL antibody', 'Anti-SLAMF7 antibody','Anti-VEGF antibody', 'Aromatase inhibitor', 'Aromatase inhibitorsthird generation',\n",
    "'Biosimilar', 'BRAF inhibitor', 'DNA methyltransferase inhibitor', 'Deoxycytidine analog', 'EGFR inhibitor', 'ERBB 2 inhibitor', 'Estrogen receptor inhibitor',\n",
    "'Folic acid analog', 'Fluoropyrimidine', 'GnRH agonist', 'HDAC inhibitor', 'Human DNA synthesisinhibitor', 'Microtubule inhibitor', 'MTOR inhibitor',\n",
    "'Nitrogen mustard', 'Nitrosourea', 'Neutral', 'PARP inhibitor', 'PARP1 inhibitor', 'PARP2 inhibitor', 'Phenothiazine', 'Platinum agent', 'Proteasome inhibitor',\n",
    "'Purine analog', 'Pyrimidine analog', 'RANK ligand inhibitor', 'Selective estrogen receptor modulator', 'Somatostatin analog', 'T-cell activator',\n",
    "'Targeted therapeutic', 'Taxane', 'Topoisomerase I inhibitor', 'Topoisomerase II inhibitor', 'Triazene', 'Vinca alkaloid', 'Xanthine oxidase inhibitor',\n",
    "'WHO Essential Cancer Medicine']\n",
    "#rxnorm = rxnorm[rxnorm['component_class_name'].isin(sact)]\n",
    "props=props[props['component_class_name'].isin(sact)]\n",
    "antican = props['concept_id_2']\n",
    "drug_exposure=drug_exposure[drug_exposure['drug_concept_id'].isin(antican)]\n",
    "#rxnorm['component_class_name'].value_counts()"
   ]
  },
  {
   "cell_type": "code",
   "execution_count": null,
   "metadata": {},
   "outputs": [],
   "source": [
    "#concept lookup in concept df\n",
    "concept_lookup = {c.concept_id: c.concept_name for c in concept.itertuples()}"
   ]
  },
  {
   "cell_type": "code",
   "execution_count": null,
   "metadata": {},
   "outputs": [],
   "source": [
    "#add labels\n",
    "def make_labels(df):\n",
    "    for c in df.columns:\n",
    "        if 'concept_id' in c:\n",
    "            df[c.replace('_id', '_label')] = df[c].map(concept_lookup)\n",
    "        if 'concept_id' in c or 'source' in c or len(df[df[c].notna()])==0:\n",
    "            df = df.drop(c, axis=1)\n",
    "    return df"
   ]
  },
  {
   "cell_type": "code",
   "execution_count": null,
   "metadata": {},
   "outputs": [],
   "source": [
    "#label the following dfs\n",
    "condition_occurrence_labelled = make_labels(condition_occurrence)\n",
    "drug_exposure_labelled = make_labels(drug_exposure)\n",
    "exclusions = ['dexamethasone']\n",
    "drug_exposure_labelled=drug_exposure_labelled[~drug_exposure_labelled['drug_concept_label'].isin(exclusions)]"
   ]
  },
  {
   "cell_type": "code",
   "execution_count": null,
   "metadata": {},
   "outputs": [],
   "source": [
    "'''if required, mask by a particular condition or set of conditions\n",
    "\n",
    "# filter only by occurrences of Squamous cell carcinoma, NOS, of glottis\n",
    "glottis = condition_occurrence[condition_occurrence.condition_concept_id==44500236]\n",
    "# patient IDs matching this occurrence\n",
    "glottis_patients = glottis.person_id.tolist()\n",
    "# mask the drug exposures only by people matching the condition\n",
    "mask = drug_exposure_labelled['person_id'].isin(glottis_patients)\n",
    "masked = drug_exposure_labelled[mask]\n",
    "'''"
   ]
  },
  {
   "cell_type": "code",
   "execution_count": null,
   "metadata": {},
   "outputs": [],
   "source": [
    "#reduce DF down to relevant variables for the visualization\n",
    "small = drug_exposure_labelled[['person_id', 'drug_exposure_start_datetime', 'drug_concept_label']]\n",
    "small = small.dropna()\n",
    "small = small.drop_duplicates()\n",
    "small_sorted = small.sort_values('drug_concept_label')\n",
    "small['drug_concept_label'] = small_sorted.groupby(['person_id', 'drug_exposure_start_datetime'])['drug_concept_label'].transform(lambda x : ' & '.join(x))\n",
    "#small.head()\n",
    "'''small['drug_concept_label'] = small['drug_concept_label'].str.replace('dexamethasone & cisplatin','cisplatin & dexamethasone')\n",
    "small['drug_concept_label'] = small['drug_concept_label'].str.replace('dexamethasone & cetuximab','cetuximab & dexamethasone')\n",
    "small['drug_concept_label'] = small['drug_concept_label'].str.replace('dexamethasone & carboplatin','carboplatin & dexamethasone')'''\n",
    "small_nodup = small_sorted.drop_duplicates()\n",
    "#small_nodup['drug_concept_label']=small_nodup['drug_concept_label'].str.replace('& ', '&<br>')"
   ]
  },
  {
   "cell_type": "code",
   "execution_count": null,
   "metadata": {},
   "outputs": [],
   "source": [
    "# add new variable for every new drug administration per person\n",
    "readministrations = pd.Series(np.zeros(len(small_nodup),dtype=int),index=small_nodup.index)"
   ]
  },
  {
   "cell_type": "code",
   "execution_count": null,
   "metadata": {},
   "outputs": [],
   "source": [
    "# Loop through all unique ids                                                                                                                                                                                      \n",
    "all_id = small_nodup['person_id'].unique()\n",
    "id_administrations = {}\n",
    "for pid in all_id:\n",
    "    # These are all the times a patient with a given ID has had surgery                                                                                                                                            \n",
    "    patient = small_nodup.loc[small_nodup['person_id']==pid]\n",
    "    administrations_sorted = pd.to_datetime(patient['drug_exposure_start_datetime'], format='%Y-%m-%d %H:%M:%S').sort_values()\n",
    "\n",
    "# This checks if the previous surgery was longer than 180 days ago                                                                                                                                              \n",
    "    frequency = administrations_sorted.diff()<dt.timedelta(days=6000)\n",
    "\n",
    "    # Compute the readmission                                                                                                                                                                                      \n",
    "    n_administrations = [0]\n",
    "    for v in frequency.values[1:]:\n",
    "       n_administrations.append((n_administrations[-1]+1)*v)\n",
    "\n",
    "    # Add these value to the time series                                                                                                                                                                           \n",
    "    readministrations.loc[administrations_sorted.index] = n_administrations\n",
    "\n",
    "small_nodup['readministration'] = readministrations"
   ]
  },
  {
   "cell_type": "code",
   "execution_count": null,
   "metadata": {},
   "outputs": [],
   "source": [
    "small_nodup.head()"
   ]
  },
  {
   "cell_type": "code",
   "execution_count": null,
   "metadata": {},
   "outputs": [],
   "source": [
    "#pivot the DF from long to wide\n",
    "pivoted = small_nodup.pivot(index='person_id', columns='readministration', values='drug_concept_label').reset_index()\n",
    "# add the prefix 'drug' to every instance\n",
    "prefixed = pivoted.add_prefix('drug')\n",
    "#remove the word 'drug' from other variables\n",
    "renamed = prefixed.rename(columns={\"drugperson_id\": \"person_id\", \"readministration\":\"index\"})\n",
    "#fill all empty cells with \"N/A\"\n",
    "#fillednones = renamed.fillna(\" \")\n",
    "fillednones = renamed"
   ]
  },
  {
   "cell_type": "code",
   "execution_count": null,
   "metadata": {},
   "outputs": [],
   "source": [
    "#add a value of 1 to all data points for sums in the visualization\n",
    "fillednones[\"count\"] = 1\n",
    "fillednones.head()"
   ]
  },
  {
   "cell_type": "code",
   "execution_count": null,
   "metadata": {},
   "outputs": [],
   "source": [
    "drugs = pd.concat([drug_exposure_labelled, condition_occurrence_labelled])\n",
    "display(drugs.dtypes)\n",
    "\n",
    "drugs['drug_exposure_start_date']=pd.to_datetime(drugs['drug_exposure_start_date'])\n",
    "drugs['condition_start_date']=pd.to_datetime(drugs['condition_start_date'])\n",
    "display(drugs.head())"
   ]
  },
  {
   "cell_type": "code",
   "execution_count": null,
   "metadata": {},
   "outputs": [],
   "source": [
    "earliest_start = drugs[drugs.condition_start_date.notna()].groupby('person_id').condition_start_date.min().reset_index().rename(columns={'condition_start_date':'index_condition_date'})\n",
    "drugs=drugs.merge(earliest_start, how='left')\n",
    "drugs.condition_start_date = drugs.condition_start_date.combine_first(drugs.index_condition_date)\n",
    "drugs['drug_offset'] = (drugs.drug_exposure_start_date - drugs.condition_start_date).dt.days"
   ]
  },
  {
   "cell_type": "code",
   "execution_count": null,
   "metadata": {},
   "outputs": [],
   "source": [
    "drugs = drugs.dropna(subset='drug_offset')\n",
    "drugs['drug_offset']=drugs['drug_offset'].astype(int)"
   ]
  },
  {
   "cell_type": "code",
   "execution_count": null,
   "metadata": {},
   "outputs": [],
   "source": [
    "def make_chunks(row, long=False):\n",
    "    traj_off = row.full_offset\n",
    "    traj_drugs = list(full_drugs)\n",
    "    offset, counts = np.unique(traj_off, return_counts=True)\n",
    "    if long:\n",
    "        return ['_'. join(sorted(set([traj_drugs.pop(0) for _ in range(c)]))) for c in counts]\n",
    "    return ['_'. join(sorted(set([traj_drugs.pop(0)[:4] for _ in range(c)]))) for c in counts]"
   ]
  },
  {
   "cell_type": "code",
   "execution_count": null,
   "metadata": {},
   "outputs": [],
   "source": [
    "#chunks = make_chunks(drugs)\n",
    "#chunks"
   ]
  },
  {
   "cell_type": "code",
   "execution_count": null,
   "metadata": {},
   "outputs": [],
   "source": [
    "traj = drugs\n",
    "traj.head()"
   ]
  },
  {
   "cell_type": "code",
   "execution_count": null,
   "metadata": {},
   "outputs": [],
   "source": [
    "for row, group in enumerate([drugs]):\n",
    "    traces = []\n",
    "    current_traj_people = group # traj[~traj.drug_offset.isna()\n",
    "                                # & traj.drug_concept_id.isin(chemo_drugs)\n",
    "                                # & (traj.all_proc_code == reg)\n",
    "                                # & (traj.procedure_date == traj.index_procedure_date) ].person_id.unique()\n",
    "\n",
    "    #if len(current_traj_people) < 15:\n",
    "        #continue\n",
    "\n",
    "    full_drug_trajectory = traj.sort_values(['drug_exposure_start_date', 'drug_concept_label']\n",
    "                                                                ).groupby(['person_id']\n",
    "                                                                ).agg({'drug_concept_label': lambda x: list(x),\n",
    "                                                                        'drug_offset': lambda x: list(x),\n",
    "                                                                        'quantity': lambda x: list(x)}\n",
    "                                                                    ).reset_index().rename(columns={'drug_concept_label': 'full_drugs',\n",
    "                                                                        'drug_offset': 'full_offset',\n",
    "                                                                    'quantity': 'full_dose'})\n",
    "#([\n",
    "                                #traj.person_id.isin(current_traj_people) & \n",
    "                                #traj.drug_offset >= 0\n",
    "                                #& traj.drug_concept_id.isin(chemo_drugs) \n",
    "                                #].sort_values(['drug_exposure_start_date', 'drug_concept_label'])\n",
    "    full_drug_trajectory['path'] = full_drug_trajectory.apply(make_chunks, axis=1)\n",
    "    \n",
    "    if not any(full_drug_trajectory.path.apply(len) > 1):\n",
    "        continue\n",
    "    node_lookup = {}\n",
    "\n",
    "    depth = max(full_drug_trajectory.path.apply(len))\n",
    "    cols = []\n",
    "    for level in range(depth) :\n",
    "        cols.append(list(set([x for x in full_drug_trajectory.path.apply(lambda x: x[level] if len(x) > level else None) if x])))\n",
    "    nodes = list(chain(*[[f'{i}{r}' for r in row] for i, row in enumerate(cols)]))\n",
    "    node_numbers = {n: i for i, n in enumerate(nodes)}\n",
    "    node_colours = {n:colour_map[n.strip('0123456789')] for n in nodes}\n",
    "    rev_node_numbers = {n: i for i, n in node_numbers.items ()}\n",
    "\n",
    "    source, target = [], []\n",
    "    for path in full_drug_trajectory.path:\n",
    "        for i, (s, t) in enumerate(zip(path, path[1:])):\n",
    "            source. append (node_numbers [f'{i}{s}'])\n",
    "            target. append (node_numbers [f'{i+1}{t}'])\n",
    "\n",
    "    source_colours = [node_colours[rev_node_numbers[s]] for s in source]\n",
    "    targ_colours = [node_colours[rev_node_numbers[t]] for t in target]\n",
    "\n",
    "    transitions, transition_count = np.unique([f'{s}, {t}' for s, t in zip(source, target)], return_counts=True)\n",
    "    trans_source, trans_target = list(zip(*[t.split(',') for t in transitions]))\n",
    "    #transition_colours = [colourFader(s, t, 0.5) for s, t in zip(source_colours, targ_colours)]\n",
    "\n",
    "    s = [int(i) for i in trans_source] # [int(i) for i, t in zip(trans_source, transition_count) if t > 1]\n",
    "    t = [int(i) for i in trans_target] # [int(i) for i, t in zip(trans_target, transition_count) if t > 1]\n",
    "    v = transition_count #[t for t in transition_count if t > 1]\n",
    "\n",
    "    sankey = go.Sankey(node = dict(pad=15,\n",
    "                                thickness=20,\n",
    "                                line=dict(color='black', width=0.5),\n",
    "                                #label=labels,\n",
    "                                color=list(node_colours.values())),\n",
    "                            link = dict(\n",
    "                                source = 5,\n",
    "                                target = t,\n",
    "                                value = v,\n",
    "                            ))\n",
    "\n",
    "    traces=[sankey] #+ legend\n",
    "    layout = go. Layout(showlegend=True,\n",
    "                        plot_bgcolor='#FFFFFF')\n",
    "    fig = go.Figure(data=traces,\n",
    "                    layout=layout)\n",
    "    fig.update_xaxes(visible=False)\n",
    "    fig.update_yaxes(visible=False)\n",
    "    reg_name = f'group{row}'#selected_reg_name[reg]. replace('DISCONTINUED', ''). replace('SUPERSEDED', \"').strip()\n",
    "    fig.update_layout(title_text= reg_name, # + f' ({len(current_traj_people)})',\n",
    "                        font_size = 20,\n",
    "                        autosize=False,\n",
    "                        width=2500,\n",
    "                        height=600)\n",
    "    fig.write_image(f\"figures/{reg_name. replace(' ', '_')}.png\")"
   ]
  },
  {
   "cell_type": "code",
   "execution_count": null,
   "metadata": {},
   "outputs": [],
   "source": []
  }
 ],
 "metadata": {
  "kernelspec": {
   "display_name": ".venv",
   "language": "python",
   "name": "python3"
  },
  "language_info": {
   "codemirror_mode": {
    "name": "ipython",
    "version": 3
   },
   "file_extension": ".py",
   "mimetype": "text/x-python",
   "name": "python",
   "nbconvert_exporter": "python",
   "pygments_lexer": "ipython3",
   "version": "3.10.10"
  }
 },
 "nbformat": 4,
 "nbformat_minor": 2
}
