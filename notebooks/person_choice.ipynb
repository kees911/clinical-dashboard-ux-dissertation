{
 "cells": [
  {
   "cell_type": "code",
   "execution_count": null,
   "metadata": {},
   "outputs": [],
   "source": [
    "# libraries\n",
    "import pandas as pd\n",
    "import numpy as np\n",
    "import matplotlib as plt"
   ]
  },
  {
   "cell_type": "code",
   "execution_count": null,
   "metadata": {},
   "outputs": [],
   "source": [
    "# read csv\n",
    "care_site = pd.read_csv('../datasets/CARE_SITE.csv')\n",
    "cohort_filter = pd.read_csv('../datasets/COHORT_FILTER.csv')\n",
    "concept_class= pd.read_csv('../datasets/CONCEPT_CLASS.csv')\n",
    "concept = pd.read_csv('../datasets/CONCEPT.csv')\n",
    "condition_occurrence = pd.read_csv('../datasets/CONDITION_OCCURRENCE.csv')\n",
    "domain = pd.read_csv('../datasets/DOMAIN.csv')\n",
    "drug_exposure = pd.read_csv('../datasets/DRUG_EXPOSURE.csv')\n",
    "location = pd.read_csv('../datasets/LOCATION.csv')\n",
    "measurement = pd.read_csv('../datasets/MEASUREMENT.csv', low_memory=False)\n",
    "observation = pd.read_csv('../datasets/OBSERVATION.csv')\n",
    "person = pd.read_csv('../datasets/PERSON.csv')\n",
    "procedure_occurrence = pd.read_csv('../datasets/PROCEDURE_OCCURRENCE.csv')\n",
    "provider = pd.read_csv('../datasets/PROVIDER.csv')\n",
    "vocabulary = pd.read_csv('../datasets/VOCABULARY.csv')"
   ]
  },
  {
   "cell_type": "code",
   "execution_count": null,
   "metadata": {},
   "outputs": [],
   "source": [
    "concept.head()"
   ]
  },
  {
   "cell_type": "code",
   "execution_count": null,
   "metadata": {},
   "outputs": [],
   "source": [
    "concept_class.head()"
   ]
  },
  {
   "cell_type": "code",
   "execution_count": null,
   "metadata": {},
   "outputs": [],
   "source": [
    "vocabulary.head()"
   ]
  },
  {
   "cell_type": "code",
   "execution_count": null,
   "metadata": {},
   "outputs": [],
   "source": [
    "mes=measurement['person_id'].value_counts()\n",
    "mes.mean()"
   ]
  },
  {
   "cell_type": "code",
   "execution_count": null,
   "metadata": {},
   "outputs": [],
   "source": [
    "dru=drug_exposure['person_id'].value_counts()\n",
    "\n",
    "dru.mean()"
   ]
  },
  {
   "cell_type": "code",
   "execution_count": null,
   "metadata": {},
   "outputs": [],
   "source": [
    "dru.index[dru==33]"
   ]
  },
  {
   "cell_type": "code",
   "execution_count": null,
   "metadata": {},
   "outputs": [],
   "source": [
    "co=condition_occurrence['person_id'].value_counts()\n",
    "co.index[co==1]\n",
    "\n"
   ]
  },
  {
   "cell_type": "code",
   "execution_count": null,
   "metadata": {},
   "outputs": [],
   "source": [
    "co.mean()"
   ]
  },
  {
   "cell_type": "code",
   "execution_count": null,
   "metadata": {},
   "outputs": [],
   "source": [
    "person_code = "
   ]
  },
  {
   "cell_type": "code",
   "execution_count": null,
   "metadata": {},
   "outputs": [],
   "source": [
    "co[person_code]"
   ]
  },
  {
   "cell_type": "code",
   "execution_count": null,
   "metadata": {},
   "outputs": [],
   "source": [
    "dru[person_code]"
   ]
  },
  {
   "cell_type": "code",
   "execution_count": null,
   "metadata": {},
   "outputs": [],
   "source": [
    "condition_occurrence['condition_concept_id'].value_counts()"
   ]
  }
 ],
 "metadata": {
  "kernelspec": {
   "display_name": ".venv",
   "language": "python",
   "name": "python3"
  },
  "language_info": {
   "codemirror_mode": {
    "name": "ipython",
    "version": 3
   },
   "file_extension": ".py",
   "mimetype": "text/x-python",
   "name": "python",
   "nbconvert_exporter": "python",
   "pygments_lexer": "ipython3",
   "version": "3.10.10"
  }
 },
 "nbformat": 4,
 "nbformat_minor": 2
}
