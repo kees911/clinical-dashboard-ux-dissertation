{
 "cells": [
  {
   "cell_type": "code",
   "execution_count": null,
   "metadata": {},
   "outputs": [],
   "source": [
    "# libraries\n",
    "import pandas as pd\n",
    "import numpy as np"
   ]
  },
  {
   "cell_type": "code",
   "execution_count": null,
   "metadata": {},
   "outputs": [],
   "source": [
    "# read csv\n",
    "care_site = pd.read_csv('../datasets/CARE_SITE.csv')\n",
    "cohort_filter = pd.read_csv('../datasets/COHORT_FILTER.csv')\n",
    "concept_class= pd.read_csv('../datasets/CONCEPT_CLASS.csv')\n",
    "concept = pd.read_csv('../datasets/CONCEPT.csv')\n",
    "condition_occurrence = pd.read_csv('../datasets/CONDITION_OCCURRENCE.csv')\n",
    "domain = pd.read_csv('../datasets/DOMAIN.csv')\n",
    "drug_exposure = pd.read_csv('../datasets/DRUG_EXPOSURE.csv')\n",
    "location = pd.read_csv('../datasets/LOCATION.csv')\n",
    "measurement = pd.read_csv('../datasets/MEASUREMENT.csv', low_memory=False)\n",
    "observation = pd.read_csv('../datasets/OBSERVATION.csv')\n",
    "person = pd.read_csv('../datasets/PERSON.csv')\n",
    "procedure_occurrence = pd.read_csv('../datasets/PROCEDURE_OCCURRENCE.csv')\n",
    "provider = pd.read_csv('../datasets/PROVIDER.csv')\n",
    "vocabulary = pd.read_csv('../datasets/VOCABULARY.csv')"
   ]
  },
  {
   "cell_type": "code",
   "execution_count": null,
   "metadata": {},
   "outputs": [],
   "source": [
    "concept_lookup = {c.concept_id: c.concept_name for c in concept.itertuples()}"
   ]
  },
  {
   "cell_type": "code",
   "execution_count": null,
   "metadata": {},
   "outputs": [],
   "source": [
    "def make_labels(df):\n",
    "    for c in df.columns:\n",
    "        if 'concept_id' in c:\n",
    "            df[c.replace('_id', '_label')] = df[c].map(concept_lookup)\n",
    "        if 'concept_id' in c or 'source' in c or len(df[df[c].notna()])==0:\n",
    "            df = df.drop(c, axis=1)\n",
    "    return df"
   ]
  },
  {
   "cell_type": "code",
   "execution_count": null,
   "metadata": {},
   "outputs": [],
   "source": [
    "care_site_labelled = make_labels(care_site)\n",
    "cohort_filter_labelled = make_labels(cohort_filter)\n",
    "condition_occurrence_labelled = make_labels(condition_occurrence)\n",
    "domain_labelled = make_labels(domain)\n",
    "drug_exposure_labelled = make_labels(drug_exposure)\n",
    "location_labelled = make_labels(location)\n",
    "measurement_labelled = make_labels(measurement)\n",
    "observation_labelled = make_labels(observation)\n",
    "person_labelled = make_labels(person)\n",
    "procedure_occurrence_labelled = make_labels(procedure_occurrence)\n",
    "provider_labelled = make_labels(provider)\n",
    "vocabulary_labelled = make_labels(vocabulary)"
   ]
  },
  {
   "cell_type": "code",
   "execution_count": null,
   "metadata": {},
   "outputs": [],
   "source": [
    "person_labelled.head()"
   ]
  },
  {
   "cell_type": "code",
   "execution_count": null,
   "metadata": {},
   "outputs": [],
   "source": [
    "person_labelled['gender_concept_label'].value_counts()"
   ]
  },
  {
   "cell_type": "code",
   "execution_count": null,
   "metadata": {},
   "outputs": [],
   "source": [
    "person_code ="
   ]
  },
  {
   "cell_type": "code",
   "execution_count": null,
   "metadata": {},
   "outputs": [],
   "source": [
    "person_labelled[person_labelled['person_id']==person_code]"
   ]
  },
  {
   "cell_type": "markdown",
   "metadata": {},
   "source": [
    "Person is [person_code]"
   ]
  },
  {
   "cell_type": "code",
   "execution_count": null,
   "metadata": {},
   "outputs": [],
   "source": [
    "condition_occurrence_labelled[condition_occurrence_labelled['person_id']==person_code]"
   ]
  },
  {
   "cell_type": "code",
   "execution_count": null,
   "metadata": {},
   "outputs": [],
   "source": [
    "condition_occurrence[condition_occurrence['person_id']==person_code]"
   ]
  },
  {
   "cell_type": "code",
   "execution_count": null,
   "metadata": {},
   "outputs": [],
   "source": [
    "drug_exposure_labelled[drug_exposure_labelled['person_id']==person_code]"
   ]
  },
  {
   "cell_type": "code",
   "execution_count": null,
   "metadata": {},
   "outputs": [],
   "source": [
    "procedure_occurrence_labelled[procedure_occurrence_labelled['person_id']==person_code]"
   ]
  },
  {
   "cell_type": "code",
   "execution_count": null,
   "metadata": {},
   "outputs": [],
   "source": [
    "drug_exposure_labelled['drug_exposure_start_date'].min()\n"
   ]
  },
  {
   "cell_type": "code",
   "execution_count": null,
   "metadata": {},
   "outputs": [],
   "source": [
    "drug_exposure_labelled['drug_exposure_start_date'].max()\n"
   ]
  },
  {
   "cell_type": "code",
   "execution_count": null,
   "metadata": {},
   "outputs": [],
   "source": [
    "pd.to_datetime(drug_exposure_labelled['drug_exposure_start_date']).dt.year.hist()\n"
   ]
  },
  {
   "cell_type": "code",
   "execution_count": null,
   "metadata": {},
   "outputs": [],
   "source": [
    "pd.to_datetime(drug_exposure_labelled.groupby(['person_id'])['drug_exposure_start_date'].min()).dt.year.hist()"
   ]
  },
  {
   "cell_type": "code",
   "execution_count": null,
   "metadata": {},
   "outputs": [],
   "source": [
    "drug_exposure_labelled['drug_exposure_start_date'].dt.year.hist()"
   ]
  }
 ],
 "metadata": {
  "kernelspec": {
   "display_name": ".venv",
   "language": "python",
   "name": "python3"
  },
  "language_info": {
   "codemirror_mode": {
    "name": "ipython",
    "version": 3
   },
   "file_extension": ".py",
   "mimetype": "text/x-python",
   "name": "python",
   "nbconvert_exporter": "python",
   "pygments_lexer": "ipython3",
   "version": "3.10.10"
  }
 },
 "nbformat": 4,
 "nbformat_minor": 2
}
