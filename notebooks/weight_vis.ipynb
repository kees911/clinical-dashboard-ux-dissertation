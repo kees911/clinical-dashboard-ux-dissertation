{
 "cells": [
  {
   "cell_type": "code",
   "execution_count": null,
   "metadata": {},
   "outputs": [],
   "source": [
    "#libraries\n",
    "import pandas as pd\n",
    "import numpy as np\n",
    "import datetime as dt\n",
    "pd.set_option(\"display.max_rows\", None, \"mode.chained_assignment\", None)\n",
    "import numpy as np\n",
    "import matplotlib.pyplot as plt\n",
    "import json\n",
    "from json import loads, dumps\n",
    "import datetime as dt\n",
    "import plotly\n",
    "import plotly.express as px"
   ]
  },
  {
   "cell_type": "code",
   "execution_count": null,
   "metadata": {},
   "outputs": [],
   "source": [
    "# read csv\n",
    "care_site = pd.read_csv('../datasets/CARE_SITE.csv')\n",
    "cohort_filter = pd.read_csv('../datasets/COHORT_FILTER.csv')\n",
    "concept_class= pd.read_csv(\"../datasets/CONCEPT_CLASS.csv\")\n",
    "concept = pd.read_csv(\"../datasets/CONCEPT.csv\")\n",
    "condition_occurrence = pd.read_csv(\"../datasets/CONDITION_OCCURRENCE.csv\")\n",
    "domain = pd.read_csv('../datasets/DOMAIN.csv')\n",
    "drug_exposure = pd.read_csv('../datasets/DRUG_EXPOSURE.csv')\n",
    "location = pd.read_csv('../datasets/LOCATION.csv')\n",
    "measurement = pd.read_csv('../datasets/MEASUREMENT.csv', low_memory=False)\n",
    "observation = pd.read_csv('../datasets/OBSERVATION.csv')\n",
    "person = pd.read_csv('../datasets/PERSON.csv')\n",
    "procedure_occurrence = pd.read_csv('../datasets/PROCEDURE_OCCURRENCE.csv')\n",
    "provider = pd.read_csv('../datasets/PROVIDER.csv')\n",
    "vocabulary = pd.read_csv('../datasets/VOCABULARY.csv')"
   ]
  },
  {
   "cell_type": "code",
   "execution_count": null,
   "metadata": {},
   "outputs": [],
   "source": [
    "#concept lookup in concept df\n",
    "concept_lookup = {c.concept_id: c.concept_name for c in concept.itertuples()}"
   ]
  },
  {
   "cell_type": "code",
   "execution_count": null,
   "metadata": {},
   "outputs": [],
   "source": [
    "#function to make labels\n",
    "def make_labels(df):\n",
    "    for c in df.columns:\n",
    "        if 'concept_id' in c:\n",
    "            df[c.replace('_id', '_label')] = df[c].map(concept_lookup)\n",
    "        if 'concept_id' in c or 'source' in c or len(df[df[c].notna()])==0:\n",
    "            df = df.drop(c, axis=1)\n",
    "    return df"
   ]
  },
  {
   "cell_type": "code",
   "execution_count": null,
   "metadata": {},
   "outputs": [],
   "source": [
    "#\n",
    "care_site_labelled = make_labels(care_site)\n",
    "cohort_filter_labelled = make_labels(cohort_filter)\n",
    "condition_occurrence_labelled = make_labels(condition_occurrence)\n",
    "domain_labelled = make_labels(domain)\n",
    "drug_exposure_labelled = make_labels(drug_exposure)\n",
    "location_labelled = make_labels(location)\n",
    "measurement_labelled = make_labels(measurement)\n",
    "observation_labelled = make_labels(observation)\n",
    "person_labelled = make_labels(person)\n",
    "procedure_occurrence_labelled = make_labels(procedure_occurrence)\n",
    "provider_labelled = make_labels(provider)\n",
    "vocabulary_labelled = make_labels(vocabulary)"
   ]
  },
  {
   "cell_type": "code",
   "execution_count": null,
   "metadata": {},
   "outputs": [],
   "source": [
    "person_code = "
   ]
  },
  {
   "cell_type": "code",
   "execution_count": null,
   "metadata": {},
   "outputs": [],
   "source": [
    "meas_indiv = measurement_labelled.loc[measurement_labelled['person_id']==person_code]"
   ]
  },
  {
   "cell_type": "code",
   "execution_count": null,
   "metadata": {},
   "outputs": [],
   "source": [
    "### measurements\n",
    "meas_weight = meas_indiv.loc[meas_indiv['measurement_concept_label'].isin(['Body weight','Weight change'])]\n",
    "#Merge weight measurements with weight differences from last measurement\n",
    "meas_weight['value_as_number']=meas_weight['value_as_number'].apply(str)\n",
    "meas_grouped = meas_weight.groupby(['measurement_date'])['value_as_number'].transform(lambda x: ' kg,<br>Weight change: '.join(x))\n",
    "meas_weight['value_as_number'] = meas_grouped\n",
    "meas_weight['content'] = 'Body weight: ' + meas_weight['value_as_number'] + ' kg'\n",
    "#Rename columns\n",
    "meas_weight.rename(columns={'measurement_date':'start'}, inplace=True)\n",
    "meas_weight['group'] = 'measurement'\n",
    "meas_weight['className'] = 'measurements'\n",
    "meas_weight.drop_duplicates(subset=['content', 'start'],keep='last',inplace=True)"
   ]
  },
  {
   "cell_type": "code",
   "execution_count": null,
   "metadata": {},
   "outputs": [],
   "source": [
    "meas_indiv"
   ]
  },
  {
   "cell_type": "code",
   "execution_count": null,
   "metadata": {},
   "outputs": [],
   "source": [
    "meas_graphs = meas_indiv.loc[meas_indiv['measurement_concept_label'].isin(['Body surface area', 'Body height', 'Body weight', 'Weight change'])]\n",
    "meas_graphs"
   ]
  },
  {
   "cell_type": "code",
   "execution_count": null,
   "metadata": {},
   "outputs": [],
   "source": [
    "meas_graphs['measurement_concept_label']=meas_graphs['measurement_concept_label'].replace({\n",
    "    'Body weight':'Body weight (kg)', \n",
    "    'Weight change':'Weight change (%)',\n",
    "    'Body height': 'Body height (cm)',\n",
    "    'Body surface area': 'Body surface area (m\\u00B2)'})"
   ]
  },
  {
   "cell_type": "code",
   "execution_count": null,
   "metadata": {},
   "outputs": [],
   "source": [
    "weight_fig = px.scatter(meas_graphs, x=\"measurement_date\", y=\"value_as_number\", \n",
    "facet_col=\"measurement_concept_label\", facet_col_wrap=2,\n",
    "facet_row_spacing=0.1, facet_col_spacing=0.05)\n",
    "weight_fig.update_yaxes(matches=None, showticklabels=True, title=\"\")\n",
    "weight_fig.update_xaxes(title=\"\")\n",
    "weight_fig.for_each_annotation(lambda a: a.update(text=a.text.split(\"=\")[-1]))\n",
    "weight_fig.update_layout(margin=dict(l=0, r=10, t=20, b=10))\n",
    "weight_fig.show()\n",
    "weight_fig.write_html(\"weight-plot.html\", full_html=False, include_plotlyjs=False)"
   ]
  }
 ],
 "metadata": {
  "kernelspec": {
   "display_name": ".venv",
   "language": "python",
   "name": "python3"
  },
  "language_info": {
   "codemirror_mode": {
    "name": "ipython",
    "version": 3
   },
   "file_extension": ".py",
   "mimetype": "text/x-python",
   "name": "python",
   "nbconvert_exporter": "python",
   "pygments_lexer": "ipython3",
   "version": "3.10.10"
  }
 },
 "nbformat": 4,
 "nbformat_minor": 2
}
