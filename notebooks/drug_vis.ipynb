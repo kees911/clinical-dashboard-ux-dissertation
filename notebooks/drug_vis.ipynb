{
 "cells": [
  {
   "cell_type": "code",
   "execution_count": null,
   "metadata": {},
   "outputs": [],
   "source": [
    "#libraries\n",
    "import pandas as pd\n",
    "\n",
    "import numpy as np\n",
    "import datetime as dt\n",
    "pd.set_option(\"display.max_rows\", None)"
   ]
  },
  {
   "cell_type": "code",
   "execution_count": null,
   "metadata": {},
   "outputs": [],
   "source": [
    "#read csv\n",
    "cohort_filter = pd.read_csv('../datasets/COHORT_FILTER.csv')\n",
    "concept = pd.read_csv('../datasets/CONCEPT.csv')\n",
    "condition_occurrence = pd.read_csv('../datasets/CONDITION_OCCURRENCE.csv')\n",
    "drug_exposure = pd.read_csv('../datasets/DRUG_EXPOSURE.csv')\n",
    "person = pd.read_csv('../datasets/PERSON.csv')\n",
    "hierarchy = pd.read_csv('../datasets/hierarchy.csv')\n",
    "props = pd.read_csv('../datasets/hemonc_component_properties.csv')"
   ]
  },
  {
   "cell_type": "code",
   "execution_count": null,
   "metadata": {},
   "outputs": [],
   "source": [
    "#rxnorm = props[props['vocabulary_id']=='RxNorm']\n",
    "\n",
    "#list of valid drug categories from Ivy from RxNorm/HemOnc\n",
    "sact=['Alkylating agent', 'Anti-CD38 antibody', 'Anti-CTLA-4 antibody', 'Anti-TACSTD2 antibody-drug conjugate', 'Anthracycline', 'Antiandrogen', 'Antifolate',\n",
    "'Antimetabolite', 'Antitumor antibiotic', 'Anti-CD52 antibody', 'Anti-CD20 antibody', 'Anti-EGFR antibody', 'Anti-HER2 antibody', 'Anti-CD38 antibody', 'Anti-PD-1 antibody',\n",
    "'Anti-PD-L1 antibody', 'Anti-RANKL antibody', 'Anti-SLAMF7 antibody','Anti-VEGF antibody', 'Aromatase inhibitor', 'Aromatase inhibitorsthird generation',\n",
    "'Biosimilar', 'BRAF inhibitor', 'DNA methyltransferase inhibitor', 'Deoxycytidine analog', 'EGFR inhibitor', 'ERBB 2 inhibitor', 'Estrogen receptor inhibitor',\n",
    "'Folic acid analog', 'Fluoropyrimidine', 'GnRH agonist', 'HDAC inhibitor', 'Human DNA synthesisinhibitor', 'Microtubule inhibitor', 'MTOR inhibitor',\n",
    "'Nitrogen mustard', 'Nitrosourea', 'Neutral', 'PARP inhibitor', 'PARP1 inhibitor', 'PARP2 inhibitor', 'Phenothiazine', 'Platinum agent', 'Proteasome inhibitor',\n",
    "'Purine analog', 'Pyrimidine analog', 'RANK ligand inhibitor', 'Selective estrogen receptor modulator', 'Somatostatin analog', 'T-cell activator',\n",
    "'Targeted therapeutic', 'Taxane', 'Topoisomerase I inhibitor', 'Topoisomerase II inhibitor', 'Triazene', 'Vinca alkaloid', 'Xanthine oxidase inhibitor',\n",
    "'WHO Essential Cancer Medicine']\n",
    "#rxnorm = rxnorm[rxnorm['component_class_name'].isin(sact)]\n",
    "props=props[props['component_class_name'].isin(sact)]\n",
    "antican = props['concept_id_2']\n",
    "drug_exposure=drug_exposure[drug_exposure['drug_concept_id'].isin(antican)]\n",
    "#rxnorm['component_class_name'].value_counts()"
   ]
  },
  {
   "cell_type": "code",
   "execution_count": null,
   "metadata": {},
   "outputs": [],
   "source": [
    "#concept lookup in concept df\n",
    "concept_lookup = {c.concept_id: c.concept_name for c in concept.itertuples()}"
   ]
  },
  {
   "cell_type": "code",
   "execution_count": null,
   "metadata": {},
   "outputs": [],
   "source": [
    "#add labels\n",
    "def make_labels(df):\n",
    "    for c in df.columns:\n",
    "        if 'concept_id' in c:\n",
    "            df[c.replace('_id', '_label')] = df[c].map(concept_lookup)\n",
    "        if 'concept_id' in c or 'source' in c or len(df[df[c].notna()])==0:\n",
    "            df = df.drop(c, axis=1)\n",
    "    return df"
   ]
  },
  {
   "cell_type": "code",
   "execution_count": null,
   "metadata": {},
   "outputs": [],
   "source": [
    "#label the following dfs\n",
    "cohort_filter_labelled = make_labels(cohort_filter)\n",
    "condition_occurrence_labelled = make_labels(condition_occurrence)\n",
    "drug_exposure_labelled = make_labels(drug_exposure)\n",
    "person_labelled = make_labels(person)\n",
    "exclusions = ['dexamethasone']\n",
    "drug_exposure_labelled=drug_exposure_labelled[~drug_exposure_labelled['drug_concept_label'].isin(exclusions)]"
   ]
  },
  {
   "cell_type": "code",
   "execution_count": null,
   "metadata": {},
   "outputs": [],
   "source": [
    "'''# filter only by occurrences of Squamous cell carcinoma, NOS, of glottis\n",
    "glottis = condition_occurrence[condition_occurrence.condition_concept_id==44500236]\n",
    "# patient IDs matching this occurrence\n",
    "glottis_patients = glottis.person_id.tolist()'''"
   ]
  },
  {
   "cell_type": "code",
   "execution_count": null,
   "metadata": {},
   "outputs": [],
   "source": [
    "'''# mask the drug exposures only by people matching the condition\n",
    "mask = drug_exposure_labelled['person_id'].isin(glottis_patients)\n",
    "masked = drug_exposure_labelled[mask]'''"
   ]
  },
  {
   "cell_type": "code",
   "execution_count": null,
   "metadata": {},
   "outputs": [],
   "source": [
    "#reduce DF down to relevant variables for the visualization\n",
    "small = drug_exposure_labelled[['person_id', 'drug_exposure_start_datetime', 'drug_concept_label']]\n",
    "small.fillna('N/A', inplace=True)\n",
    "small = small.drop_duplicates()\n",
    "small_sorted = small.sort_values('drug_concept_label')\n",
    "small['drug_concept_label'] = small_sorted.groupby(['person_id', 'drug_exposure_start_datetime'])['drug_concept_label'].transform(lambda x : ' & '.join(x))\n",
    "#small.head()\n",
    "#small['drug_concept_label'] = small['drug_concept_label'].str.replace('dexamethasone & cisplatin','cisplatin & dexamethasone')\n",
    "#small['drug_concept_label'] = small['drug_concept_label'].str.replace('dexamethasone & cetuximab','cetuximab & dexamethasone')\n",
    "#small['drug_concept_label'] = small['drug_concept_label'].str.replace('dexamethasone & carboplatin','carboplatin & dexamethasone')\n",
    "small_nodup = small.drop_duplicates()\n",
    "small_nodup['drug_concept_label']=small_nodup['drug_concept_label'].str.replace('& ', '&<br>')"
   ]
  },
  {
   "cell_type": "code",
   "execution_count": null,
   "metadata": {},
   "outputs": [],
   "source": [
    "# add new variable for every new drug administration per person\n",
    "readministrations = pd.Series(np.zeros(len(small_nodup),dtype=int),index=small_nodup.index)"
   ]
  },
  {
   "cell_type": "code",
   "execution_count": null,
   "metadata": {},
   "outputs": [],
   "source": [
    "# Loop through all unique ids                                                                                                                                                                                      \n",
    "all_id = small_nodup['person_id'].unique()\n",
    "id_administrations = {}\n",
    "for pid in all_id:\n",
    "    # These are all the times a patient with a given ID has had surgery                                                                                                                                            \n",
    "    patient = small_nodup.loc[small_nodup['person_id']==pid]\n",
    "    administrations_sorted = pd.to_datetime(patient['drug_exposure_start_datetime'], format='%Y-%m-%d %H:%M:%S').sort_values()\n",
    "\n",
    "# This checks if the previous surgery was longer than 180 days ago                                                                                                                                              \n",
    "    frequency = administrations_sorted.diff()<dt.timedelta(days=6000)\n",
    "\n",
    "    # Compute the readmission                                                                                                                                                                                      \n",
    "    n_administrations = [0]\n",
    "    for v in frequency.values[1:]:\n",
    "       n_administrations.append((n_administrations[-1]+1)*v)\n",
    "\n",
    "    # Add these value to the time series                                                                                                                                                                           \n",
    "    readministrations.loc[administrations_sorted.index] = n_administrations\n",
    "\n",
    "small_nodup['readministration'] = readministrations"
   ]
  },
  {
   "cell_type": "code",
   "execution_count": null,
   "metadata": {},
   "outputs": [],
   "source": [
    "#pivot the DF from long to wide\n",
    "pivoted = small_nodup.pivot(index='person_id', columns='readministration', values='drug_concept_label').reset_index()\n",
    "# add the prefix 'drug' to every instance\n",
    "prefixed = pivoted.add_prefix('drug')\n",
    "#remove the word 'drug' from other variables\n",
    "renamed = prefixed.rename(columns={\"drugperson_id\": \"person_id\", \"readministration\":\"index\"})\n",
    "#fill all empty cells with \"N/A\"\n",
    "fillednones = renamed.fillna(\" \")"
   ]
  },
  {
   "cell_type": "code",
   "execution_count": null,
   "metadata": {},
   "outputs": [],
   "source": [
    "#add a value of 1 to all data points for sums in the visualization\n",
    "fillednones[\"value\"] = 1\n",
    "fillednones.head()"
   ]
  },
  {
   "cell_type": "code",
   "execution_count": null,
   "metadata": {},
   "outputs": [],
   "source": [
    "import plotly.express as px\n",
    "import nbformat\n",
    "#wrap text:\n",
    "import textwrap\n",
    "\n",
    "def customwrap(s, width=30):\n",
    "    return \"<br>\".join(textwrap.wrap(s,width=width))\n",
    "\n",
    "df = fillednones\n",
    "'''\n",
    "d0 = df.drug0.map(customwrap)\n",
    "d1 = df.drug1.map(customwrap)\n",
    "d2 = df.drug2.map(customwrap)\n",
    "d3 = df.drug3.map(customwrap)\n",
    "d4 = df.drug4.map(customwrap)\n",
    "d5 = df.drug5.map(customwrap)\n",
    "myvalue = df.value\n",
    "\n",
    "df = pd.DataFrame(\n",
    "    dict(drug0=d0, drug1=d1, drug2=d2, drug3=d3, drug4=d4, drug5=d5, value=myvalue)\n",
    ")'''\n",
    "\n",
    "fig = px.icicle(df, path=[px.Constant('All'),'drug0', 'drug1', 'drug2', 'drug3', 'drug4', 'drug5'], \n",
    "values='value',\n",
    "color='drug0', branchvalues='remainder')\n",
    "fig.update_layout(margin = dict(t=0, l=0, r=0, b=0),hovermode=False,)\n",
    "\n",
    "#set marker colors whose labels are \" \" to transparent\n",
    "marker_colors=list(fig.data[0].marker['colors'])\n",
    "marker_labels=list(fig.data[0]['labels'])\n",
    "new_marker_colors=[\"rgba(0,0,0,0)\" if label==\"\" else color for (color, label) in zip(marker_colors, marker_labels)]\n",
    "marker_colors=new_marker_colors\n",
    "\n",
    "fig.data[0].marker['colors'] = marker_colors\n",
    "fig.show()"
   ]
  },
  {
   "cell_type": "code",
   "execution_count": null,
   "metadata": {},
   "outputs": [],
   "source": [
    "import plotly.express as px\n",
    "import nbformat\n",
    "#wrap text:\n",
    "import textwrap\n",
    "\n",
    "def customwrap(s, width=30):\n",
    "    return \"<br>\".join(textwrap.wrap(s,width=width))\n",
    "\n",
    "df = fillednones\n",
    "\n",
    "fig = px.icicle(df, path=[px.Constant('All'),'drug0', 'drug1', 'drug2', 'drug3', 'drug4', 'drug5'], \n",
    "values='value',\n",
    "color='drug0', branchvalues='total')\n",
    "fig.update_layout(margin = dict(t=0, l=0, r=0, b=0),hovermode=False,)\n",
    "\n",
    "#set marker colors whose labels are \" \" to transparent\n",
    "marker_colors=list(fig.data[0].marker['colors'])\n",
    "marker_labels=list(fig.data[0]['labels'])\n",
    "new_marker_colors=[\"rgba(0,0,0,0)\" if label==\" \" else color for (color, label) in zip(marker_colors, marker_labels)]\n",
    "marker_colors=new_marker_colors\n",
    "\n",
    "fig.data[0].marker['colors'] = marker_colors\n",
    "fig.show()"
   ]
  },
  {
   "cell_type": "code",
   "execution_count": null,
   "metadata": {},
   "outputs": [],
   "source": [
    "'''\n",
    "def customwrap(s, width=30):\n",
    "    return \"<br>\".join(textwrap.wrap(s,width=width))\n",
    "\n",
    "''''''df = fillednones\n",
    "\n",
    "d0=df.drug0.map(customwrap)\n",
    "d1=df.drug1.map(customwrap)\n",
    "d2=df.drug2.map(customwrap)\n",
    "d3=df.drug3.map(customwrap)\n",
    "d4=df.drug4.map(customwrap)\n",
    "d5=df.drug5.map(customwrap)\n",
    "myvalue=df.value\n",
    "\n",
    "df2 = pd.DataFrame(dict(drug0=d0, drug1=d1, drug2=d2, drug3=d3, drug4=d4, drug5=d5, value=myvalue))''''''\n",
    "\n",
    "fig = px.sunburst(df, path=['drug0', 'drug1', 'drug2', 'drug3', 'drug4', 'drug5'], values='value', color='drug0', branchvalues='remainder')\n",
    "fig.update_layout(hovermode=False)\n",
    "\n",
    "#set marker colors whose labels are \" \" to transparent\n",
    "marker_colors=list(fig.data[0].marker['colors'])\n",
    "marker_labels=list(fig.data[0]['labels'])\n",
    "new_marker_colors=[\"rgba(0,0,0,0)\" if label==\"\" else color for (color, label) in zip(marker_colors, marker_labels)]\n",
    "marker_colors=new_marker_colors\n",
    "\n",
    "fig.data[0].marker['colors'] = marker_colors\n",
    "fig.show()\n",
    "fig.write_html(\"plot.html\")\n",
    "'''"
   ]
  },
  {
   "cell_type": "code",
   "execution_count": null,
   "metadata": {},
   "outputs": [],
   "source": [
    "df = fillednones\n",
    "\n",
    "\n",
    "fig = px.sunburst(df, path=[px.Constant('All'),'drug0', 'drug1', 'drug2', 'drug3', 'drug4', 'drug5', 'drug6', 'drug7', 'drug8', 'drug9', 'drug10'], values='value', color='drug0')\n",
    "#fig.update_layout(hovermode=False)\n",
    "\n",
    "#set marker colors whose labels are \" \" to transparent\n",
    "marker_colors=list(fig.data[0].marker['colors'])\n",
    "marker_labels=list(fig.data[0]['labels'])\n",
    "new_marker_colors=[\"rgba(0,0,0,0)\" if label==\" \" else color for (color, label) in zip(marker_colors, marker_labels)]\n",
    "marker_colors=new_marker_colors\n",
    "\n",
    "fig.data[0].marker['colors'] = marker_colors\n",
    "config={'scrollZoom':True}\n",
    "fig.show(config=config)\n",
    "fig.write_html(\"sbplot.html\")"
   ]
  },
  {
   "cell_type": "code",
   "execution_count": null,
   "metadata": {},
   "outputs": [],
   "source": [
    "df.head()"
   ]
  }
 ],
 "metadata": {
  "kernelspec": {
   "display_name": ".venv",
   "language": "python",
   "name": "python3"
  },
  "language_info": {
   "codemirror_mode": {
    "name": "ipython",
    "version": 3
   },
   "file_extension": ".py",
   "mimetype": "text/x-python",
   "name": "python",
   "nbconvert_exporter": "python",
   "pygments_lexer": "ipython3",
   "version": "3.10.10"
  }
 },
 "nbformat": 4,
 "nbformat_minor": 2
}
