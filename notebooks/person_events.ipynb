{
 "cells": [
  {
   "cell_type": "code",
   "execution_count": null,
   "metadata": {},
   "outputs": [],
   "source": [
    "#libraries\n",
    "import pandas as pd\n",
    "import numpy as np\n",
    "import datetime as dt\n",
    "pd.set_option(\"display.max_rows\", None, \"mode.chained_assignment\", None)\n",
    "\n"
   ]
  },
  {
   "cell_type": "code",
   "execution_count": null,
   "metadata": {},
   "outputs": [],
   "source": [
    "# read csv\n",
    "care_site = pd.read_csv('../datasets/CARE_SITE.csv')\n",
    "cohort_filter = pd.read_csv('../datasets/COHORT_FILTER.csv')\n",
    "concept_class= pd.read_csv(\"../datasets/CONCEPT_CLASS.csv\")\n",
    "concept = pd.read_csv(\"../datasets/CONCEPT.csv\")\n",
    "condition_occurrence = pd.read_csv(\"../datasets/CONDITION_OCCURRENCE.csv\")\n",
    "domain = pd.read_csv('../datasets/DOMAIN.csv')\n",
    "drug_exposure = pd.read_csv('../datasets/DRUG_EXPOSURE.csv')\n",
    "location = pd.read_csv('../datasets/LOCATION.csv')\n",
    "measurement = pd.read_csv('../datasets/MEASUREMENT.csv', low_memory=False)\n",
    "observation = pd.read_csv('../datasets/OBSERVATION.csv')\n",
    "person = pd.read_csv('../datasets/PERSON.csv')\n",
    "procedure_occurrence = pd.read_csv('../datasets/PROCEDURE_OCCURRENCE.csv')\n",
    "provider = pd.read_csv('../datasets/PROVIDER.csv')\n",
    "vocabulary = pd.read_csv('../datasets/VOCABULARY.csv')"
   ]
  },
  {
   "cell_type": "code",
   "execution_count": null,
   "metadata": {},
   "outputs": [],
   "source": [
    "#concept lookup in concept df\n",
    "concept_lookup = {c.concept_id: c.concept_name for c in concept.itertuples()}"
   ]
  },
  {
   "cell_type": "code",
   "execution_count": null,
   "metadata": {},
   "outputs": [],
   "source": [
    "#function to make labels\n",
    "def make_labels(df):\n",
    "    for c in df.columns:\n",
    "        if 'concept_id' in c:\n",
    "            df[c.replace('_id', '_label')] = df[c].map(concept_lookup)\n",
    "        if 'concept_id' in c or 'source' in c or len(df[df[c].notna()])==0:\n",
    "            df = df.drop(c, axis=1)\n",
    "    return df"
   ]
  },
  {
   "cell_type": "code",
   "execution_count": null,
   "metadata": {},
   "outputs": [],
   "source": [
    "#\n",
    "care_site_labelled = make_labels(care_site)\n",
    "cohort_filter_labelled = make_labels(cohort_filter)\n",
    "condition_occurrence_labelled = make_labels(condition_occurrence)\n",
    "domain_labelled = make_labels(domain)\n",
    "drug_exposure_labelled = make_labels(drug_exposure)\n",
    "location_labelled = make_labels(location)\n",
    "measurement_labelled = make_labels(measurement)\n",
    "observation_labelled = make_labels(observation)\n",
    "person_labelled = make_labels(person)\n",
    "procedure_occurrence_labelled = make_labels(procedure_occurrence)\n",
    "provider_labelled = make_labels(provider)\n",
    "vocabulary_labelled = make_labels(vocabulary)"
   ]
  },
  {
   "cell_type": "code",
   "execution_count": null,
   "metadata": {},
   "outputs": [],
   "source": [
    "person_code="
   ]
  },
  {
   "cell_type": "code",
   "execution_count": null,
   "metadata": {},
   "outputs": [],
   "source": [
    "cond_indiv = condition_occurrence_labelled.loc[condition_occurrence_labelled['person_id']==person_code]\n",
    "drug_indiv = drug_exposure_labelled.loc[drug_exposure_labelled['person_id']==person_code]\n",
    "meas_indiv = measurement_labelled.loc[measurement_labelled['person_id']==person_code]\n",
    "\n",
    "display(cond_indiv.head())\n",
    "display(drug_indiv.head())\n",
    "display(meas_indiv.head())\n",
    "display(meas_indiv[meas_indiv['measurement_concept_label']=='Body weight'])\n",
    "display(meas_indiv[meas_indiv['measurement_concept_label']=='Weight change'])"
   ]
  },
  {
   "cell_type": "code",
   "execution_count": null,
   "metadata": {},
   "outputs": [],
   "source": [
    "obs_indiv=observation_labelled.loc[observation_labelled['person_id']==person_code]\n",
    "proc_indiv=procedure_occurrence_labelled.loc[procedure_occurrence_labelled['person_id']==person_code]\n",
    "display(obs_indiv.head())\n",
    "display(proc_indiv.head())"
   ]
  },
  {
   "cell_type": "code",
   "execution_count": null,
   "metadata": {},
   "outputs": [],
   "source": [
    "cond_indiv.rename(columns={'condition_start_date':'start', 'condition_end_date':'end'}, inplace=True)\n",
    "cond_indiv['content'] = cond_indiv['condition_type_concept_label'] + ':<br>' + cond_indiv['condition_concept_label']\n",
    "cond_indiv['style'] = 'background-color: #f1aeb5;' #bootstrap $red-200\n",
    "cond_indiv.head()"
   ]
  },
  {
   "cell_type": "code",
   "execution_count": null,
   "metadata": {},
   "outputs": [],
   "source": [
    "drug_indiv.rename(columns={'drug_exposure_start_date':'start', 'drug_exposure_end_date':'end'}, inplace=True)\n",
    "drug_indiv['content'] = drug_indiv['drug_concept_label'] + ', ' + drug_indiv['route_concept_label']\n",
    "drug_indiv['style'] = 'background-color: #a3cfbb;' #bootstrap $green-200\n",
    "drug_indiv.head()"
   ]
  },
  {
   "cell_type": "code",
   "execution_count": null,
   "metadata": {},
   "outputs": [],
   "source": [
    "meas_indiv['measurement_concept_label'].value_counts()"
   ]
  },
  {
   "cell_type": "code",
   "execution_count": null,
   "metadata": {},
   "outputs": [],
   "source": [
    "meas_weight = meas_indiv.loc[meas_indiv['measurement_concept_label'].isin(['Body weight','Weight change'])]\n",
    "#Merge weight measurements with weight differences from last measurement\n",
    "meas_weight['value_as_number']=meas_weight['value_as_number'].apply(str)\n",
    "meas_grouped = meas_weight.groupby(['measurement_date'])['value_as_number'].transform(lambda x: ' kg,<br>Weight change: '.join(x))\n",
    "meas_weight['value_as_number'] = meas_grouped\n",
    "meas_weight['content'] = 'Body weight: ' + meas_weight['value_as_number']\n",
    "#Rename columns\n",
    "meas_weight.rename(columns={'measurement_date':'start'}, inplace=True)\n",
    "meas_weight['style'] = 'background-color: #9ec5fe;' #bootstrap $blue-200\n",
    "meas_weight.head()"
   ]
  },
  {
   "cell_type": "code",
   "execution_count": null,
   "metadata": {},
   "outputs": [],
   "source": [
    "proc_indiv.rename(columns={'procedure_date':'start'}, inplace=True)\n",
    "proc_indiv['content'] = proc_indiv['procedure_type_concept_label'] + ':<br>' + proc_indiv['procedure_concept_label']\n",
    "proc_indiv['style'] = 'background-color: #c5b3e6;' #bootstrap $purple-200\n",
    "proc_indiv.head()"
   ]
  },
  {
   "cell_type": "code",
   "execution_count": null,
   "metadata": {},
   "outputs": [],
   "source": [
    "frames = [cond_indiv, drug_indiv, meas_weight, proc_indiv]\n",
    "tl_events_merged = pd.concat(frames, ignore_index=True, sort=False)\n",
    "tl_events_merged.head()"
   ]
  },
  {
   "cell_type": "code",
   "execution_count": null,
   "metadata": {},
   "outputs": [],
   "source": [
    "tl_event_list = tl_events_merged[['start','end','content','style']]\n",
    "tl_event_list.head()"
   ]
  },
  {
   "cell_type": "code",
   "execution_count": null,
   "metadata": {},
   "outputs": [],
   "source": [
    "tl_event_list['end'] = tl_event_list['end'].fillna(tl_event_list['start'])\n",
    "tl_event_list.head()"
   ]
  }
 ],
 "metadata": {
  "kernelspec": {
   "display_name": ".venv",
   "language": "python",
   "name": "python3"
  },
  "language_info": {
   "codemirror_mode": {
    "name": "ipython",
    "version": 3
   },
   "file_extension": ".py",
   "mimetype": "text/x-python",
   "name": "python",
   "nbconvert_exporter": "python",
   "pygments_lexer": "ipython3",
   "version": "3.10.10"
  }
 },
 "nbformat": 4,
 "nbformat_minor": 2
}
