{
 "cells": [
  {
   "cell_type": "code",
   "execution_count": null,
   "metadata": {},
   "outputs": [],
   "source": [
    "#libraries\n",
    "import pandas as pd\n",
    "import numpy as np\n",
    "import datetime as dt\n",
    "pd.set_option(\"display.max_rows\", None)\n",
    "import plotly.express as px\n",
    "import plotly\n",
    "import plotly.offline\n",
    "import plotly.graph_objs as go\n",
    "import nbformat\n",
    "#wrap text:\n",
    "import textwrap\n",
    "import random"
   ]
  },
  {
   "cell_type": "code",
   "execution_count": null,
   "metadata": {},
   "outputs": [],
   "source": [
    "#read csv\n",
    "concept = pd.read_csv('../datasets/CONCEPT.csv')\n",
    "condition_occurrence = pd.read_csv('../datasets/CONDITION_OCCURRENCE.csv')\n",
    "drug_exposure = pd.read_csv('../datasets/DRUG_EXPOSURE.csv')\n",
    "person = pd.read_csv('../datasets/PERSON.csv')\n",
    "hierarchy = pd.read_csv('../datasets/hierarchy.csv')\n",
    "props = pd.read_csv('../datasets/hemonc_component_properties.csv')"
   ]
  },
  {
   "cell_type": "code",
   "execution_count": null,
   "metadata": {},
   "outputs": [],
   "source": [
    "#list of valid drug categories from Ivy from RxNorm/HemOnc\n",
    "sact=['Alkylating agent', 'Anti-CD38 antibody', 'Anti-CTLA-4 antibody', 'Anti-TACSTD2 antibody-drug conjugate', 'Anthracycline', 'Antiandrogen', 'Antifolate',\n",
    "'Antimetabolite', 'Antitumor antibiotic', 'Anti-CD52 antibody', 'Anti-CD20 antibody', 'Anti-EGFR antibody', 'Anti-HER2 antibody', 'Anti-CD38 antibody', 'Anti-PD-1 antibody',\n",
    "'Anti-PD-L1 antibody', 'Anti-RANKL antibody', 'Anti-SLAMF7 antibody','Anti-VEGF antibody', 'Aromatase inhibitor', 'Aromatase inhibitorsthird generation',\n",
    "'Biosimilar', 'BRAF inhibitor', 'DNA methyltransferase inhibitor', 'Deoxycytidine analog', 'EGFR inhibitor', 'ERBB 2 inhibitor', 'Estrogen receptor inhibitor',\n",
    "'Folic acid analog', 'Fluoropyrimidine', 'GnRH agonist', 'HDAC inhibitor', 'Human DNA synthesisinhibitor', 'Microtubule inhibitor', 'MTOR inhibitor',\n",
    "'Nitrogen mustard', 'Nitrosourea', 'Neutral', 'PARP inhibitor', 'PARP1 inhibitor', 'PARP2 inhibitor', 'Phenothiazine', 'Platinum agent', 'Proteasome inhibitor',\n",
    "'Purine analog', 'Pyrimidine analog', 'RANK ligand inhibitor', 'Selective estrogen receptor modulator', 'Somatostatin analog', 'T-cell activator',\n",
    "'Targeted therapeutic', 'Taxane', 'Topoisomerase I inhibitor', 'Topoisomerase II inhibitor', 'Triazene', 'Vinca alkaloid', 'Xanthine oxidase inhibitor',\n",
    "'WHO Essential Cancer Medicine']\n",
    "#rxnorm = rxnorm[rxnorm['component_class_name'].isin(sact)]\n",
    "props=props[props['component_class_name'].isin(sact)]\n",
    "antican = props['concept_id_2']\n",
    "drug_exposure=drug_exposure[drug_exposure['drug_concept_id'].isin(antican)]\n",
    "#rxnorm['component_class_name'].value_counts()"
   ]
  },
  {
   "cell_type": "code",
   "execution_count": null,
   "metadata": {},
   "outputs": [],
   "source": [
    "#concept lookup in concept df\n",
    "concept_lookup = {c.concept_id: c.concept_name for c in concept.itertuples()}"
   ]
  },
  {
   "cell_type": "code",
   "execution_count": null,
   "metadata": {},
   "outputs": [],
   "source": [
    "#add labels\n",
    "def make_labels(df):\n",
    "    for c in df.columns:\n",
    "        if 'concept_id' in c:\n",
    "            df[c.replace('_id', '_label')] = df[c].map(concept_lookup)\n",
    "        if 'concept_id' in c or 'source' in c or len(df[df[c].notna()])==0:\n",
    "            df = df.drop(c, axis=1)\n",
    "    return df"
   ]
  },
  {
   "cell_type": "code",
   "execution_count": null,
   "metadata": {},
   "outputs": [],
   "source": [
    "#label the following dfs\n",
    "condition_occurrence_labelled = make_labels(condition_occurrence)\n",
    "drug_exposure_labelled = make_labels(drug_exposure)\n",
    "exclusions = ['dexamethasone']\n",
    "drug_exposure_labelled=drug_exposure_labelled[~drug_exposure_labelled['drug_concept_label'].isin(exclusions)]"
   ]
  },
  {
   "cell_type": "code",
   "execution_count": null,
   "metadata": {},
   "outputs": [],
   "source": [
    "'''if required, mask by a particular condition or set of conditions\n",
    "\n",
    "# filter only by occurrences of Squamous cell carcinoma, NOS, of glottis\n",
    "glottis = condition_occurrence[condition_occurrence.condition_concept_id==44500236]\n",
    "# patient IDs matching this occurrence\n",
    "glottis_patients = glottis.person_id.tolist()\n",
    "# mask the drug exposures only by people matching the condition\n",
    "mask = drug_exposure_labelled['person_id'].isin(glottis_patients)\n",
    "masked = drug_exposure_labelled[mask]\n",
    "'''"
   ]
  },
  {
   "cell_type": "code",
   "execution_count": null,
   "metadata": {},
   "outputs": [],
   "source": [
    "#reduce DF down to relevant variables for the visualization\n",
    "small = drug_exposure_labelled[['person_id', 'drug_exposure_start_datetime', 'drug_concept_label']]\n",
    "small = small.dropna()\n",
    "small = small.drop_duplicates()\n",
    "small_sorted = small.sort_values('drug_concept_label')\n",
    "small['drug_concept_label'] = small_sorted.groupby(['person_id', 'drug_exposure_start_datetime'])['drug_concept_label'].transform(lambda x : ' & '.join(x))\n",
    "#small.head()\n",
    "'''small['drug_concept_label'] = small['drug_concept_label'].str.replace('dexamethasone & cisplatin','cisplatin & dexamethasone')\n",
    "small['drug_concept_label'] = small['drug_concept_label'].str.replace('dexamethasone & cetuximab','cetuximab & dexamethasone')\n",
    "small['drug_concept_label'] = small['drug_concept_label'].str.replace('dexamethasone & carboplatin','carboplatin & dexamethasone')'''\n",
    "small_nodup = small_sorted.drop_duplicates()\n",
    "#small_nodup['drug_concept_label']=small_nodup['drug_concept_label'].str.replace('& ', '&<br>')"
   ]
  },
  {
   "cell_type": "code",
   "execution_count": null,
   "metadata": {},
   "outputs": [],
   "source": [
    "# add new variable for every new drug administration per person\n",
    "readministrations = pd.Series(np.zeros(len(small_nodup),dtype=int),index=small_nodup.index)"
   ]
  },
  {
   "cell_type": "code",
   "execution_count": null,
   "metadata": {},
   "outputs": [],
   "source": [
    "# Loop through all unique ids                                                                                                                                                                                      \n",
    "all_id = small_nodup['person_id'].unique()\n",
    "id_administrations = {}\n",
    "for pid in all_id:\n",
    "    # These are all the times a patient with a given ID has had surgery                                                                                                                                            \n",
    "    patient = small_nodup.loc[small_nodup['person_id']==pid]\n",
    "    administrations_sorted = pd.to_datetime(patient['drug_exposure_start_datetime'], format='%Y-%m-%d %H:%M:%S').sort_values()\n",
    "\n",
    "# This checks if the previous surgery was longer than 180 days ago                                                                                                                                              \n",
    "    frequency = administrations_sorted.diff()<dt.timedelta(days=6000)\n",
    "\n",
    "    # Compute the readmission                                                                                                                                                                                      \n",
    "    n_administrations = [0]\n",
    "    for v in frequency.values[1:]:\n",
    "       n_administrations.append((n_administrations[-1]+1)*v)\n",
    "\n",
    "    # Add these value to the time series                                                                                                                                                                           \n",
    "    readministrations.loc[administrations_sorted.index] = n_administrations\n",
    "\n",
    "small_nodup['readministration'] = readministrations"
   ]
  },
  {
   "cell_type": "code",
   "execution_count": null,
   "metadata": {},
   "outputs": [],
   "source": [
    "#pivot the DF from long to wide\n",
    "pivoted = small_nodup.pivot(index='person_id', columns='readministration', values='drug_concept_label').reset_index()\n",
    "# add the prefix 'drug' to every instance\n",
    "prefixed = pivoted.add_prefix('drug')\n",
    "#remove the word 'drug' from other variables\n",
    "renamed = prefixed.rename(columns={\"drugperson_id\": \"person_id\", \"readministration\":\"index\"})\n",
    "#fill all empty cells with \"N/A\"\n",
    "#fillednones = renamed.fillna(\" \")\n",
    "fillednones = renamed"
   ]
  },
  {
   "cell_type": "code",
   "execution_count": null,
   "metadata": {},
   "outputs": [],
   "source": [
    "#add a value of 1 to all data points for sums in the visualization\n",
    "fillednones[\"count\"] = 1\n",
    "fillednones.head()"
   ]
  },
  {
   "cell_type": "code",
   "execution_count": null,
   "metadata": {},
   "outputs": [],
   "source": [
    "df = fillednones"
   ]
  },
  {
   "cell_type": "code",
   "execution_count": null,
   "metadata": {},
   "outputs": [],
   "source": [
    "def genSankey(df, cat_cols=[], value_cols='', title='Sankey Diagram'):\n",
    "    #color palette\n",
    "    #skip\n",
    "    labelList = []\n",
    "    colorNumList = []\n",
    "    for catCol in cat_cols:\n",
    "        labelListTemp = list(set(df[catCol].values))\n",
    "        colorNumList.append(len(labelListTemp))\n",
    "        labelList = labelList + labelListTemp\n",
    "    \n",
    "    #remove duplicates from labelList\n",
    "    labelList = list(dict.fromkeys(labelList))\n",
    "\n",
    "    #define colors based on number of levels\n",
    "    #skip\n",
    "\n",
    "    #transform df into asource-target pair\n",
    "    for i in range(len(cat_cols)-1):\n",
    "        if i==0:\n",
    "            sourceTargetDf = df[[cat_cols[i], cat_cols[i+1], value_cols]]\n",
    "            sourceTargetDf.columns = ['source', 'target', 'count']\n",
    "        else:\n",
    "            tempDf = df[[cat_cols[i], cat_cols[i+1], value_cols]]\n",
    "            tempDf.columns = ['source', 'target', 'count']\n",
    "            sourceTargetDf = pd.concat([sourceTargetDf, tempDf])\n",
    "        sourceTargetDf = sourceTargetDf.groupby(['source','target']).agg({'count':'sum'}).reset_index()\n",
    "    \n",
    "    #add index for source-target pairs\n",
    "    sourceTargetDf['sourceID'] = sourceTargetDf['source'].apply(lambda x:labelList.index(x))\n",
    "    sourceTargetDf['targetID'] = sourceTargetDf['target'].apply(lambda x:labelList.index(x))\n",
    "\n",
    "    nodes = np.unique(sourceTargetDf[[\"sourceID\", \"targetID\"]], axis=None)\n",
    "    nodes = pd.Series(index=nodes, data=range(len(nodes)))\n",
    "\n",
    "    fig = go.Figure(\n",
    "        go.Sankey(\n",
    "            node = {\n",
    "                \"label\": labelList,\n",
    "                \"color\":[\n",
    "                    px.colors.qualitative.Set1[i % 9]\n",
    "                    for i in nodes\n",
    "                ]\n",
    "            },\n",
    "            link = {\n",
    "                \"source\": sourceTargetDf[\"sourceID\"],\n",
    "                \"target\": sourceTargetDf[\"targetID\"],\n",
    "                \"value\": sourceTargetDf[\"count\"],\n",
    "                \"color\": [\n",
    "                    px.colors.qualitative.Pastel1[i % 9]\n",
    "                    for i in nodes.loc[sourceTargetDf[\"sourceID\"]]\n",
    "                ],\n",
    "            },\n",
    "        )\n",
    "    )\n",
    "\n",
    "\n",
    "    return fig\n",
    "\n",
    "'''\n",
    "    #draw the sankey diagram\n",
    "    data= dict(\n",
    "        type='sankey',\n",
    "        node= dict(\n",
    "            pad = 15,\n",
    "            thickness = 20,\n",
    "            line = dict(\n",
    "                color = \"black\",\n",
    "                width = 0.5\n",
    "            ),\n",
    "            label = labelList\n",
    "            #color = colorList\n",
    "        ),\n",
    "        link = dict(\n",
    "            source = sourceTargetDf['sourceID'],\n",
    "            target = sourceTargetDf['targetID'],\n",
    "            value= sourceTargetDf['count']\n",
    "        )\n",
    "    )\n",
    "    layout = dict(\n",
    "        title= title,\n",
    "        font = dict(\n",
    "            size = 12\n",
    "        )\n",
    "    )\n",
    "    \n",
    "    fig = dict(data=[data], layout=layout)\n",
    "'''"
   ]
  },
  {
   "cell_type": "code",
   "execution_count": null,
   "metadata": {},
   "outputs": [],
   "source": [
    "#run the sankey function\n",
    "fig = genSankey(df, cat_cols=['drug0','drug1','drug2','drug3','drug4','drug5','drug6','drug7','drug8','drug9','drug10','drug11','drug12','drug13','drug14','drug15','drug16','drug17','drug18','drug19'], value_cols='count', title='Sankey Diagram')\n",
    "fig.update_layout(margin = dict(l=0, r=0, t=0, b=0))\n",
    "plotly.offline.plot(fig, validate=False)"
   ]
  }
 ],
 "metadata": {
  "kernelspec": {
   "display_name": ".venv",
   "language": "python",
   "name": "python3"
  },
  "language_info": {
   "codemirror_mode": {
    "name": "ipython",
    "version": 3
   },
   "file_extension": ".py",
   "mimetype": "text/x-python",
   "name": "python",
   "nbconvert_exporter": "python",
   "pygments_lexer": "ipython3",
   "version": "3.10.10"
  }
 },
 "nbformat": 4,
 "nbformat_minor": 2
}
