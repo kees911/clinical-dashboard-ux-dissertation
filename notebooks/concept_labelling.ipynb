{
 "cells": [
  {
   "cell_type": "code",
   "execution_count": null,
   "metadata": {},
   "outputs": [],
   "source": [
    "# libraries\n",
    "import pandas as pd\n",
    "import numpy as np"
   ]
  },
  {
   "cell_type": "code",
   "execution_count": null,
   "metadata": {},
   "outputs": [],
   "source": [
    "# read csv\n",
    "care_site = pd.read_csv('../datasets/CARE_SITE.csv')\n",
    "cohort_filter = pd.read_csv('../datasets/COHORT_FILTER.csv')\n",
    "concept_class= pd.read_csv('../datasets/CONCEPT_CLASS.csv')\n",
    "concept = pd.read_csv('../datasets/CONCEPT.csv')\n",
    "condition_occurrence = pd.read_csv('../datasets/CONDITION_OCCURRENCE.csv')\n",
    "domain = pd.read_csv('../datasets/DOMAIN.csv')\n",
    "drug_exposure = pd.read_csv('../datasets/DRUG_EXPOSURE.csv')\n",
    "location = pd.read_csv('../datasets/LOCATION.csv')\n",
    "measurement = pd.read_csv('../datasets/MEASUREMENT.csv', low_memory=False)\n",
    "observation = pd.read_csv('../datasets/OBSERVATION.csv')\n",
    "person = pd.read_csv('../datasets/PERSON.csv')\n",
    "procedure_occurrence = pd.read_csv('../datasets/PROCEDURE_OCCURRENCE.csv')\n",
    "provider = pd.read_csv('../datasets/PROVIDER.csv')\n",
    "vocabulary = pd.read_csv('../datasets/VOCABULARY.csv')"
   ]
  },
  {
   "cell_type": "code",
   "execution_count": null,
   "metadata": {},
   "outputs": [],
   "source": [
    "condition_occurrence['condition_source_value'].value_counts()"
   ]
  },
  {
   "cell_type": "code",
   "execution_count": null,
   "metadata": {},
   "outputs": [],
   "source": []
  },
  {
   "cell_type": "code",
   "execution_count": null,
   "metadata": {},
   "outputs": [],
   "source": [
    "concept_lookup = {c.concept_id: c.concept_name for c in concept.itertuples()}"
   ]
  },
  {
   "cell_type": "code",
   "execution_count": null,
   "metadata": {},
   "outputs": [],
   "source": [
    "def make_labels(df):\n",
    "    for c in df.columns:\n",
    "        if 'concept_id' in c:\n",
    "            df[c.replace('_id', '_label')] = df[c].map(concept_lookup)\n",
    "        if 'concept_id' in c or 'source' in c or len(df[df[c].notna()])==0:\n",
    "            df = df.drop(c, axis=1)\n",
    "    return df"
   ]
  },
  {
   "cell_type": "code",
   "execution_count": null,
   "metadata": {},
   "outputs": [],
   "source": [
    "care_site_labelled = make_labels(care_site)\n",
    "cohort_filter_labelled = make_labels(cohort_filter)\n",
    "condition_occurrence_labelled = make_labels(condition_occurrence)\n",
    "domain_labelled = make_labels(domain)\n",
    "drug_exposure_labelled = make_labels(drug_exposure)\n",
    "location_labelled = make_labels(location)\n",
    "measurement_labelled = make_labels(measurement)\n",
    "observation_labelled = make_labels(observation)\n",
    "person_labelled = make_labels(person)\n",
    "procedure_occurrence_labelled = make_labels(procedure_occurrence)\n",
    "provider_labelled = make_labels(provider)\n",
    "vocabulary_labelled = make_labels(vocabulary)"
   ]
  },
  {
   "cell_type": "code",
   "execution_count": null,
   "metadata": {},
   "outputs": [],
   "source": [
    "drug_exposure_labelled.head()"
   ]
  },
  {
   "cell_type": "code",
   "execution_count": null,
   "metadata": {},
   "outputs": [],
   "source": [
    "concept2 = concept.copy()\n",
    "concept2['drug_concept_id'] = concept2['concept_id']\n",
    "drug_merged = pd.merge(drug_exposure, concept2, on=\"drug_concept_id\", how=\"left\")\n",
    "\n",
    "\n",
    "#ingredient\n",
    "drug_merged_labelled = make_labels(drug_merged)\n",
    "drug_merged_labelled.head()"
   ]
  },
  {
   "cell_type": "code",
   "execution_count": null,
   "metadata": {},
   "outputs": [],
   "source": [
    "drug_merged_labelled = drug_merged_labelled.loc[drug_merged_labelled['quantity']>0]\n",
    "#look for concept id = ingredient\n",
    "drug_merged_labelled.head()"
   ]
  },
  {
   "cell_type": "code",
   "execution_count": null,
   "metadata": {},
   "outputs": [],
   "source": []
  },
  {
   "cell_type": "code",
   "execution_count": null,
   "metadata": {},
   "outputs": [],
   "source": [
    "care_site_labelled.head()"
   ]
  },
  {
   "cell_type": "code",
   "execution_count": null,
   "metadata": {},
   "outputs": [],
   "source": [
    "cohort_filter_labelled.head()"
   ]
  },
  {
   "cell_type": "code",
   "execution_count": null,
   "metadata": {},
   "outputs": [],
   "source": [
    "condition_occurrence_labelled.head()"
   ]
  },
  {
   "cell_type": "code",
   "execution_count": null,
   "metadata": {},
   "outputs": [],
   "source": [
    "domain_labelled.head()"
   ]
  },
  {
   "cell_type": "code",
   "execution_count": null,
   "metadata": {},
   "outputs": [],
   "source": [
    "drug_exposure_labelled.head()"
   ]
  },
  {
   "cell_type": "code",
   "execution_count": null,
   "metadata": {},
   "outputs": [],
   "source": [
    "location_labelled.head()"
   ]
  },
  {
   "cell_type": "code",
   "execution_count": null,
   "metadata": {},
   "outputs": [],
   "source": [
    "measurement_labelled.head()"
   ]
  },
  {
   "cell_type": "code",
   "execution_count": null,
   "metadata": {},
   "outputs": [],
   "source": [
    "observation_labelled.head()"
   ]
  },
  {
   "cell_type": "code",
   "execution_count": null,
   "metadata": {},
   "outputs": [],
   "source": [
    "person_labelled.head()"
   ]
  },
  {
   "cell_type": "code",
   "execution_count": null,
   "metadata": {},
   "outputs": [],
   "source": [
    "procedure_occurrence_labelled.head()"
   ]
  },
  {
   "cell_type": "code",
   "execution_count": null,
   "metadata": {},
   "outputs": [],
   "source": [
    "provider_labelled.head()"
   ]
  },
  {
   "cell_type": "code",
   "execution_count": null,
   "metadata": {},
   "outputs": [],
   "source": [
    "vocabulary_labelled.head()"
   ]
  },
  {
   "cell_type": "code",
   "execution_count": null,
   "metadata": {},
   "outputs": [],
   "source": [
    "condition_occurrence_labelled['condition_concept_label'].value_counts()"
   ]
  },
  {
   "cell_type": "code",
   "execution_count": null,
   "metadata": {},
   "outputs": [],
   "source": [
    "condition_occurrence['condition_concept_id'].value_counts()"
   ]
  }
 ],
 "metadata": {
  "kernelspec": {
   "display_name": ".venv",
   "language": "python",
   "name": "python3"
  },
  "language_info": {
   "codemirror_mode": {
    "name": "ipython",
    "version": 3
   },
   "file_extension": ".py",
   "mimetype": "text/x-python",
   "name": "python",
   "nbconvert_exporter": "python",
   "pygments_lexer": "ipython3",
   "version": "3.10.10"
  }
 },
 "nbformat": 4,
 "nbformat_minor": 2
}
